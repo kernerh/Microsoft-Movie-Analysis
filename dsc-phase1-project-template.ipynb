{
 "cells": [
  {
   "cell_type": "markdown",
   "metadata": {},
   "source": [
    "![example](images/director_shot.jpeg)"
   ]
  },
  {
   "cell_type": "markdown",
   "metadata": {},
   "source": [
    "# Microsoft Movie Analysis\n",
    "\n",
    "**Author:** Hana Kerner\n",
    "***"
   ]
  },
  {
   "cell_type": "markdown",
   "metadata": {},
   "source": [
    "## Overview\n",
    "\n",
    "\n",
    "Microsoft has shown interest in entering the original video content scene, and would like to create a new movie studio. We have been tasked with investigating current and historical trends within the industry to best advise Microsoft on the best route forward. We have used data from IMDB, The Numbers, and Box Office Mojo, while analyzing data from other sources as well. Our method parses through data of over 75,000 movies, and includes cleaning, preapring, and presenting the data using descriptive analysis. The following analysis will use return on investment (ROI) as the main barometer to the measure success of a film. \n",
    "\n",
    "The characteristics and trends that we will be forming recommendations around include: \n",
    "\n",
    "- Actors\n",
    "- Directors\n",
    "- Writers\n",
    "- Budget \n",
    "- Release Month \n",
    "- Runtime \n",
    "- Studio"
   ]
  },
  {
   "cell_type": "markdown",
   "metadata": {},
   "source": [
    "## Business Problem\n",
    "\n",
    "We are looking to create actionable insights for Microsoft pertaining to the attributes of films that will provide the company with the greatest return on investment. \n",
    "***\n",
    "The analysis below aims to answer the following questions:\n",
    "\n",
    "1. What personnel will generate the greatest return on investment for Microsoft?\n",
    "\n",
    "Things to consider include:\n",
    "* Which actors appear most frequently in films with high return? Which directors? Writers?\n",
    "* Which actors create the highest average return with their films? Directors? Writers?\n",
    "        \n",
    "2. What budget bracket is most likely to lead to a high return film?\n",
    "\n",
    "Things to consider include:\n",
    "* How does budget relate to worldwide gross?\n",
    "* Is there a point where return seems to either drop or increase, as budget is increased?\n",
    "\n",
    "3. What other film attributes have the potential to impact our return?\n",
    "\n",
    "Things to consider include: \n",
    "* How does runtime relate to return? Does this vary much among films?\n",
    "* How does release month relate to return? Is there a month that is most common for release?\n",
    "* How does studio relate to return? Does one create superior returns than its counterparts?\n",
    "***\n",
    "These questions are crucial in deciding how we will advise Microsoft to move forward, as we will have a better understanding of the industry, and thus, an understanding of what they should focus on to see the greatest possible returns. "
   ]
  },
  {
   "cell_type": "markdown",
   "metadata": {},
   "source": [
    "## Data Understanding\n",
    "\n",
    "We are working movie datasets from 3 separate sources:\n",
    "\n",
    "1. [Box Office Mojo](https://www.boxofficemojo.com/): each record represents a film, with attributes of that film (e.g. `domestic_gross`). Studio information will be most useful to us here, helping to answer our third question.\n",
    "\n",
    "\n",
    "2. [IMDB](https://www.imdb.com/): this database contains multiple tables relating to movie attributes, ratings, and personnel. The `movie_basics`, `principals`, `persons`, `directors`, and `writers` tables will all be useful to us in answering our first question. The `movie_basics` table will also help us answer our third question relating to `runtime_minutes`.\n",
    "\n",
    "\n",
    "3. [The Numbers](https://www.the-numbers.com/): each record represents a film, with attributes of that film (e.g. `production_budget`). The budget and grossing columns are measured in dollars. The `worldwide_grossing` and `production_budget` attributes will be particularly useful to us in creating our ROI column to measure film success. This dataset will help us answer our questions relating to ROI. It will also be useful in answering our second question revolving around the budget, and our third question relating to release month. \n",
    "\n",
    "The data above is contained in different formats. The Box Office Mojo data is a compressed CSV (comma-separated-values) file, so below we are able to open it using the `pd.read_csv` function in pandas. We can open The Numbers data using this same method, however, the IMDB is located in a zipped SQLite database. So for that, we unzip, and then query after making the connection to the file using `sqlite3.connect` function in sqlite3. \n",
    "***\n",
    "We also briefly open and look at two other datasets, shown below, but ultimately, the data that these two datasets contain are either repetitive of the data above, or not relevant to our particular analyses. \n",
    "\n",
    "[TheMovieDB](https://www.themoviedb.org/)\n",
    "\n",
    "[Rotten Tomatoes](https://www.rottentomatoes.com/)\n",
    "\n",
    "\n",
    "***"
   ]
  },
  {
   "cell_type": "markdown",
   "metadata": {},
   "source": [
    "### Import and Describe Data \n",
    "***"
   ]
  },
  {
   "cell_type": "code",
   "execution_count": 1,
   "metadata": {},
   "outputs": [],
   "source": [
    "# Import standard packages\n",
    "import pandas as pd\n",
    "import numpy as np\n",
    "import matplotlib.pyplot as plt\n",
    "import seaborn as sns\n",
    "\n",
    "# Display plot outputs \n",
    "%matplotlib inline"
   ]
  },
  {
   "cell_type": "code",
   "execution_count": 2,
   "metadata": {},
   "outputs": [
    {
     "data": {
      "text/html": [
       "<div>\n",
       "<style scoped>\n",
       "    .dataframe tbody tr th:only-of-type {\n",
       "        vertical-align: middle;\n",
       "    }\n",
       "\n",
       "    .dataframe tbody tr th {\n",
       "        vertical-align: top;\n",
       "    }\n",
       "\n",
       "    .dataframe thead th {\n",
       "        text-align: right;\n",
       "    }\n",
       "</style>\n",
       "<table border=\"1\" class=\"dataframe\">\n",
       "  <thead>\n",
       "    <tr style=\"text-align: right;\">\n",
       "      <th></th>\n",
       "      <th>title</th>\n",
       "      <th>studio</th>\n",
       "      <th>domestic_gross</th>\n",
       "      <th>foreign_gross</th>\n",
       "      <th>year</th>\n",
       "    </tr>\n",
       "  </thead>\n",
       "  <tbody>\n",
       "    <tr>\n",
       "      <th>0</th>\n",
       "      <td>Toy Story 3</td>\n",
       "      <td>BV</td>\n",
       "      <td>415000000.0</td>\n",
       "      <td>652000000</td>\n",
       "      <td>2010</td>\n",
       "    </tr>\n",
       "    <tr>\n",
       "      <th>1</th>\n",
       "      <td>Alice in Wonderland (2010)</td>\n",
       "      <td>BV</td>\n",
       "      <td>334200000.0</td>\n",
       "      <td>691300000</td>\n",
       "      <td>2010</td>\n",
       "    </tr>\n",
       "    <tr>\n",
       "      <th>2</th>\n",
       "      <td>Harry Potter and the Deathly Hallows Part 1</td>\n",
       "      <td>WB</td>\n",
       "      <td>296000000.0</td>\n",
       "      <td>664300000</td>\n",
       "      <td>2010</td>\n",
       "    </tr>\n",
       "    <tr>\n",
       "      <th>3</th>\n",
       "      <td>Inception</td>\n",
       "      <td>WB</td>\n",
       "      <td>292600000.0</td>\n",
       "      <td>535700000</td>\n",
       "      <td>2010</td>\n",
       "    </tr>\n",
       "    <tr>\n",
       "      <th>4</th>\n",
       "      <td>Shrek Forever After</td>\n",
       "      <td>P/DW</td>\n",
       "      <td>238700000.0</td>\n",
       "      <td>513900000</td>\n",
       "      <td>2010</td>\n",
       "    </tr>\n",
       "  </tbody>\n",
       "</table>\n",
       "</div>"
      ],
      "text/plain": [
       "                                         title studio  domestic_gross  \\\n",
       "0                                  Toy Story 3     BV     415000000.0   \n",
       "1                   Alice in Wonderland (2010)     BV     334200000.0   \n",
       "2  Harry Potter and the Deathly Hallows Part 1     WB     296000000.0   \n",
       "3                                    Inception     WB     292600000.0   \n",
       "4                          Shrek Forever After   P/DW     238700000.0   \n",
       "\n",
       "  foreign_gross  year  \n",
       "0     652000000  2010  \n",
       "1     691300000  2010  \n",
       "2     664300000  2010  \n",
       "3     535700000  2010  \n",
       "4     513900000  2010  "
      ]
     },
     "execution_count": 2,
     "metadata": {},
     "output_type": "execute_result"
    }
   ],
   "source": [
    "# Use pandas function read_csv to open up the file from our zipped folder \n",
    "# Use zipped Data folder path and turn into a dataframe to better see file contents\n",
    "\n",
    "df_bom_data = pd.read_csv(\"zippedData/bom.movie_gross.csv.gz\")\n",
    "df_bom_data.head()"
   ]
  },
  {
   "cell_type": "markdown",
   "metadata": {},
   "source": [
    "Next we will use the `.info()` function learn more about the data structure. So far, we can see that this is a dataframe of movies, consisting of their studio, domestic gross, foreign gross, and year. We know we want to analyze if studio has an impact on Return on Investment, so this dataset may be useful for that."
   ]
  },
  {
   "cell_type": "code",
   "execution_count": 3,
   "metadata": {
    "scrolled": true
   },
   "outputs": [
    {
     "name": "stdout",
     "output_type": "stream",
     "text": [
      "<class 'pandas.core.frame.DataFrame'>\n",
      "RangeIndex: 3387 entries, 0 to 3386\n",
      "Data columns (total 5 columns):\n",
      " #   Column          Non-Null Count  Dtype  \n",
      "---  ------          --------------  -----  \n",
      " 0   title           3387 non-null   object \n",
      " 1   studio          3382 non-null   object \n",
      " 2   domestic_gross  3359 non-null   float64\n",
      " 3   foreign_gross   2037 non-null   object \n",
      " 4   year            3387 non-null   int64  \n",
      "dtypes: float64(1), int64(1), object(3)\n",
      "memory usage: 132.4+ KB\n"
     ]
    }
   ],
   "source": [
    "df_bom_data.info()"
   ]
  },
  {
   "cell_type": "markdown",
   "metadata": {},
   "source": [
    "There are 3,387 rows of data here, with 5 columns. Since the Non-Null Count is fewer than 3,387 in the `studio`, `domestic_gross`, and `foreign_gross` columns, we know that we are missing values here. We will be mindful in handling this when it comes to data cleaning. We can see that we have different data types. `title`, `studio`, and `foreign_gross` are objects. `domestic_gross` and `year` are floats and integers, respectively. If we use the `foreign_gross` column, we will want to change its data type to float so we can use it for statistical analyses."
   ]
  },
  {
   "cell_type": "markdown",
   "metadata": {},
   "source": [
    "We will continue down the line of our zipped data, next looking at the zipped imdb file."
   ]
  },
  {
   "cell_type": "code",
   "execution_count": 4,
   "metadata": {},
   "outputs": [],
   "source": [
    "# We have been instructed to use sqlite to unzip & query this database\n",
    "# First we will unzip by importing zipfile and extracting the data \n",
    "\n",
    "import zipfile\n",
    "with zipfile.ZipFile(\"zippedData/im.db.zip\", 'r') as zip_imbd:\n",
    "    zip_imbd.extractall('zippedData')"
   ]
  },
  {
   "cell_type": "code",
   "execution_count": 5,
   "metadata": {},
   "outputs": [],
   "source": [
    "# We then import sqlite to make the connection to the unzipped file\n",
    "\n",
    "import sqlite3\n",
    "conn = sqlite3.connect('zippedData/im.db')"
   ]
  },
  {
   "cell_type": "code",
   "execution_count": 6,
   "metadata": {},
   "outputs": [],
   "source": [
    "# Safe check to call on the cursor object to see the table names\n",
    "\n",
    "cur = conn.cursor()"
   ]
  },
  {
   "cell_type": "code",
   "execution_count": 7,
   "metadata": {},
   "outputs": [
    {
     "data": {
      "text/plain": [
       "[('movie_basics',),\n",
       " ('directors',),\n",
       " ('known_for',),\n",
       " ('movie_akas',),\n",
       " ('movie_ratings',),\n",
       " ('persons',),\n",
       " ('principals',),\n",
       " ('writers',)]"
      ]
     },
     "execution_count": 7,
     "metadata": {},
     "output_type": "execute_result"
    }
   ],
   "source": [
    "# Execute a query to make sure everything was imported properly and confirm table names \n",
    "cur.execute(\"\"\"SELECT name FROM sqlite_master WHERE type = 'table';\"\"\")\n",
    "\n",
    "# Fetch the result and store it in table_names\n",
    "table_names = cur.fetchall()\n",
    "table_names"
   ]
  },
  {
   "cell_type": "code",
   "execution_count": 8,
   "metadata": {
    "scrolled": true
   },
   "outputs": [
    {
     "data": {
      "text/html": [
       "<div>\n",
       "<style scoped>\n",
       "    .dataframe tbody tr th:only-of-type {\n",
       "        vertical-align: middle;\n",
       "    }\n",
       "\n",
       "    .dataframe tbody tr th {\n",
       "        vertical-align: top;\n",
       "    }\n",
       "\n",
       "    .dataframe thead th {\n",
       "        text-align: right;\n",
       "    }\n",
       "</style>\n",
       "<table border=\"1\" class=\"dataframe\">\n",
       "  <thead>\n",
       "    <tr style=\"text-align: right;\">\n",
       "      <th></th>\n",
       "      <th>movie_id</th>\n",
       "      <th>primary_title</th>\n",
       "      <th>original_title</th>\n",
       "      <th>start_year</th>\n",
       "      <th>runtime_minutes</th>\n",
       "      <th>genres</th>\n",
       "    </tr>\n",
       "  </thead>\n",
       "  <tbody>\n",
       "    <tr>\n",
       "      <th>0</th>\n",
       "      <td>tt0063540</td>\n",
       "      <td>Sunghursh</td>\n",
       "      <td>Sunghursh</td>\n",
       "      <td>2013</td>\n",
       "      <td>175.0</td>\n",
       "      <td>Action,Crime,Drama</td>\n",
       "    </tr>\n",
       "    <tr>\n",
       "      <th>1</th>\n",
       "      <td>tt0066787</td>\n",
       "      <td>One Day Before the Rainy Season</td>\n",
       "      <td>Ashad Ka Ek Din</td>\n",
       "      <td>2019</td>\n",
       "      <td>114.0</td>\n",
       "      <td>Biography,Drama</td>\n",
       "    </tr>\n",
       "    <tr>\n",
       "      <th>2</th>\n",
       "      <td>tt0069049</td>\n",
       "      <td>The Other Side of the Wind</td>\n",
       "      <td>The Other Side of the Wind</td>\n",
       "      <td>2018</td>\n",
       "      <td>122.0</td>\n",
       "      <td>Drama</td>\n",
       "    </tr>\n",
       "    <tr>\n",
       "      <th>3</th>\n",
       "      <td>tt0069204</td>\n",
       "      <td>Sabse Bada Sukh</td>\n",
       "      <td>Sabse Bada Sukh</td>\n",
       "      <td>2018</td>\n",
       "      <td>NaN</td>\n",
       "      <td>Comedy,Drama</td>\n",
       "    </tr>\n",
       "    <tr>\n",
       "      <th>4</th>\n",
       "      <td>tt0100275</td>\n",
       "      <td>The Wandering Soap Opera</td>\n",
       "      <td>La Telenovela Errante</td>\n",
       "      <td>2017</td>\n",
       "      <td>80.0</td>\n",
       "      <td>Comedy,Drama,Fantasy</td>\n",
       "    </tr>\n",
       "  </tbody>\n",
       "</table>\n",
       "</div>"
      ],
      "text/plain": [
       "    movie_id                    primary_title              original_title  \\\n",
       "0  tt0063540                        Sunghursh                   Sunghursh   \n",
       "1  tt0066787  One Day Before the Rainy Season             Ashad Ka Ek Din   \n",
       "2  tt0069049       The Other Side of the Wind  The Other Side of the Wind   \n",
       "3  tt0069204                  Sabse Bada Sukh             Sabse Bada Sukh   \n",
       "4  tt0100275         The Wandering Soap Opera       La Telenovela Errante   \n",
       "\n",
       "   start_year  runtime_minutes                genres  \n",
       "0        2013            175.0    Action,Crime,Drama  \n",
       "1        2019            114.0       Biography,Drama  \n",
       "2        2018            122.0                 Drama  \n",
       "3        2018              NaN          Comedy,Drama  \n",
       "4        2017             80.0  Comedy,Drama,Fantasy  "
      ]
     },
     "execution_count": 8,
     "metadata": {},
     "output_type": "execute_result"
    }
   ],
   "source": [
    "# Get a preview of the data from the movie_basics table \n",
    "\n",
    "query =  \"\"\"\n",
    "SELECT \n",
    "* FROM \n",
    "movie_basics\n",
    "\"\"\"\n",
    "\n",
    "movie_basics = pd.read_sql(query, conn) \n",
    "movie_basics.head()"
   ]
  },
  {
   "cell_type": "markdown",
   "metadata": {},
   "source": [
    "We can see that this table has the `movie_id`, `primary_title`, `original_title`, `start_year`, `runtime_minutes`, and `genres`. This will be helpful to link to other tables with the `movie_id` key, and helpful to analyze the `runtime_minutes` for our third question and reocommendation. We can already see some null values which we will look at in more depth below. "
   ]
  },
  {
   "cell_type": "code",
   "execution_count": 9,
   "metadata": {},
   "outputs": [
    {
     "name": "stdout",
     "output_type": "stream",
     "text": [
      "<class 'pandas.core.frame.DataFrame'>\n",
      "RangeIndex: 146144 entries, 0 to 146143\n",
      "Data columns (total 6 columns):\n",
      " #   Column           Non-Null Count   Dtype  \n",
      "---  ------           --------------   -----  \n",
      " 0   movie_id         146144 non-null  object \n",
      " 1   primary_title    146144 non-null  object \n",
      " 2   original_title   146123 non-null  object \n",
      " 3   start_year       146144 non-null  int64  \n",
      " 4   runtime_minutes  114405 non-null  float64\n",
      " 5   genres           140736 non-null  object \n",
      "dtypes: float64(1), int64(1), object(4)\n",
      "memory usage: 6.7+ MB\n"
     ]
    }
   ],
   "source": [
    "# Use .info() method \n",
    "\n",
    "movie_basics.info()"
   ]
  },
  {
   "cell_type": "markdown",
   "metadata": {},
   "source": [
    "This table has 146,144 rows, and 6 columns. We can see that `original_title`, `runtime_minutes`, and `genres` may be missing some values. It looks like the data types are what we would want them to be for each column."
   ]
  },
  {
   "cell_type": "code",
   "execution_count": 10,
   "metadata": {},
   "outputs": [
    {
     "data": {
      "text/html": [
       "<div>\n",
       "<style scoped>\n",
       "    .dataframe tbody tr th:only-of-type {\n",
       "        vertical-align: middle;\n",
       "    }\n",
       "\n",
       "    .dataframe tbody tr th {\n",
       "        vertical-align: top;\n",
       "    }\n",
       "\n",
       "    .dataframe thead th {\n",
       "        text-align: right;\n",
       "    }\n",
       "</style>\n",
       "<table border=\"1\" class=\"dataframe\">\n",
       "  <thead>\n",
       "    <tr style=\"text-align: right;\">\n",
       "      <th></th>\n",
       "      <th>movie_id</th>\n",
       "      <th>averagerating</th>\n",
       "      <th>numvotes</th>\n",
       "    </tr>\n",
       "  </thead>\n",
       "  <tbody>\n",
       "    <tr>\n",
       "      <th>0</th>\n",
       "      <td>tt10356526</td>\n",
       "      <td>8.3</td>\n",
       "      <td>31</td>\n",
       "    </tr>\n",
       "    <tr>\n",
       "      <th>1</th>\n",
       "      <td>tt10384606</td>\n",
       "      <td>8.9</td>\n",
       "      <td>559</td>\n",
       "    </tr>\n",
       "    <tr>\n",
       "      <th>2</th>\n",
       "      <td>tt1042974</td>\n",
       "      <td>6.4</td>\n",
       "      <td>20</td>\n",
       "    </tr>\n",
       "    <tr>\n",
       "      <th>3</th>\n",
       "      <td>tt1043726</td>\n",
       "      <td>4.2</td>\n",
       "      <td>50352</td>\n",
       "    </tr>\n",
       "    <tr>\n",
       "      <th>4</th>\n",
       "      <td>tt1060240</td>\n",
       "      <td>6.5</td>\n",
       "      <td>21</td>\n",
       "    </tr>\n",
       "  </tbody>\n",
       "</table>\n",
       "</div>"
      ],
      "text/plain": [
       "     movie_id  averagerating  numvotes\n",
       "0  tt10356526            8.3        31\n",
       "1  tt10384606            8.9       559\n",
       "2   tt1042974            6.4        20\n",
       "3   tt1043726            4.2     50352\n",
       "4   tt1060240            6.5        21"
      ]
     },
     "execution_count": 10,
     "metadata": {},
     "output_type": "execute_result"
    }
   ],
   "source": [
    "# Preview data from the movie_ratings table \n",
    "\n",
    "query =  \"\"\"\n",
    "SELECT \n",
    "* FROM \n",
    "movie_ratings\n",
    "\"\"\"\n",
    "\n",
    "movie_ratings = pd.read_sql(query, conn) \n",
    "movie_ratings.head()"
   ]
  },
  {
   "cell_type": "markdown",
   "metadata": {},
   "source": [
    "This table labels the movie by `movie_id` and also has its average rating and the number of votes that each movie received. Since we are not using rating in our analysis, we probably will not use this table. "
   ]
  },
  {
   "cell_type": "code",
   "execution_count": 11,
   "metadata": {},
   "outputs": [
    {
     "data": {
      "text/html": [
       "<div>\n",
       "<style scoped>\n",
       "    .dataframe tbody tr th:only-of-type {\n",
       "        vertical-align: middle;\n",
       "    }\n",
       "\n",
       "    .dataframe tbody tr th {\n",
       "        vertical-align: top;\n",
       "    }\n",
       "\n",
       "    .dataframe thead th {\n",
       "        text-align: right;\n",
       "    }\n",
       "</style>\n",
       "<table border=\"1\" class=\"dataframe\">\n",
       "  <thead>\n",
       "    <tr style=\"text-align: right;\">\n",
       "      <th></th>\n",
       "      <th>movie_id</th>\n",
       "      <th>person_id</th>\n",
       "    </tr>\n",
       "  </thead>\n",
       "  <tbody>\n",
       "    <tr>\n",
       "      <th>0</th>\n",
       "      <td>tt0285252</td>\n",
       "      <td>nm0899854</td>\n",
       "    </tr>\n",
       "    <tr>\n",
       "      <th>1</th>\n",
       "      <td>tt0462036</td>\n",
       "      <td>nm1940585</td>\n",
       "    </tr>\n",
       "    <tr>\n",
       "      <th>2</th>\n",
       "      <td>tt0835418</td>\n",
       "      <td>nm0151540</td>\n",
       "    </tr>\n",
       "    <tr>\n",
       "      <th>3</th>\n",
       "      <td>tt0835418</td>\n",
       "      <td>nm0151540</td>\n",
       "    </tr>\n",
       "    <tr>\n",
       "      <th>4</th>\n",
       "      <td>tt0878654</td>\n",
       "      <td>nm0089502</td>\n",
       "    </tr>\n",
       "  </tbody>\n",
       "</table>\n",
       "</div>"
      ],
      "text/plain": [
       "    movie_id  person_id\n",
       "0  tt0285252  nm0899854\n",
       "1  tt0462036  nm1940585\n",
       "2  tt0835418  nm0151540\n",
       "3  tt0835418  nm0151540\n",
       "4  tt0878654  nm0089502"
      ]
     },
     "execution_count": 11,
     "metadata": {},
     "output_type": "execute_result"
    }
   ],
   "source": [
    "# Preview data from the directors table \n",
    "\n",
    "query =  \"\"\"\n",
    "SELECT \n",
    "* FROM \n",
    "directors\n",
    "\"\"\"\n",
    "\n",
    "movie_directors = pd.read_sql(query, conn) \n",
    "movie_directors.head()"
   ]
  },
  {
   "cell_type": "markdown",
   "metadata": {},
   "source": [
    "Our first question aims to evaluate the impact that directors and other personnel have on the success of a film, so this table is helpful. The table consits of two columns: `movie_id` and `person_id`. These foreign keys will help us find more detialed information from the other tables within this SQL dataset. Later we will join this table with others to complete a more thorough analysis."
   ]
  },
  {
   "cell_type": "code",
   "execution_count": 12,
   "metadata": {},
   "outputs": [
    {
     "name": "stdout",
     "output_type": "stream",
     "text": [
      "<class 'pandas.core.frame.DataFrame'>\n",
      "RangeIndex: 291174 entries, 0 to 291173\n",
      "Data columns (total 2 columns):\n",
      " #   Column     Non-Null Count   Dtype \n",
      "---  ------     --------------   ----- \n",
      " 0   movie_id   291174 non-null  object\n",
      " 1   person_id  291174 non-null  object\n",
      "dtypes: object(2)\n",
      "memory usage: 4.4+ MB\n"
     ]
    }
   ],
   "source": [
    "# Use .info() method \n",
    "\n",
    "movie_directors.info()"
   ]
  },
  {
   "cell_type": "markdown",
   "metadata": {},
   "source": [
    "We are not missing any values, and the data type is what we expect. We have more rows than we do in the movie_basics table. This tells us that we have directors who have directed multiple films, or movies with multiple directors."
   ]
  },
  {
   "cell_type": "code",
   "execution_count": 13,
   "metadata": {},
   "outputs": [
    {
     "data": {
      "text/html": [
       "<div>\n",
       "<style scoped>\n",
       "    .dataframe tbody tr th:only-of-type {\n",
       "        vertical-align: middle;\n",
       "    }\n",
       "\n",
       "    .dataframe tbody tr th {\n",
       "        vertical-align: top;\n",
       "    }\n",
       "\n",
       "    .dataframe thead th {\n",
       "        text-align: right;\n",
       "    }\n",
       "</style>\n",
       "<table border=\"1\" class=\"dataframe\">\n",
       "  <thead>\n",
       "    <tr style=\"text-align: right;\">\n",
       "      <th></th>\n",
       "      <th>person_id</th>\n",
       "      <th>primary_name</th>\n",
       "      <th>birth_year</th>\n",
       "      <th>death_year</th>\n",
       "      <th>primary_profession</th>\n",
       "    </tr>\n",
       "  </thead>\n",
       "  <tbody>\n",
       "    <tr>\n",
       "      <th>0</th>\n",
       "      <td>nm0061671</td>\n",
       "      <td>Mary Ellen Bauder</td>\n",
       "      <td>NaN</td>\n",
       "      <td>NaN</td>\n",
       "      <td>miscellaneous,production_manager,producer</td>\n",
       "    </tr>\n",
       "    <tr>\n",
       "      <th>1</th>\n",
       "      <td>nm0061865</td>\n",
       "      <td>Joseph Bauer</td>\n",
       "      <td>NaN</td>\n",
       "      <td>NaN</td>\n",
       "      <td>composer,music_department,sound_department</td>\n",
       "    </tr>\n",
       "    <tr>\n",
       "      <th>2</th>\n",
       "      <td>nm0062070</td>\n",
       "      <td>Bruce Baum</td>\n",
       "      <td>NaN</td>\n",
       "      <td>NaN</td>\n",
       "      <td>miscellaneous,actor,writer</td>\n",
       "    </tr>\n",
       "    <tr>\n",
       "      <th>3</th>\n",
       "      <td>nm0062195</td>\n",
       "      <td>Axel Baumann</td>\n",
       "      <td>NaN</td>\n",
       "      <td>NaN</td>\n",
       "      <td>camera_department,cinematographer,art_department</td>\n",
       "    </tr>\n",
       "    <tr>\n",
       "      <th>4</th>\n",
       "      <td>nm0062798</td>\n",
       "      <td>Pete Baxter</td>\n",
       "      <td>NaN</td>\n",
       "      <td>NaN</td>\n",
       "      <td>production_designer,art_department,set_decorator</td>\n",
       "    </tr>\n",
       "  </tbody>\n",
       "</table>\n",
       "</div>"
      ],
      "text/plain": [
       "   person_id       primary_name  birth_year  death_year  \\\n",
       "0  nm0061671  Mary Ellen Bauder         NaN         NaN   \n",
       "1  nm0061865       Joseph Bauer         NaN         NaN   \n",
       "2  nm0062070         Bruce Baum         NaN         NaN   \n",
       "3  nm0062195       Axel Baumann         NaN         NaN   \n",
       "4  nm0062798        Pete Baxter         NaN         NaN   \n",
       "\n",
       "                                 primary_profession  \n",
       "0         miscellaneous,production_manager,producer  \n",
       "1        composer,music_department,sound_department  \n",
       "2                        miscellaneous,actor,writer  \n",
       "3  camera_department,cinematographer,art_department  \n",
       "4  production_designer,art_department,set_decorator  "
      ]
     },
     "execution_count": 13,
     "metadata": {},
     "output_type": "execute_result"
    }
   ],
   "source": [
    "# Preview data from the persons table \n",
    "\n",
    "query =  \"\"\"\n",
    "SELECT \n",
    "* FROM \n",
    "persons\n",
    "\"\"\"\n",
    "\n",
    "movie_persons = pd.read_sql(query, conn) \n",
    "movie_persons.head()"
   ]
  },
  {
   "cell_type": "markdown",
   "metadata": {},
   "source": [
    "This table has data that matches the `person_id` column to `primary_name`. This will be helpful in identifying actor, director, and writer names. The `primary_profession` column is noisy and slightly confusing, so we may be able to get profession information from another table."
   ]
  },
  {
   "cell_type": "code",
   "execution_count": 14,
   "metadata": {},
   "outputs": [
    {
     "name": "stdout",
     "output_type": "stream",
     "text": [
      "<class 'pandas.core.frame.DataFrame'>\n",
      "RangeIndex: 606648 entries, 0 to 606647\n",
      "Data columns (total 5 columns):\n",
      " #   Column              Non-Null Count   Dtype  \n",
      "---  ------              --------------   -----  \n",
      " 0   person_id           606648 non-null  object \n",
      " 1   primary_name        606648 non-null  object \n",
      " 2   birth_year          82736 non-null   float64\n",
      " 3   death_year          6783 non-null    float64\n",
      " 4   primary_profession  555308 non-null  object \n",
      "dtypes: float64(2), object(3)\n",
      "memory usage: 23.1+ MB\n"
     ]
    }
   ],
   "source": [
    "# Use .info() method \n",
    "\n",
    "movie_persons.info()"
   ]
  },
  {
   "cell_type": "markdown",
   "metadata": {},
   "source": [
    "We will only use the `person_id` and `primary_name` columns from this table. These columns are not missing any data, and are object types. Again, we have more rows here than we do in the`movie_basics` table. This makes sense, as it did with the `directors` table, but we will still have to be mindful of it whenn joining tables."
   ]
  },
  {
   "cell_type": "code",
   "execution_count": 15,
   "metadata": {},
   "outputs": [
    {
     "data": {
      "text/html": [
       "<div>\n",
       "<style scoped>\n",
       "    .dataframe tbody tr th:only-of-type {\n",
       "        vertical-align: middle;\n",
       "    }\n",
       "\n",
       "    .dataframe tbody tr th {\n",
       "        vertical-align: top;\n",
       "    }\n",
       "\n",
       "    .dataframe thead th {\n",
       "        text-align: right;\n",
       "    }\n",
       "</style>\n",
       "<table border=\"1\" class=\"dataframe\">\n",
       "  <thead>\n",
       "    <tr style=\"text-align: right;\">\n",
       "      <th></th>\n",
       "      <th>movie_id</th>\n",
       "      <th>ordering</th>\n",
       "      <th>person_id</th>\n",
       "      <th>category</th>\n",
       "      <th>job</th>\n",
       "      <th>characters</th>\n",
       "    </tr>\n",
       "  </thead>\n",
       "  <tbody>\n",
       "    <tr>\n",
       "      <th>0</th>\n",
       "      <td>tt0111414</td>\n",
       "      <td>1</td>\n",
       "      <td>nm0246005</td>\n",
       "      <td>actor</td>\n",
       "      <td>None</td>\n",
       "      <td>[\"The Man\"]</td>\n",
       "    </tr>\n",
       "    <tr>\n",
       "      <th>1</th>\n",
       "      <td>tt0111414</td>\n",
       "      <td>2</td>\n",
       "      <td>nm0398271</td>\n",
       "      <td>director</td>\n",
       "      <td>None</td>\n",
       "      <td>None</td>\n",
       "    </tr>\n",
       "    <tr>\n",
       "      <th>2</th>\n",
       "      <td>tt0111414</td>\n",
       "      <td>3</td>\n",
       "      <td>nm3739909</td>\n",
       "      <td>producer</td>\n",
       "      <td>producer</td>\n",
       "      <td>None</td>\n",
       "    </tr>\n",
       "    <tr>\n",
       "      <th>3</th>\n",
       "      <td>tt0323808</td>\n",
       "      <td>10</td>\n",
       "      <td>nm0059247</td>\n",
       "      <td>editor</td>\n",
       "      <td>None</td>\n",
       "      <td>None</td>\n",
       "    </tr>\n",
       "    <tr>\n",
       "      <th>4</th>\n",
       "      <td>tt0323808</td>\n",
       "      <td>1</td>\n",
       "      <td>nm3579312</td>\n",
       "      <td>actress</td>\n",
       "      <td>None</td>\n",
       "      <td>[\"Beth Boothby\"]</td>\n",
       "    </tr>\n",
       "  </tbody>\n",
       "</table>\n",
       "</div>"
      ],
      "text/plain": [
       "    movie_id  ordering  person_id  category       job        characters\n",
       "0  tt0111414         1  nm0246005     actor      None       [\"The Man\"]\n",
       "1  tt0111414         2  nm0398271  director      None              None\n",
       "2  tt0111414         3  nm3739909  producer  producer              None\n",
       "3  tt0323808        10  nm0059247    editor      None              None\n",
       "4  tt0323808         1  nm3579312   actress      None  [\"Beth Boothby\"]"
      ]
     },
     "execution_count": 15,
     "metadata": {},
     "output_type": "execute_result"
    }
   ],
   "source": [
    "# Preview data from the principals table \n",
    "\n",
    "query =  \"\"\"\n",
    "SELECT \n",
    "* FROM \n",
    "principals\n",
    "\"\"\"\n",
    "\n",
    "movie_principals = pd.read_sql(query, conn) \n",
    "movie_principals.head() "
   ]
  },
  {
   "cell_type": "markdown",
   "metadata": {},
   "source": [
    "The `category` column looks like a much better option (than the `primary_profession` column in the `movie_persons` table) to use and parse through to find the actors and actresses. We note that this table also has `movie_id` and `person_id` which will be keys that we can join our tables on."
   ]
  },
  {
   "cell_type": "code",
   "execution_count": 16,
   "metadata": {},
   "outputs": [
    {
     "name": "stdout",
     "output_type": "stream",
     "text": [
      "<class 'pandas.core.frame.DataFrame'>\n",
      "RangeIndex: 1028186 entries, 0 to 1028185\n",
      "Data columns (total 6 columns):\n",
      " #   Column      Non-Null Count    Dtype \n",
      "---  ------      --------------    ----- \n",
      " 0   movie_id    1028186 non-null  object\n",
      " 1   ordering    1028186 non-null  int64 \n",
      " 2   person_id   1028186 non-null  object\n",
      " 3   category    1028186 non-null  object\n",
      " 4   job         177684 non-null   object\n",
      " 5   characters  393360 non-null   object\n",
      "dtypes: int64(1), object(5)\n",
      "memory usage: 47.1+ MB\n"
     ]
    }
   ],
   "source": [
    "# Use .info() method \n",
    "\n",
    "movie_principals.info()"
   ]
  },
  {
   "cell_type": "markdown",
   "metadata": {},
   "source": [
    "We want to use the `movie_id`, `person_id`, and `category` columns from this table. None of these columns have missing values which is great. When we query this table, we will have to use the SQL `WHERE` clause to specify that we only want rows with data on actors and actresses. "
   ]
  },
  {
   "cell_type": "code",
   "execution_count": 17,
   "metadata": {},
   "outputs": [
    {
     "data": {
      "text/html": [
       "<div>\n",
       "<style scoped>\n",
       "    .dataframe tbody tr th:only-of-type {\n",
       "        vertical-align: middle;\n",
       "    }\n",
       "\n",
       "    .dataframe tbody tr th {\n",
       "        vertical-align: top;\n",
       "    }\n",
       "\n",
       "    .dataframe thead th {\n",
       "        text-align: right;\n",
       "    }\n",
       "</style>\n",
       "<table border=\"1\" class=\"dataframe\">\n",
       "  <thead>\n",
       "    <tr style=\"text-align: right;\">\n",
       "      <th></th>\n",
       "      <th>movie_id</th>\n",
       "      <th>person_id</th>\n",
       "    </tr>\n",
       "  </thead>\n",
       "  <tbody>\n",
       "    <tr>\n",
       "      <th>0</th>\n",
       "      <td>tt0285252</td>\n",
       "      <td>nm0899854</td>\n",
       "    </tr>\n",
       "    <tr>\n",
       "      <th>1</th>\n",
       "      <td>tt0438973</td>\n",
       "      <td>nm0175726</td>\n",
       "    </tr>\n",
       "    <tr>\n",
       "      <th>2</th>\n",
       "      <td>tt0438973</td>\n",
       "      <td>nm1802864</td>\n",
       "    </tr>\n",
       "    <tr>\n",
       "      <th>3</th>\n",
       "      <td>tt0462036</td>\n",
       "      <td>nm1940585</td>\n",
       "    </tr>\n",
       "    <tr>\n",
       "      <th>4</th>\n",
       "      <td>tt0835418</td>\n",
       "      <td>nm0310087</td>\n",
       "    </tr>\n",
       "  </tbody>\n",
       "</table>\n",
       "</div>"
      ],
      "text/plain": [
       "    movie_id  person_id\n",
       "0  tt0285252  nm0899854\n",
       "1  tt0438973  nm0175726\n",
       "2  tt0438973  nm1802864\n",
       "3  tt0462036  nm1940585\n",
       "4  tt0835418  nm0310087"
      ]
     },
     "execution_count": 17,
     "metadata": {},
     "output_type": "execute_result"
    }
   ],
   "source": [
    "# Preview data from the writers table \n",
    "\n",
    "query =  \"\"\"\n",
    "SELECT \n",
    "* FROM \n",
    "writers\n",
    "\"\"\"\n",
    "\n",
    "movie_writers = pd.read_sql(query, conn) \n",
    "movie_writers.head()"
   ]
  },
  {
   "cell_type": "markdown",
   "metadata": {},
   "source": [
    "We will want to use this table to investigate information about writers. This table has an identical structure to the `directors` table."
   ]
  },
  {
   "cell_type": "code",
   "execution_count": 18,
   "metadata": {},
   "outputs": [
    {
     "name": "stdout",
     "output_type": "stream",
     "text": [
      "<class 'pandas.core.frame.DataFrame'>\n",
      "RangeIndex: 255873 entries, 0 to 255872\n",
      "Data columns (total 2 columns):\n",
      " #   Column     Non-Null Count   Dtype \n",
      "---  ------     --------------   ----- \n",
      " 0   movie_id   255873 non-null  object\n",
      " 1   person_id  255873 non-null  object\n",
      "dtypes: object(2)\n",
      "memory usage: 3.9+ MB\n"
     ]
    }
   ],
   "source": [
    "# Use .info() method \n",
    "\n",
    "movie_writers.info()"
   ]
  },
  {
   "cell_type": "markdown",
   "metadata": {},
   "source": [
    "We are not missing any values, and our data types do not need to be adjusted. We now know all of our information about personnel and runtime is listed in the `IMDB` data. It also has movie title data, which will be helpful to merge on with other datasets. Our `Box Office Mojo` dataset had our studio data. This means we have all of the data we need, except for that of budget and release month. Ideally, one of the datasets below will have both budget and grossing data, that we can use to generate our ROI. We will probably use a release date column to extract release month, so we will look for that in the following datasets as well. "
   ]
  },
  {
   "cell_type": "code",
   "execution_count": 19,
   "metadata": {},
   "outputs": [
    {
     "data": {
      "text/html": [
       "<div>\n",
       "<style scoped>\n",
       "    .dataframe tbody tr th:only-of-type {\n",
       "        vertical-align: middle;\n",
       "    }\n",
       "\n",
       "    .dataframe tbody tr th {\n",
       "        vertical-align: top;\n",
       "    }\n",
       "\n",
       "    .dataframe thead th {\n",
       "        text-align: right;\n",
       "    }\n",
       "</style>\n",
       "<table border=\"1\" class=\"dataframe\">\n",
       "  <thead>\n",
       "    <tr style=\"text-align: right;\">\n",
       "      <th></th>\n",
       "      <th>id</th>\n",
       "      <th>synopsis</th>\n",
       "      <th>rating</th>\n",
       "      <th>genre</th>\n",
       "      <th>director</th>\n",
       "      <th>writer</th>\n",
       "      <th>theater_date</th>\n",
       "      <th>dvd_date</th>\n",
       "      <th>currency</th>\n",
       "      <th>box_office</th>\n",
       "      <th>runtime</th>\n",
       "      <th>studio</th>\n",
       "    </tr>\n",
       "  </thead>\n",
       "  <tbody>\n",
       "    <tr>\n",
       "      <th>0</th>\n",
       "      <td>1</td>\n",
       "      <td>This gritty, fast-paced, and innovative police...</td>\n",
       "      <td>R</td>\n",
       "      <td>Action and Adventure|Classics|Drama</td>\n",
       "      <td>William Friedkin</td>\n",
       "      <td>Ernest Tidyman</td>\n",
       "      <td>Oct 9, 1971</td>\n",
       "      <td>Sep 25, 2001</td>\n",
       "      <td>NaN</td>\n",
       "      <td>NaN</td>\n",
       "      <td>104 minutes</td>\n",
       "      <td>NaN</td>\n",
       "    </tr>\n",
       "    <tr>\n",
       "      <th>1</th>\n",
       "      <td>3</td>\n",
       "      <td>New York City, not-too-distant-future: Eric Pa...</td>\n",
       "      <td>R</td>\n",
       "      <td>Drama|Science Fiction and Fantasy</td>\n",
       "      <td>David Cronenberg</td>\n",
       "      <td>David Cronenberg|Don DeLillo</td>\n",
       "      <td>Aug 17, 2012</td>\n",
       "      <td>Jan 1, 2013</td>\n",
       "      <td>$</td>\n",
       "      <td>600,000</td>\n",
       "      <td>108 minutes</td>\n",
       "      <td>Entertainment One</td>\n",
       "    </tr>\n",
       "    <tr>\n",
       "      <th>2</th>\n",
       "      <td>5</td>\n",
       "      <td>Illeana Douglas delivers a superb performance ...</td>\n",
       "      <td>R</td>\n",
       "      <td>Drama|Musical and Performing Arts</td>\n",
       "      <td>Allison Anders</td>\n",
       "      <td>Allison Anders</td>\n",
       "      <td>Sep 13, 1996</td>\n",
       "      <td>Apr 18, 2000</td>\n",
       "      <td>NaN</td>\n",
       "      <td>NaN</td>\n",
       "      <td>116 minutes</td>\n",
       "      <td>NaN</td>\n",
       "    </tr>\n",
       "    <tr>\n",
       "      <th>3</th>\n",
       "      <td>6</td>\n",
       "      <td>Michael Douglas runs afoul of a treacherous su...</td>\n",
       "      <td>R</td>\n",
       "      <td>Drama|Mystery and Suspense</td>\n",
       "      <td>Barry Levinson</td>\n",
       "      <td>Paul Attanasio|Michael Crichton</td>\n",
       "      <td>Dec 9, 1994</td>\n",
       "      <td>Aug 27, 1997</td>\n",
       "      <td>NaN</td>\n",
       "      <td>NaN</td>\n",
       "      <td>128 minutes</td>\n",
       "      <td>NaN</td>\n",
       "    </tr>\n",
       "    <tr>\n",
       "      <th>4</th>\n",
       "      <td>7</td>\n",
       "      <td>NaN</td>\n",
       "      <td>NR</td>\n",
       "      <td>Drama|Romance</td>\n",
       "      <td>Rodney Bennett</td>\n",
       "      <td>Giles Cooper</td>\n",
       "      <td>NaN</td>\n",
       "      <td>NaN</td>\n",
       "      <td>NaN</td>\n",
       "      <td>NaN</td>\n",
       "      <td>200 minutes</td>\n",
       "      <td>NaN</td>\n",
       "    </tr>\n",
       "  </tbody>\n",
       "</table>\n",
       "</div>"
      ],
      "text/plain": [
       "   id                                           synopsis rating  \\\n",
       "0   1  This gritty, fast-paced, and innovative police...      R   \n",
       "1   3  New York City, not-too-distant-future: Eric Pa...      R   \n",
       "2   5  Illeana Douglas delivers a superb performance ...      R   \n",
       "3   6  Michael Douglas runs afoul of a treacherous su...      R   \n",
       "4   7                                                NaN     NR   \n",
       "\n",
       "                                 genre          director  \\\n",
       "0  Action and Adventure|Classics|Drama  William Friedkin   \n",
       "1    Drama|Science Fiction and Fantasy  David Cronenberg   \n",
       "2    Drama|Musical and Performing Arts    Allison Anders   \n",
       "3           Drama|Mystery and Suspense    Barry Levinson   \n",
       "4                        Drama|Romance    Rodney Bennett   \n",
       "\n",
       "                            writer  theater_date      dvd_date currency  \\\n",
       "0                   Ernest Tidyman   Oct 9, 1971  Sep 25, 2001      NaN   \n",
       "1     David Cronenberg|Don DeLillo  Aug 17, 2012   Jan 1, 2013        $   \n",
       "2                   Allison Anders  Sep 13, 1996  Apr 18, 2000      NaN   \n",
       "3  Paul Attanasio|Michael Crichton   Dec 9, 1994  Aug 27, 1997      NaN   \n",
       "4                     Giles Cooper           NaN           NaN      NaN   \n",
       "\n",
       "  box_office      runtime             studio  \n",
       "0        NaN  104 minutes                NaN  \n",
       "1    600,000  108 minutes  Entertainment One  \n",
       "2        NaN  116 minutes                NaN  \n",
       "3        NaN  128 minutes                NaN  \n",
       "4        NaN  200 minutes                NaN  "
      ]
     },
     "execution_count": 19,
     "metadata": {},
     "output_type": "execute_result"
    }
   ],
   "source": [
    "# Read and open Rotten Tomatoes dataset\n",
    "# This dataset has tab separated values (.tsv) instead of comma separated (.csv)\n",
    "# Need to add a delimiter\n",
    "\n",
    "df_rt = pd.read_csv(\"zippedData/rt.movie_info.tsv.gz\", delimiter=\"\\t\")\n",
    "df_rt.head()"
   ]
  },
  {
   "cell_type": "markdown",
   "metadata": {},
   "source": [
    "This dataframe looks like it will need some cleaning up. There is data on runtime, director, writer, release date, and studio. This is potentially helpful, so we will look at the info below to see if it will add to our analyses, or make it more complicated than necessary. "
   ]
  },
  {
   "cell_type": "code",
   "execution_count": 20,
   "metadata": {},
   "outputs": [
    {
     "name": "stdout",
     "output_type": "stream",
     "text": [
      "<class 'pandas.core.frame.DataFrame'>\n",
      "RangeIndex: 1560 entries, 0 to 1559\n",
      "Data columns (total 12 columns):\n",
      " #   Column        Non-Null Count  Dtype \n",
      "---  ------        --------------  ----- \n",
      " 0   id            1560 non-null   int64 \n",
      " 1   synopsis      1498 non-null   object\n",
      " 2   rating        1557 non-null   object\n",
      " 3   genre         1552 non-null   object\n",
      " 4   director      1361 non-null   object\n",
      " 5   writer        1111 non-null   object\n",
      " 6   theater_date  1201 non-null   object\n",
      " 7   dvd_date      1201 non-null   object\n",
      " 8   currency      340 non-null    object\n",
      " 9   box_office    340 non-null    object\n",
      " 10  runtime       1530 non-null   object\n",
      " 11  studio        494 non-null    object\n",
      "dtypes: int64(1), object(11)\n",
      "memory usage: 146.4+ KB\n"
     ]
    }
   ],
   "source": [
    "# Use .info() method \n",
    "\n",
    "df_rt.info()"
   ]
  },
  {
   "cell_type": "markdown",
   "metadata": {},
   "source": [
    "We have 1,560 rows with 12 columns. We are missing a lot of data, particularly in the studio, currency, and box_office columns, and would have to change many of the data types. The `Box Office Mojo` dataset has far more information on `studio` than this one. The same is true for that of the `IMDB` datset and the `director`, `runtime` and `writer` columns. The `theater_date` column is potentially helpful, so we will only use this dataset for that if we are unable to find something more comprehensive below. "
   ]
  },
  {
   "cell_type": "code",
   "execution_count": 21,
   "metadata": {
    "scrolled": true
   },
   "outputs": [
    {
     "data": {
      "text/html": [
       "<div>\n",
       "<style scoped>\n",
       "    .dataframe tbody tr th:only-of-type {\n",
       "        vertical-align: middle;\n",
       "    }\n",
       "\n",
       "    .dataframe tbody tr th {\n",
       "        vertical-align: top;\n",
       "    }\n",
       "\n",
       "    .dataframe thead th {\n",
       "        text-align: right;\n",
       "    }\n",
       "</style>\n",
       "<table border=\"1\" class=\"dataframe\">\n",
       "  <thead>\n",
       "    <tr style=\"text-align: right;\">\n",
       "      <th></th>\n",
       "      <th>Unnamed: 0</th>\n",
       "      <th>genre_ids</th>\n",
       "      <th>id</th>\n",
       "      <th>original_language</th>\n",
       "      <th>original_title</th>\n",
       "      <th>popularity</th>\n",
       "      <th>release_date</th>\n",
       "      <th>title</th>\n",
       "      <th>vote_average</th>\n",
       "      <th>vote_count</th>\n",
       "    </tr>\n",
       "  </thead>\n",
       "  <tbody>\n",
       "    <tr>\n",
       "      <th>0</th>\n",
       "      <td>0</td>\n",
       "      <td>[12, 14, 10751]</td>\n",
       "      <td>12444</td>\n",
       "      <td>en</td>\n",
       "      <td>Harry Potter and the Deathly Hallows: Part 1</td>\n",
       "      <td>33.533</td>\n",
       "      <td>2010-11-19</td>\n",
       "      <td>Harry Potter and the Deathly Hallows: Part 1</td>\n",
       "      <td>7.7</td>\n",
       "      <td>10788</td>\n",
       "    </tr>\n",
       "    <tr>\n",
       "      <th>1</th>\n",
       "      <td>1</td>\n",
       "      <td>[14, 12, 16, 10751]</td>\n",
       "      <td>10191</td>\n",
       "      <td>en</td>\n",
       "      <td>How to Train Your Dragon</td>\n",
       "      <td>28.734</td>\n",
       "      <td>2010-03-26</td>\n",
       "      <td>How to Train Your Dragon</td>\n",
       "      <td>7.7</td>\n",
       "      <td>7610</td>\n",
       "    </tr>\n",
       "    <tr>\n",
       "      <th>2</th>\n",
       "      <td>2</td>\n",
       "      <td>[12, 28, 878]</td>\n",
       "      <td>10138</td>\n",
       "      <td>en</td>\n",
       "      <td>Iron Man 2</td>\n",
       "      <td>28.515</td>\n",
       "      <td>2010-05-07</td>\n",
       "      <td>Iron Man 2</td>\n",
       "      <td>6.8</td>\n",
       "      <td>12368</td>\n",
       "    </tr>\n",
       "    <tr>\n",
       "      <th>3</th>\n",
       "      <td>3</td>\n",
       "      <td>[16, 35, 10751]</td>\n",
       "      <td>862</td>\n",
       "      <td>en</td>\n",
       "      <td>Toy Story</td>\n",
       "      <td>28.005</td>\n",
       "      <td>1995-11-22</td>\n",
       "      <td>Toy Story</td>\n",
       "      <td>7.9</td>\n",
       "      <td>10174</td>\n",
       "    </tr>\n",
       "    <tr>\n",
       "      <th>4</th>\n",
       "      <td>4</td>\n",
       "      <td>[28, 878, 12]</td>\n",
       "      <td>27205</td>\n",
       "      <td>en</td>\n",
       "      <td>Inception</td>\n",
       "      <td>27.920</td>\n",
       "      <td>2010-07-16</td>\n",
       "      <td>Inception</td>\n",
       "      <td>8.3</td>\n",
       "      <td>22186</td>\n",
       "    </tr>\n",
       "  </tbody>\n",
       "</table>\n",
       "</div>"
      ],
      "text/plain": [
       "   Unnamed: 0            genre_ids     id original_language  \\\n",
       "0           0      [12, 14, 10751]  12444                en   \n",
       "1           1  [14, 12, 16, 10751]  10191                en   \n",
       "2           2        [12, 28, 878]  10138                en   \n",
       "3           3      [16, 35, 10751]    862                en   \n",
       "4           4        [28, 878, 12]  27205                en   \n",
       "\n",
       "                                 original_title  popularity release_date  \\\n",
       "0  Harry Potter and the Deathly Hallows: Part 1      33.533   2010-11-19   \n",
       "1                      How to Train Your Dragon      28.734   2010-03-26   \n",
       "2                                    Iron Man 2      28.515   2010-05-07   \n",
       "3                                     Toy Story      28.005   1995-11-22   \n",
       "4                                     Inception      27.920   2010-07-16   \n",
       "\n",
       "                                          title  vote_average  vote_count  \n",
       "0  Harry Potter and the Deathly Hallows: Part 1           7.7       10788  \n",
       "1                      How to Train Your Dragon           7.7        7610  \n",
       "2                                    Iron Man 2           6.8       12368  \n",
       "3                                     Toy Story           7.9       10174  \n",
       "4                                     Inception           8.3       22186  "
      ]
     },
     "execution_count": 21,
     "metadata": {},
     "output_type": "execute_result"
    }
   ],
   "source": [
    "# Read and open TMDB dataset\n",
    "\n",
    "df_tmdb = pd.read_csv(\"zippedData/tmdb.movies.csv.gz\")\n",
    "df_tmdb.head()"
   ]
  },
  {
   "cell_type": "markdown",
   "metadata": {},
   "source": [
    "This is similar to the `Rotten Tomatoes` dataset in that we would only use the `release_date` column. We will glance at the info below."
   ]
  },
  {
   "cell_type": "code",
   "execution_count": 22,
   "metadata": {},
   "outputs": [
    {
     "name": "stdout",
     "output_type": "stream",
     "text": [
      "<class 'pandas.core.frame.DataFrame'>\n",
      "RangeIndex: 26517 entries, 0 to 26516\n",
      "Data columns (total 10 columns):\n",
      " #   Column             Non-Null Count  Dtype  \n",
      "---  ------             --------------  -----  \n",
      " 0   Unnamed: 0         26517 non-null  int64  \n",
      " 1   genre_ids          26517 non-null  object \n",
      " 2   id                 26517 non-null  int64  \n",
      " 3   original_language  26517 non-null  object \n",
      " 4   original_title     26517 non-null  object \n",
      " 5   popularity         26517 non-null  float64\n",
      " 6   release_date       26517 non-null  object \n",
      " 7   title              26517 non-null  object \n",
      " 8   vote_average       26517 non-null  float64\n",
      " 9   vote_count         26517 non-null  int64  \n",
      "dtypes: float64(2), int64(3), object(5)\n",
      "memory usage: 2.0+ MB\n"
     ]
    }
   ],
   "source": [
    "# Use .info() method\n",
    "\n",
    "df_tmdb.info()"
   ]
  },
  {
   "cell_type": "markdown",
   "metadata": {},
   "source": [
    "The data looks good, but is not what we are looking for. We will use the `release_date` column if there is no better option below. "
   ]
  },
  {
   "cell_type": "code",
   "execution_count": 23,
   "metadata": {},
   "outputs": [
    {
     "data": {
      "text/html": [
       "<div>\n",
       "<style scoped>\n",
       "    .dataframe tbody tr th:only-of-type {\n",
       "        vertical-align: middle;\n",
       "    }\n",
       "\n",
       "    .dataframe tbody tr th {\n",
       "        vertical-align: top;\n",
       "    }\n",
       "\n",
       "    .dataframe thead th {\n",
       "        text-align: right;\n",
       "    }\n",
       "</style>\n",
       "<table border=\"1\" class=\"dataframe\">\n",
       "  <thead>\n",
       "    <tr style=\"text-align: right;\">\n",
       "      <th></th>\n",
       "      <th>id</th>\n",
       "      <th>release_date</th>\n",
       "      <th>movie</th>\n",
       "      <th>production_budget</th>\n",
       "      <th>domestic_gross</th>\n",
       "      <th>worldwide_gross</th>\n",
       "    </tr>\n",
       "  </thead>\n",
       "  <tbody>\n",
       "    <tr>\n",
       "      <th>0</th>\n",
       "      <td>1</td>\n",
       "      <td>Dec 18, 2009</td>\n",
       "      <td>Avatar</td>\n",
       "      <td>$425,000,000</td>\n",
       "      <td>$760,507,625</td>\n",
       "      <td>$2,776,345,279</td>\n",
       "    </tr>\n",
       "    <tr>\n",
       "      <th>1</th>\n",
       "      <td>2</td>\n",
       "      <td>May 20, 2011</td>\n",
       "      <td>Pirates of the Caribbean: On Stranger Tides</td>\n",
       "      <td>$410,600,000</td>\n",
       "      <td>$241,063,875</td>\n",
       "      <td>$1,045,663,875</td>\n",
       "    </tr>\n",
       "    <tr>\n",
       "      <th>2</th>\n",
       "      <td>3</td>\n",
       "      <td>Jun 7, 2019</td>\n",
       "      <td>Dark Phoenix</td>\n",
       "      <td>$350,000,000</td>\n",
       "      <td>$42,762,350</td>\n",
       "      <td>$149,762,350</td>\n",
       "    </tr>\n",
       "    <tr>\n",
       "      <th>3</th>\n",
       "      <td>4</td>\n",
       "      <td>May 1, 2015</td>\n",
       "      <td>Avengers: Age of Ultron</td>\n",
       "      <td>$330,600,000</td>\n",
       "      <td>$459,005,868</td>\n",
       "      <td>$1,403,013,963</td>\n",
       "    </tr>\n",
       "    <tr>\n",
       "      <th>4</th>\n",
       "      <td>5</td>\n",
       "      <td>Dec 15, 2017</td>\n",
       "      <td>Star Wars Ep. VIII: The Last Jedi</td>\n",
       "      <td>$317,000,000</td>\n",
       "      <td>$620,181,382</td>\n",
       "      <td>$1,316,721,747</td>\n",
       "    </tr>\n",
       "  </tbody>\n",
       "</table>\n",
       "</div>"
      ],
      "text/plain": [
       "   id  release_date                                        movie  \\\n",
       "0   1  Dec 18, 2009                                       Avatar   \n",
       "1   2  May 20, 2011  Pirates of the Caribbean: On Stranger Tides   \n",
       "2   3   Jun 7, 2019                                 Dark Phoenix   \n",
       "3   4   May 1, 2015                      Avengers: Age of Ultron   \n",
       "4   5  Dec 15, 2017            Star Wars Ep. VIII: The Last Jedi   \n",
       "\n",
       "  production_budget domestic_gross worldwide_gross  \n",
       "0      $425,000,000   $760,507,625  $2,776,345,279  \n",
       "1      $410,600,000   $241,063,875  $1,045,663,875  \n",
       "2      $350,000,000    $42,762,350    $149,762,350  \n",
       "3      $330,600,000   $459,005,868  $1,403,013,963  \n",
       "4      $317,000,000   $620,181,382  $1,316,721,747  "
      ]
     },
     "execution_count": 23,
     "metadata": {},
     "output_type": "execute_result"
    }
   ],
   "source": [
    "# Read and open The Numbers dataset\n",
    "\n",
    "df_tn = pd.read_csv(\"zippedData/tn.movie_budgets.csv.gz\")\n",
    "df_tn.head()"
   ]
  },
  {
   "cell_type": "markdown",
   "metadata": {},
   "source": [
    "This is exactly what we are looking for. We will be able to merge this with the `IMDB` and `Box Office Mojo` datasets on `movie`. Later we will reset the index and drop the extra `id` column. We now have data on grossing, budget, and release date."
   ]
  },
  {
   "cell_type": "code",
   "execution_count": 24,
   "metadata": {
    "scrolled": true
   },
   "outputs": [
    {
     "name": "stdout",
     "output_type": "stream",
     "text": [
      "<class 'pandas.core.frame.DataFrame'>\n",
      "RangeIndex: 5782 entries, 0 to 5781\n",
      "Data columns (total 6 columns):\n",
      " #   Column             Non-Null Count  Dtype \n",
      "---  ------             --------------  ----- \n",
      " 0   id                 5782 non-null   int64 \n",
      " 1   release_date       5782 non-null   object\n",
      " 2   movie              5782 non-null   object\n",
      " 3   production_budget  5782 non-null   object\n",
      " 4   domestic_gross     5782 non-null   object\n",
      " 5   worldwide_gross    5782 non-null   object\n",
      "dtypes: int64(1), object(5)\n",
      "memory usage: 271.2+ KB\n"
     ]
    }
   ],
   "source": [
    "# Use info() method\n",
    "\n",
    "df_tn.info()"
   ]
  },
  {
   "cell_type": "markdown",
   "metadata": {},
   "source": [
    "We are not missing any values. We will want to change `release_date` to a datetime type, and `production_budget`, `domestic_gross` and `worldwide_gross` to floats. "
   ]
  },
  {
   "cell_type": "markdown",
   "metadata": {},
   "source": [
    "## Data Preparation\n",
    "\n",
    "Now that we have a better understanding of our data and what we will be using it for, we can move onto cleaning the data and preparing it for our analysis. \n",
    "\n",
    "***\n",
    "\n",
    "The main things we will be looking at here inlcude:\n",
    "* Missing values \n",
    "* Duplicate values \n",
    "* Data types \n",
    "* Creating columns for our `ROI` \n",
    "* Creating columns for `release_month`\n",
    "* Deleting uneccessary data and columns\n",
    "* Joining SQL tables\n",
    "* Merging datasets \n",
    "* Creating new dataframes to use in our models \n",
    "\n",
    "***\n",
    "\n",
    "We will use the `Box Office Mojo` dataset to answer our third questions which includes analyzing which studio has the potential to bring Microsoft the most value. This dataset will be cleaned, and then merged with `The Numbers` dataset that will eventually include `ROI` data.\n",
    "\n",
    "We will use the `IMDB` dataset to answer multiple questions. We will clean, filter, and join the SQL tables to provide us with actor, writer, and director information. We will then merge these tables with `The Numbers` data, separately. We will create a separate dataframe to analyze runtime data, again combining data from both the `IMDB`database and `The Numbers`.\n",
    "\n",
    "We will use `The Numbers` grossing and budget data to create profit and ROI columns. We will then merge this data with the `Box Office Mojo` and `IMDB` data, as mentioned above. We will also able to create new dataframes to explore the release month data and production budget data. "
   ]
  },
  {
   "cell_type": "markdown",
   "metadata": {},
   "source": [
    "### Clean the `Box Office Mojo` Dataset"
   ]
  },
  {
   "cell_type": "code",
   "execution_count": 25,
   "metadata": {},
   "outputs": [
    {
     "data": {
      "text/plain": [
       "title                0\n",
       "studio               5\n",
       "domestic_gross      28\n",
       "foreign_gross     1350\n",
       "year                 0\n",
       "dtype: int64"
      ]
     },
     "execution_count": 25,
     "metadata": {},
     "output_type": "execute_result"
    }
   ],
   "source": [
    "# Check total null values by column\n",
    "\n",
    "df_bom_data.isna().sum()"
   ]
  },
  {
   "cell_type": "markdown",
   "metadata": {},
   "source": [
    "We know we only want to use the `title` and `studio` columns. We will look at the percentage of studio data that we are missing. Seeing as it is only 5 rows, we will likely choose to drop these rows. "
   ]
  },
  {
   "cell_type": "code",
   "execution_count": 26,
   "metadata": {},
   "outputs": [
    {
     "name": "stdout",
     "output_type": "stream",
     "text": [
      "0.14762326542663123 %\n"
     ]
    }
   ],
   "source": [
    "# Create variable to count null studio data\n",
    "studio_missing = df_bom_data['studio'].isna().sum()\n",
    "\n",
    "# Create variable to count total rows of data \n",
    "bom_length = len(df_bom_data)\n",
    "\n",
    "# Create variable to calculate percentage of missing studio data \n",
    "studio_percentage = (studio_missing / bom_length) * 100\n",
    "print(studio_percentage, '%')"
   ]
  },
  {
   "cell_type": "markdown",
   "metadata": {},
   "source": [
    "As assumed, this is a very small percentage of the studio data. We will go ahead and delete the 5 missing rows, and create a new dataframe `bom_df`."
   ]
  },
  {
   "cell_type": "code",
   "execution_count": 27,
   "metadata": {},
   "outputs": [],
   "source": [
    " # Use .dropna() to do drop null rows and store it as the new dataframe\n",
    "\n",
    "bom_df = df_bom_data.dropna(subset = ['studio'])"
   ]
  },
  {
   "cell_type": "code",
   "execution_count": 28,
   "metadata": {},
   "outputs": [
    {
     "data": {
      "text/plain": [
       "title                0\n",
       "studio               0\n",
       "domestic_gross      26\n",
       "foreign_gross     1349\n",
       "year                 0\n",
       "dtype: int64"
      ]
     },
     "execution_count": 28,
     "metadata": {},
     "output_type": "execute_result"
    }
   ],
   "source": [
    "# Check that the studio column now has 0 null values \n",
    "\n",
    "bom_df.isna().sum()"
   ]
  },
  {
   "cell_type": "code",
   "execution_count": 29,
   "metadata": {},
   "outputs": [
    {
     "data": {
      "text/plain": [
       "True"
      ]
     },
     "execution_count": 29,
     "metadata": {},
     "output_type": "execute_result"
    }
   ],
   "source": [
    "# Check for any duplicates using duplicated()\n",
    "\n",
    "bom_df.duplicated('title').any()"
   ]
  },
  {
   "cell_type": "markdown",
   "metadata": {},
   "source": [
    "We have duplicate values, but specified the `title` column in the code above. We will look to see if there are actual duplicates, or if there are multiple movies with the same title."
   ]
  },
  {
   "cell_type": "code",
   "execution_count": 30,
   "metadata": {},
   "outputs": [
    {
     "data": {
      "text/plain": [
       "count          3382\n",
       "unique         3381\n",
       "top       Bluebeard\n",
       "freq              2\n",
       "Name: title, dtype: object"
      ]
     },
     "execution_count": 30,
     "metadata": {},
     "output_type": "execute_result"
    }
   ],
   "source": [
    "# Use describe() to look closer at the title column \n",
    "\n",
    "bom_df['title'].describe()"
   ]
  },
  {
   "cell_type": "markdown",
   "metadata": {},
   "source": [
    "We see there are 3,381 unique titles in the dataset, and 3,382 titles in total. We now know there is only one duplicated title, `Bluebeard`, listed twice. We can use the `loc()` function in pandas to access these rows by their label, `Bluebeard`."
   ]
  },
  {
   "cell_type": "code",
   "execution_count": 31,
   "metadata": {},
   "outputs": [
    {
     "data": {
      "text/html": [
       "<div>\n",
       "<style scoped>\n",
       "    .dataframe tbody tr th:only-of-type {\n",
       "        vertical-align: middle;\n",
       "    }\n",
       "\n",
       "    .dataframe tbody tr th {\n",
       "        vertical-align: top;\n",
       "    }\n",
       "\n",
       "    .dataframe thead th {\n",
       "        text-align: right;\n",
       "    }\n",
       "</style>\n",
       "<table border=\"1\" class=\"dataframe\">\n",
       "  <thead>\n",
       "    <tr style=\"text-align: right;\">\n",
       "      <th></th>\n",
       "      <th>title</th>\n",
       "      <th>studio</th>\n",
       "      <th>domestic_gross</th>\n",
       "      <th>foreign_gross</th>\n",
       "      <th>year</th>\n",
       "    </tr>\n",
       "  </thead>\n",
       "  <tbody>\n",
       "    <tr>\n",
       "      <th>317</th>\n",
       "      <td>Bluebeard</td>\n",
       "      <td>Strand</td>\n",
       "      <td>33500.0</td>\n",
       "      <td>5200</td>\n",
       "      <td>2010</td>\n",
       "    </tr>\n",
       "    <tr>\n",
       "      <th>3045</th>\n",
       "      <td>Bluebeard</td>\n",
       "      <td>WGUSA</td>\n",
       "      <td>43100.0</td>\n",
       "      <td>NaN</td>\n",
       "      <td>2017</td>\n",
       "    </tr>\n",
       "  </tbody>\n",
       "</table>\n",
       "</div>"
      ],
      "text/plain": [
       "          title  studio  domestic_gross foreign_gross  year\n",
       "317   Bluebeard  Strand         33500.0          5200  2010\n",
       "3045  Bluebeard   WGUSA         43100.0           NaN  2017"
      ]
     },
     "execution_count": 31,
     "metadata": {},
     "output_type": "execute_result"
    }
   ],
   "source": [
    "# Use .loc() to pull up rows that have 'Bluebeard' as their title\n",
    "\n",
    "bom_df.loc[bom_df['title'] == 'Bluebeard']"
   ]
  },
  {
   "cell_type": "markdown",
   "metadata": {},
   "source": [
    "These are different films, released in different years. We can see that separate studios produced these films. Since we will be merging this data with `The Numbers` on `title`, we are going to drop these rows as well to limit any confusion where the `studio` and `title` may be incorrectly merged with `budget` and `grossing` values. If there were many cases of this, we likely would not just drop the rows, but since it only occurs once, that is what we will do. "
   ]
  },
  {
   "cell_type": "code",
   "execution_count": 32,
   "metadata": {},
   "outputs": [],
   "source": [
    "# Drop rows by index using .drop()\n",
    "\n",
    "bom_df = bom_df.drop(bom_df[bom_df['title'] == 'Bluebeard'].index)"
   ]
  },
  {
   "cell_type": "code",
   "execution_count": 33,
   "metadata": {},
   "outputs": [
    {
     "data": {
      "text/plain": [
       "count                3380\n",
       "unique               3380\n",
       "top       My Soul to Take\n",
       "freq                    1\n",
       "Name: title, dtype: object"
      ]
     },
     "execution_count": 33,
     "metadata": {},
     "output_type": "execute_result"
    }
   ],
   "source": [
    "# Check that this worked using .describe()\n",
    "# Want to see 3,380 unique values \n",
    "\n",
    "bom_df['title'].describe()"
   ]
  },
  {
   "cell_type": "markdown",
   "metadata": {},
   "source": [
    "Great. Now we will drop all columns except for `studio` and `title`."
   ]
  },
  {
   "cell_type": "code",
   "execution_count": 34,
   "metadata": {},
   "outputs": [],
   "source": [
    "# Use .drop(), specify axis = 1 to drop columns \n",
    "\n",
    "bom_df = bom_df.drop(['domestic_gross', 'foreign_gross', 'year'], axis = 1)"
   ]
  },
  {
   "cell_type": "markdown",
   "metadata": {},
   "source": [
    "To make our models easier to understand, we will rename the top 20 studios from their abbreviations to full names."
   ]
  },
  {
   "cell_type": "code",
   "execution_count": 35,
   "metadata": {
    "scrolled": false
   },
   "outputs": [
    {
     "data": {
      "text/html": [
       "<div>\n",
       "<style scoped>\n",
       "    .dataframe tbody tr th:only-of-type {\n",
       "        vertical-align: middle;\n",
       "    }\n",
       "\n",
       "    .dataframe tbody tr th {\n",
       "        vertical-align: top;\n",
       "    }\n",
       "\n",
       "    .dataframe thead th {\n",
       "        text-align: right;\n",
       "    }\n",
       "</style>\n",
       "<table border=\"1\" class=\"dataframe\">\n",
       "  <thead>\n",
       "    <tr style=\"text-align: right;\">\n",
       "      <th></th>\n",
       "      <th>title</th>\n",
       "    </tr>\n",
       "    <tr>\n",
       "      <th>studio</th>\n",
       "      <th></th>\n",
       "    </tr>\n",
       "  </thead>\n",
       "  <tbody>\n",
       "    <tr>\n",
       "      <th>IFC</th>\n",
       "      <td>166</td>\n",
       "    </tr>\n",
       "    <tr>\n",
       "      <th>Uni.</th>\n",
       "      <td>147</td>\n",
       "    </tr>\n",
       "    <tr>\n",
       "      <th>WB</th>\n",
       "      <td>140</td>\n",
       "    </tr>\n",
       "    <tr>\n",
       "      <th>Fox</th>\n",
       "      <td>136</td>\n",
       "    </tr>\n",
       "    <tr>\n",
       "      <th>Magn.</th>\n",
       "      <td>136</td>\n",
       "    </tr>\n",
       "    <tr>\n",
       "      <th>SPC</th>\n",
       "      <td>123</td>\n",
       "    </tr>\n",
       "    <tr>\n",
       "      <th>Sony</th>\n",
       "      <td>110</td>\n",
       "    </tr>\n",
       "    <tr>\n",
       "      <th>BV</th>\n",
       "      <td>106</td>\n",
       "    </tr>\n",
       "    <tr>\n",
       "      <th>LGF</th>\n",
       "      <td>103</td>\n",
       "    </tr>\n",
       "    <tr>\n",
       "      <th>Par.</th>\n",
       "      <td>101</td>\n",
       "    </tr>\n",
       "    <tr>\n",
       "      <th>Eros</th>\n",
       "      <td>89</td>\n",
       "    </tr>\n",
       "    <tr>\n",
       "      <th>Wein.</th>\n",
       "      <td>77</td>\n",
       "    </tr>\n",
       "    <tr>\n",
       "      <th>CL</th>\n",
       "      <td>74</td>\n",
       "    </tr>\n",
       "    <tr>\n",
       "      <th>FoxS</th>\n",
       "      <td>67</td>\n",
       "    </tr>\n",
       "    <tr>\n",
       "      <th>Strand</th>\n",
       "      <td>67</td>\n",
       "    </tr>\n",
       "    <tr>\n",
       "      <th>RAtt.</th>\n",
       "      <td>66</td>\n",
       "    </tr>\n",
       "    <tr>\n",
       "      <th>KL</th>\n",
       "      <td>62</td>\n",
       "    </tr>\n",
       "    <tr>\n",
       "      <th>Focus</th>\n",
       "      <td>60</td>\n",
       "    </tr>\n",
       "    <tr>\n",
       "      <th>WGUSA</th>\n",
       "      <td>57</td>\n",
       "    </tr>\n",
       "    <tr>\n",
       "      <th>CJ</th>\n",
       "      <td>56</td>\n",
       "    </tr>\n",
       "  </tbody>\n",
       "</table>\n",
       "</div>"
      ],
      "text/plain": [
       "        title\n",
       "studio       \n",
       "IFC       166\n",
       "Uni.      147\n",
       "WB        140\n",
       "Fox       136\n",
       "Magn.     136\n",
       "SPC       123\n",
       "Sony      110\n",
       "BV        106\n",
       "LGF       103\n",
       "Par.      101\n",
       "Eros       89\n",
       "Wein.      77\n",
       "CL         74\n",
       "FoxS       67\n",
       "Strand     67\n",
       "RAtt.      66\n",
       "KL         62\n",
       "Focus      60\n",
       "WGUSA      57\n",
       "CJ         56"
      ]
     },
     "execution_count": 35,
     "metadata": {},
     "output_type": "execute_result"
    }
   ],
   "source": [
    "# Count the frequency of studio names\n",
    "# Sort in descending order of counts \n",
    "# Show only top 20\n",
    "\n",
    "bom_df.groupby('studio').count().sort_values(by='title',ascending=False).head(20)"
   ]
  },
  {
   "cell_type": "markdown",
   "metadata": {},
   "source": [
    "Before renaming our top 20, we will use `loc()` to look up abbreviations where we do not know the full studio name. Then we will look at unique studio names using the `unique()` function to see if any abbreviations should be grouped together under the same name. "
   ]
  },
  {
   "cell_type": "code",
   "execution_count": 36,
   "metadata": {},
   "outputs": [
    {
     "data": {
      "text/html": [
       "<div>\n",
       "<style scoped>\n",
       "    .dataframe tbody tr th:only-of-type {\n",
       "        vertical-align: middle;\n",
       "    }\n",
       "\n",
       "    .dataframe tbody tr th {\n",
       "        vertical-align: top;\n",
       "    }\n",
       "\n",
       "    .dataframe thead th {\n",
       "        text-align: right;\n",
       "    }\n",
       "</style>\n",
       "<table border=\"1\" class=\"dataframe\">\n",
       "  <thead>\n",
       "    <tr style=\"text-align: right;\">\n",
       "      <th></th>\n",
       "      <th>title</th>\n",
       "      <th>studio</th>\n",
       "    </tr>\n",
       "  </thead>\n",
       "  <tbody>\n",
       "    <tr>\n",
       "      <th>73</th>\n",
       "      <td>Piranha 3D</td>\n",
       "      <td>W/Dim.</td>\n",
       "    </tr>\n",
       "    <tr>\n",
       "      <th>146</th>\n",
       "      <td>Youth in Revolt</td>\n",
       "      <td>W/Dim.</td>\n",
       "    </tr>\n",
       "    <tr>\n",
       "      <th>398</th>\n",
       "      <td>Scream 4</td>\n",
       "      <td>W/Dim.</td>\n",
       "    </tr>\n",
       "    <tr>\n",
       "      <th>405</th>\n",
       "      <td>Spy Kids: All the Time in the World</td>\n",
       "      <td>W/Dim.</td>\n",
       "    </tr>\n",
       "    <tr>\n",
       "      <th>470</th>\n",
       "      <td>Apollo 18</td>\n",
       "      <td>W/Dim.</td>\n",
       "    </tr>\n",
       "  </tbody>\n",
       "</table>\n",
       "</div>"
      ],
      "text/plain": [
       "                                   title  studio\n",
       "73                            Piranha 3D  W/Dim.\n",
       "146                      Youth in Revolt  W/Dim.\n",
       "398                             Scream 4  W/Dim.\n",
       "405  Spy Kids: All the Time in the World  W/Dim.\n",
       "470                            Apollo 18  W/Dim."
      ]
     },
     "execution_count": 36,
     "metadata": {},
     "output_type": "execute_result"
    }
   ],
   "source": [
    "# Use .loc() to look up studio abbreviations\n",
    "\n",
    "bom_df.loc[bom_df['studio'] == 'W/Dim.'].head()"
   ]
  },
  {
   "cell_type": "code",
   "execution_count": 37,
   "metadata": {},
   "outputs": [
    {
     "data": {
      "text/plain": [
       "array(['BV', 'WB', 'P/DW', 'Sum.', 'Par.', 'Uni.', 'Fox', 'Wein.', 'Sony',\n",
       "       'FoxS', 'SGem', 'WB (NL)', 'LGF', 'MBox', 'CL', 'W/Dim.', 'CBS',\n",
       "       'Focus', 'MGM', 'Over.', 'Mira.', 'IFC', 'CJ', 'NM', 'SPC', 'ParV',\n",
       "       'Gold.', 'JS', 'RAtt.', 'Magn.', 'Free', '3D', 'UTV', 'Rela.',\n",
       "       'Zeit.', 'Anch.', 'PDA', 'Lorb.', 'App.', 'Drft.', 'Osci.', 'IW',\n",
       "       'Rog.', 'Eros', 'Relbig.', 'Viv.', 'Hann.', 'Strand', 'NGE',\n",
       "       'Scre.', 'Kino', 'Abr.', 'CZ', 'ATO', 'First', 'GK', 'FInd.',\n",
       "       'NFC', 'TFC', 'Pala.', 'Imag.', 'NAV', 'Arth.', 'CLS', 'Mont.',\n",
       "       'Olive', 'CGld', 'FOAK', 'IVP', 'Yash', 'ICir', 'FM', 'Vita.',\n",
       "       'WOW', 'Truly', 'Indic.', 'FD', 'Vari.', 'TriS', 'ORF', 'IM',\n",
       "       'Elev.', 'Cohen', 'NeoC', 'Jan.', 'MNE', 'Trib.', 'Rocket',\n",
       "       'OMNI/FSR', 'KKM', 'Argo.', 'SMod', 'Libre', 'FRun', 'WHE', 'P4',\n",
       "       'KC', 'SD', 'AM', 'MPFT', 'Icar.', 'AGF', 'A23', 'Da.', 'NYer',\n",
       "       'Rialto', 'DF', 'KL', 'ALP', 'LG/S', 'WGUSA', 'MPI', 'RTWC', 'FIP',\n",
       "       'RF', 'ArcEnt', 'PalUni', 'EpicPics', 'EOne', 'LD', 'AF', 'TFA',\n",
       "       'Myr.', 'BM&DH', 'SEG', 'PalT', 'Outs', 'OutF', 'BSM', 'WAMCR',\n",
       "       'PM&E', 'A24', 'Cdgm.', 'Distrib.', 'Imax', 'PH', 'HTR', 'ELS',\n",
       "       'PI', 'E1', 'TVC', 'FEF', 'EXCL', 'MSF', 'P/108', 'FCW', 'XL',\n",
       "       'Shout!', 'SV', 'CE', 'VPD', 'KE', 'Saban', 'CF&SR', 'Triu', 'DR',\n",
       "       'Crnth', 'Ampl.', 'CP', 'Proud', 'BGP', 'Abk.', 'DLA', 'B360',\n",
       "       'BWP', 'SEA', 'RME', 'KS', 'VE', 'LGP', 'EC', 'FUN', 'STX', 'AR',\n",
       "       'BG', 'PFR', 'BST', 'BH Tilt', 'BSC', 'U/P', 'UHE', 'CLF', 'FR',\n",
       "       'AaF', 'Orch.', 'Alc', 'PBS', 'SHO', 'Grav.', 'Gathr', 'Asp.',\n",
       "       'ADC', 'Rel.', 'SM', 'AZ', 'UEP', 'ITL', 'TA', 'MR', 'BBC',\n",
       "       'CFilms', 'Part.', 'FOR', 'TAFC', 'JBG', 'PNT', 'CineGalaxy',\n",
       "       'Fathom', 'Zee', 'Men.', 'YFG', 'Gaatri', 'Mon', 'Ghop',\n",
       "       'Cleopatra', 'Dreamwest', 'SDS', 'Linn', 'Electric', 'Jampa', 'HC',\n",
       "       'GrtIndia', 'Neon', 'ENTMP', 'Good Deed', 'ParC', 'Aviron',\n",
       "       'Annapurna', 'Amazon', 'Affirm', 'MOM', 'Orion', 'CFI', 'UTMW',\n",
       "       'Crimson', 'CAVU', 'EF', 'Arrow', 'Hiber', 'Studio 8',\n",
       "       'Global Road', 'Trafalgar', 'Greenwich', 'Spanglish', 'Blue Fox',\n",
       "       'RLJ', 'Swen', 'PackYourBag', 'Gaum.', 'Grindstone',\n",
       "       'Conglomerate', 'MUBI', 'Darin Southa', 'Super', 'CARUSEL', 'PDF',\n",
       "       'Synergetic'], dtype=object)"
      ]
     },
     "execution_count": 37,
     "metadata": {},
     "output_type": "execute_result"
    }
   ],
   "source": [
    "# Look at unique values \n",
    "\n",
    "bom_df['studio'].unique()"
   ]
  },
  {
   "cell_type": "code",
   "execution_count": 38,
   "metadata": {},
   "outputs": [],
   "source": [
    "# Create dictionary with current names as keys, new names as values \n",
    "# Use replace() and inplace=True to finalize changes\n",
    "\n",
    "bom_df['studio'].replace({'Uni.':'Universal', 'WB':'Warner Bros.', 'Magn.':'Magnolia', 'SPC':'Sony',\n",
    "                          'BV':'Walt Disney', 'LGF':'Lionsgate', 'Par.':'Paramount', \n",
    "                          'Wein.':'Weinstein Company', 'CL':'Chinese Language', 'FoxS':'Fox', \n",
    "                          'RAtt.':'Roadside Attractions', 'KL':'Kino Lorber','P/DW':'Dream Works', \n",
    "                            'WB (NL)':'Warner Bros.', 'LG/S':'Lionsgate', 'LGP':'Lionsgate',\n",
    "                            'ParV': 'Paramount','Sum.':'Summit', 'W/Dim.':'Weinstein Company'}, inplace=True)"
   ]
  },
  {
   "cell_type": "code",
   "execution_count": 39,
   "metadata": {
    "scrolled": true
   },
   "outputs": [
    {
     "data": {
      "text/html": [
       "<div>\n",
       "<style scoped>\n",
       "    .dataframe tbody tr th:only-of-type {\n",
       "        vertical-align: middle;\n",
       "    }\n",
       "\n",
       "    .dataframe tbody tr th {\n",
       "        vertical-align: top;\n",
       "    }\n",
       "\n",
       "    .dataframe thead th {\n",
       "        text-align: right;\n",
       "    }\n",
       "</style>\n",
       "<table border=\"1\" class=\"dataframe\">\n",
       "  <thead>\n",
       "    <tr style=\"text-align: right;\">\n",
       "      <th></th>\n",
       "      <th>title</th>\n",
       "      <th>studio</th>\n",
       "    </tr>\n",
       "  </thead>\n",
       "  <tbody>\n",
       "    <tr>\n",
       "      <th>0</th>\n",
       "      <td>Toy Story 3</td>\n",
       "      <td>Walt Disney</td>\n",
       "    </tr>\n",
       "    <tr>\n",
       "      <th>1</th>\n",
       "      <td>Alice in Wonderland (2010)</td>\n",
       "      <td>Walt Disney</td>\n",
       "    </tr>\n",
       "    <tr>\n",
       "      <th>2</th>\n",
       "      <td>Harry Potter and the Deathly Hallows Part 1</td>\n",
       "      <td>Warner Bros.</td>\n",
       "    </tr>\n",
       "    <tr>\n",
       "      <th>3</th>\n",
       "      <td>Inception</td>\n",
       "      <td>Warner Bros.</td>\n",
       "    </tr>\n",
       "    <tr>\n",
       "      <th>4</th>\n",
       "      <td>Shrek Forever After</td>\n",
       "      <td>Dream Works</td>\n",
       "    </tr>\n",
       "  </tbody>\n",
       "</table>\n",
       "</div>"
      ],
      "text/plain": [
       "                                         title        studio\n",
       "0                                  Toy Story 3   Walt Disney\n",
       "1                   Alice in Wonderland (2010)   Walt Disney\n",
       "2  Harry Potter and the Deathly Hallows Part 1  Warner Bros.\n",
       "3                                    Inception  Warner Bros.\n",
       "4                          Shrek Forever After   Dream Works"
      ]
     },
     "execution_count": 39,
     "metadata": {},
     "output_type": "execute_result"
    }
   ],
   "source": [
    "# Check this using .head()\n",
    "\n",
    "bom_df.head()"
   ]
  },
  {
   "cell_type": "markdown",
   "metadata": {},
   "source": [
    "Next, rename the column `title` to `movie`, using the `rename()` function, so that we can merge using this column name later. "
   ]
  },
  {
   "cell_type": "code",
   "execution_count": 40,
   "metadata": {},
   "outputs": [],
   "source": [
    "# Use .rename() and assign it to the same variable name \n",
    "\n",
    "bom_df = bom_df.rename(columns = {'title' : 'movie'})"
   ]
  },
  {
   "cell_type": "code",
   "execution_count": 41,
   "metadata": {},
   "outputs": [],
   "source": [
    "# Set the index to movie before merges \n",
    "\n",
    "bom_df = bom_df.set_index('movie')"
   ]
  },
  {
   "cell_type": "markdown",
   "metadata": {},
   "source": [
    "`bom_df` is now clean, and ready to be merged. Now we will clean `The Numbers`."
   ]
  },
  {
   "cell_type": "markdown",
   "metadata": {},
   "source": [
    "### Clean `The Numbers` Dataset"
   ]
  },
  {
   "cell_type": "markdown",
   "metadata": {},
   "source": [
    "We will first check the data for duplicate values. We already know we do not have any null values. We know we want to create new columns for the net profit, ROI, and release month. We will need to change some of our data types to `integer` and `datetime` to be able to do that, and clean up those columns from whitespace and extra characters. "
   ]
  },
  {
   "cell_type": "code",
   "execution_count": 42,
   "metadata": {},
   "outputs": [
    {
     "data": {
      "text/plain": [
       "False"
      ]
     },
     "execution_count": 42,
     "metadata": {},
     "output_type": "execute_result"
    }
   ],
   "source": [
    "# Check for any duplicates using .duplicated()\n",
    "\n",
    "df_tn.duplicated().any()"
   ]
  },
  {
   "cell_type": "markdown",
   "metadata": {},
   "source": [
    "Each column is currently in string format, except for the `id` column. We do not need the `id` column so we will drop it, and then change our data types. "
   ]
  },
  {
   "cell_type": "code",
   "execution_count": 43,
   "metadata": {},
   "outputs": [],
   "source": [
    "# Drop 'id' column using .drop()\n",
    "\n",
    "df_tn = df_tn.drop('id', axis=1)"
   ]
  },
  {
   "cell_type": "markdown",
   "metadata": {},
   "source": [
    "Change `release_date` column to datetime with `pd.to_datetime`. Assign this to the same column name and check that it worked with `info()`."
   ]
  },
  {
   "cell_type": "code",
   "execution_count": 44,
   "metadata": {},
   "outputs": [],
   "source": [
    "# Change data type \n",
    "\n",
    "df_tn['release_date'] = pd.to_datetime(df_tn['release_date'])"
   ]
  },
  {
   "cell_type": "code",
   "execution_count": 45,
   "metadata": {},
   "outputs": [
    {
     "name": "stdout",
     "output_type": "stream",
     "text": [
      "<class 'pandas.core.frame.DataFrame'>\n",
      "RangeIndex: 5782 entries, 0 to 5781\n",
      "Data columns (total 5 columns):\n",
      " #   Column             Non-Null Count  Dtype         \n",
      "---  ------             --------------  -----         \n",
      " 0   release_date       5782 non-null   datetime64[ns]\n",
      " 1   movie              5782 non-null   object        \n",
      " 2   production_budget  5782 non-null   object        \n",
      " 3   domestic_gross     5782 non-null   object        \n",
      " 4   worldwide_gross    5782 non-null   object        \n",
      "dtypes: datetime64[ns](1), object(4)\n",
      "memory usage: 226.0+ KB\n"
     ]
    }
   ],
   "source": [
    "# Check in 'Dtype 'column'\n",
    "\n",
    "df_tn.info()"
   ]
  },
  {
   "cell_type": "markdown",
   "metadata": {},
   "source": [
    "Before changing the data types for `production_budget`, `domestic_gross`, and `worldwide_gross`, use `str.replace` to replace the dollar signs and commas with an empty string. Then change to integers using `pd.to_numeric()`."
   ]
  },
  {
   "cell_type": "code",
   "execution_count": 46,
   "metadata": {},
   "outputs": [],
   "source": [
    "# Change budget format\n",
    "\n",
    "df_tn['production_budget'] = df_tn['production_budget'].str.replace('$', '')\n",
    "df_tn['production_budget'] = df_tn['production_budget'].str.replace(',', '')"
   ]
  },
  {
   "cell_type": "code",
   "execution_count": 47,
   "metadata": {},
   "outputs": [],
   "source": [
    "# Use the same method to change the format of domestic and worldwide gross\n",
    "\n",
    "df_tn['domestic_gross'] = df_tn['domestic_gross'].str.replace('$', '')\n",
    "df_tn['domestic_gross'] = df_tn['domestic_gross'].str.replace(',', '')\n",
    "\n",
    "df_tn['worldwide_gross'] = df_tn['worldwide_gross'].str.replace('$', '')\n",
    "df_tn['worldwide_gross'] = df_tn['worldwide_gross'].str.replace(',', '')"
   ]
  },
  {
   "cell_type": "code",
   "execution_count": 48,
   "metadata": {},
   "outputs": [],
   "source": [
    "# Change the data types to integers\n",
    "\n",
    "df_tn['production_budget'] = pd.to_numeric(df_tn['production_budget'])\n",
    "df_tn['domestic_gross'] = pd.to_numeric(df_tn['domestic_gross'])\n",
    "df_tn['worldwide_gross'] = pd.to_numeric(df_tn['worldwide_gross'])"
   ]
  },
  {
   "cell_type": "code",
   "execution_count": 49,
   "metadata": {},
   "outputs": [
    {
     "name": "stdout",
     "output_type": "stream",
     "text": [
      "<class 'pandas.core.frame.DataFrame'>\n",
      "RangeIndex: 5782 entries, 0 to 5781\n",
      "Data columns (total 5 columns):\n",
      " #   Column             Non-Null Count  Dtype         \n",
      "---  ------             --------------  -----         \n",
      " 0   release_date       5782 non-null   datetime64[ns]\n",
      " 1   movie              5782 non-null   object        \n",
      " 2   production_budget  5782 non-null   int64         \n",
      " 3   domestic_gross     5782 non-null   int64         \n",
      " 4   worldwide_gross    5782 non-null   int64         \n",
      "dtypes: datetime64[ns](1), int64(3), object(1)\n",
      "memory usage: 226.0+ KB\n"
     ]
    }
   ],
   "source": [
    "# Check this using .info()\n",
    "\n",
    "df_tn.info()"
   ]
  },
  {
   "cell_type": "markdown",
   "metadata": {},
   "source": [
    "Now we can create columns from `domestic_net_profit`, `worldwide_net_profit`, `domestic_ROI`, and `worldwide_ROI`. Net profit will be measured as (`gross` - `budget`). This metric can be used as a barometer of success, but we will take it one step further with return on investment. We will use this performance measure to communicate the success of films to Microsoft. Return on investment is calculated by dividing return by cost. For our analyses it will be measured as such: \n",
    "***\n",
    "`Return on Investment` (ROI) = (`worldwide_net_profit` / `production_budget`) * 100\n",
    "***\n",
    "\n",
    "We will also calculate the `domestic_ROI`, but will use `worldwide_ROI` as the more comprehensive measure. ROI can be expressed as a percentage or a ratio. For the sake of our analyses, we will multiply our formula by 100 as represent the ROI as a percentage. \n",
    "\n",
    "ROI evaluates how well an investment has performed. It is a great metric for making comparisons and ranking investments in different projects. Using ROI to measure success guarantees that we factor in as much information as possible when providing Microsoft with recommendations. We can be confident that we are accurately portraying a film's success, and not blindly advising Microsoft to move forward with prospects that may lose the company more money than it would make. \n",
    "\n",
    "One thing to be mindful of is that ROI does not take the factor of `time` into account. This is important because we would not want Microsoft to move forward in producing a film with a massive ROI that will take 30 years to produce. Alternatively, the company could produce 100 films in that same timeframe that would make them far more money overall, even if each film's individual success was only average. We will be mindful of this when discussing our recommendations. "
   ]
  },
  {
   "cell_type": "code",
   "execution_count": 50,
   "metadata": {},
   "outputs": [],
   "source": [
    "# Create column for worldwide net profit and domestic net profit\n",
    "\n",
    "df_tn['worldwide_net_profit'] = (df_tn['worldwide_gross'] - df_tn['production_budget'])\n",
    "df_tn['domestic_net_profit'] = (df_tn['domestic_gross'] - df_tn['production_budget'])"
   ]
  },
  {
   "cell_type": "code",
   "execution_count": 51,
   "metadata": {},
   "outputs": [],
   "source": [
    "# Create column for worldwide and domestic ROI \n",
    "# remember ROI will be listed here as a percentage \n",
    "\n",
    "df_tn['worldwide_ROI'] = ((df_tn['worldwide_net_profit'] / df_tn['production_budget']) * 100)\n",
    "df_tn['domestic_ROI'] = ((df_tn['domestic_net_profit'] / df_tn['production_budget']) * 100)"
   ]
  },
  {
   "cell_type": "code",
   "execution_count": 52,
   "metadata": {},
   "outputs": [
    {
     "data": {
      "text/html": [
       "<div>\n",
       "<style scoped>\n",
       "    .dataframe tbody tr th:only-of-type {\n",
       "        vertical-align: middle;\n",
       "    }\n",
       "\n",
       "    .dataframe tbody tr th {\n",
       "        vertical-align: top;\n",
       "    }\n",
       "\n",
       "    .dataframe thead th {\n",
       "        text-align: right;\n",
       "    }\n",
       "</style>\n",
       "<table border=\"1\" class=\"dataframe\">\n",
       "  <thead>\n",
       "    <tr style=\"text-align: right;\">\n",
       "      <th></th>\n",
       "      <th>release_date</th>\n",
       "      <th>movie</th>\n",
       "      <th>production_budget</th>\n",
       "      <th>domestic_gross</th>\n",
       "      <th>worldwide_gross</th>\n",
       "      <th>worldwide_net_profit</th>\n",
       "      <th>domestic_net_profit</th>\n",
       "      <th>worldwide_ROI</th>\n",
       "      <th>domestic_ROI</th>\n",
       "    </tr>\n",
       "  </thead>\n",
       "  <tbody>\n",
       "    <tr>\n",
       "      <th>0</th>\n",
       "      <td>2009-12-18</td>\n",
       "      <td>Avatar</td>\n",
       "      <td>425000000</td>\n",
       "      <td>760507625</td>\n",
       "      <td>2776345279</td>\n",
       "      <td>2351345279</td>\n",
       "      <td>335507625</td>\n",
       "      <td>553.257713</td>\n",
       "      <td>78.942971</td>\n",
       "    </tr>\n",
       "    <tr>\n",
       "      <th>1</th>\n",
       "      <td>2011-05-20</td>\n",
       "      <td>Pirates of the Caribbean: On Stranger Tides</td>\n",
       "      <td>410600000</td>\n",
       "      <td>241063875</td>\n",
       "      <td>1045663875</td>\n",
       "      <td>635063875</td>\n",
       "      <td>-169536125</td>\n",
       "      <td>154.667286</td>\n",
       "      <td>-41.289850</td>\n",
       "    </tr>\n",
       "    <tr>\n",
       "      <th>2</th>\n",
       "      <td>2019-06-07</td>\n",
       "      <td>Dark Phoenix</td>\n",
       "      <td>350000000</td>\n",
       "      <td>42762350</td>\n",
       "      <td>149762350</td>\n",
       "      <td>-200237650</td>\n",
       "      <td>-307237650</td>\n",
       "      <td>-57.210757</td>\n",
       "      <td>-87.782186</td>\n",
       "    </tr>\n",
       "    <tr>\n",
       "      <th>3</th>\n",
       "      <td>2015-05-01</td>\n",
       "      <td>Avengers: Age of Ultron</td>\n",
       "      <td>330600000</td>\n",
       "      <td>459005868</td>\n",
       "      <td>1403013963</td>\n",
       "      <td>1072413963</td>\n",
       "      <td>128405868</td>\n",
       "      <td>324.384139</td>\n",
       "      <td>38.840250</td>\n",
       "    </tr>\n",
       "    <tr>\n",
       "      <th>4</th>\n",
       "      <td>2017-12-15</td>\n",
       "      <td>Star Wars Ep. VIII: The Last Jedi</td>\n",
       "      <td>317000000</td>\n",
       "      <td>620181382</td>\n",
       "      <td>1316721747</td>\n",
       "      <td>999721747</td>\n",
       "      <td>303181382</td>\n",
       "      <td>315.369636</td>\n",
       "      <td>95.640815</td>\n",
       "    </tr>\n",
       "  </tbody>\n",
       "</table>\n",
       "</div>"
      ],
      "text/plain": [
       "  release_date                                        movie  \\\n",
       "0   2009-12-18                                       Avatar   \n",
       "1   2011-05-20  Pirates of the Caribbean: On Stranger Tides   \n",
       "2   2019-06-07                                 Dark Phoenix   \n",
       "3   2015-05-01                      Avengers: Age of Ultron   \n",
       "4   2017-12-15            Star Wars Ep. VIII: The Last Jedi   \n",
       "\n",
       "   production_budget  domestic_gross  worldwide_gross  worldwide_net_profit  \\\n",
       "0          425000000       760507625       2776345279            2351345279   \n",
       "1          410600000       241063875       1045663875             635063875   \n",
       "2          350000000        42762350        149762350            -200237650   \n",
       "3          330600000       459005868       1403013963            1072413963   \n",
       "4          317000000       620181382       1316721747             999721747   \n",
       "\n",
       "   domestic_net_profit  worldwide_ROI  domestic_ROI  \n",
       "0            335507625     553.257713     78.942971  \n",
       "1           -169536125     154.667286    -41.289850  \n",
       "2           -307237650     -57.210757    -87.782186  \n",
       "3            128405868     324.384139     38.840250  \n",
       "4            303181382     315.369636     95.640815  "
      ]
     },
     "execution_count": 52,
     "metadata": {},
     "output_type": "execute_result"
    }
   ],
   "source": [
    "# Preview the data \n",
    "\n",
    "df_tn.head()"
   ]
  },
  {
   "cell_type": "markdown",
   "metadata": {},
   "source": [
    "Now we will go ahead and create a `release_month` column. We will use the `dt.month` function to parse out each specific month from our `release_date` column. This will be listed as a number. To convert these numbers to their respective month name, we will `import calendar` and use a `lambda` function to apply to each value in the new column. \n",
    "***\n",
    "Wrote the function below using `calendar` after looking at the following page on Stack Overflow:\n",
    "* https://stackoverflow.com/questions/37625334/python-pandas-convert-month-int-to-month-name\n",
    "***"
   ]
  },
  {
   "cell_type": "code",
   "execution_count": 53,
   "metadata": {},
   "outputs": [],
   "source": [
    "# Use dt.month() to create new colum 'release_month'\n",
    "\n",
    "df_tn['release_month'] = df_tn['release_date'].dt.month"
   ]
  },
  {
   "cell_type": "code",
   "execution_count": 54,
   "metadata": {
    "scrolled": true
   },
   "outputs": [],
   "source": [
    "# Wrote this function after looking at the following page on Stack Overflow:\n",
    "# https://stackoverflow.com/questions/37625334/python-pandas-convert-month-int-to-month-name\n",
    "\n",
    "# Import calendar and use lambda function with .apply()\n",
    "\n",
    "import calendar\n",
    "df_tn['release_month'] = df_tn['release_month'].apply(lambda x: calendar.month_name[x])"
   ]
  },
  {
   "cell_type": "code",
   "execution_count": 55,
   "metadata": {
    "scrolled": true
   },
   "outputs": [
    {
     "data": {
      "text/html": [
       "<div>\n",
       "<style scoped>\n",
       "    .dataframe tbody tr th:only-of-type {\n",
       "        vertical-align: middle;\n",
       "    }\n",
       "\n",
       "    .dataframe tbody tr th {\n",
       "        vertical-align: top;\n",
       "    }\n",
       "\n",
       "    .dataframe thead th {\n",
       "        text-align: right;\n",
       "    }\n",
       "</style>\n",
       "<table border=\"1\" class=\"dataframe\">\n",
       "  <thead>\n",
       "    <tr style=\"text-align: right;\">\n",
       "      <th></th>\n",
       "      <th>release_date</th>\n",
       "      <th>movie</th>\n",
       "      <th>production_budget</th>\n",
       "      <th>domestic_gross</th>\n",
       "      <th>worldwide_gross</th>\n",
       "      <th>worldwide_net_profit</th>\n",
       "      <th>domestic_net_profit</th>\n",
       "      <th>worldwide_ROI</th>\n",
       "      <th>domestic_ROI</th>\n",
       "      <th>release_month</th>\n",
       "    </tr>\n",
       "  </thead>\n",
       "  <tbody>\n",
       "    <tr>\n",
       "      <th>0</th>\n",
       "      <td>2009-12-18</td>\n",
       "      <td>Avatar</td>\n",
       "      <td>425000000</td>\n",
       "      <td>760507625</td>\n",
       "      <td>2776345279</td>\n",
       "      <td>2351345279</td>\n",
       "      <td>335507625</td>\n",
       "      <td>553.257713</td>\n",
       "      <td>78.942971</td>\n",
       "      <td>December</td>\n",
       "    </tr>\n",
       "    <tr>\n",
       "      <th>1</th>\n",
       "      <td>2011-05-20</td>\n",
       "      <td>Pirates of the Caribbean: On Stranger Tides</td>\n",
       "      <td>410600000</td>\n",
       "      <td>241063875</td>\n",
       "      <td>1045663875</td>\n",
       "      <td>635063875</td>\n",
       "      <td>-169536125</td>\n",
       "      <td>154.667286</td>\n",
       "      <td>-41.289850</td>\n",
       "      <td>May</td>\n",
       "    </tr>\n",
       "    <tr>\n",
       "      <th>2</th>\n",
       "      <td>2019-06-07</td>\n",
       "      <td>Dark Phoenix</td>\n",
       "      <td>350000000</td>\n",
       "      <td>42762350</td>\n",
       "      <td>149762350</td>\n",
       "      <td>-200237650</td>\n",
       "      <td>-307237650</td>\n",
       "      <td>-57.210757</td>\n",
       "      <td>-87.782186</td>\n",
       "      <td>June</td>\n",
       "    </tr>\n",
       "    <tr>\n",
       "      <th>3</th>\n",
       "      <td>2015-05-01</td>\n",
       "      <td>Avengers: Age of Ultron</td>\n",
       "      <td>330600000</td>\n",
       "      <td>459005868</td>\n",
       "      <td>1403013963</td>\n",
       "      <td>1072413963</td>\n",
       "      <td>128405868</td>\n",
       "      <td>324.384139</td>\n",
       "      <td>38.840250</td>\n",
       "      <td>May</td>\n",
       "    </tr>\n",
       "    <tr>\n",
       "      <th>4</th>\n",
       "      <td>2017-12-15</td>\n",
       "      <td>Star Wars Ep. VIII: The Last Jedi</td>\n",
       "      <td>317000000</td>\n",
       "      <td>620181382</td>\n",
       "      <td>1316721747</td>\n",
       "      <td>999721747</td>\n",
       "      <td>303181382</td>\n",
       "      <td>315.369636</td>\n",
       "      <td>95.640815</td>\n",
       "      <td>December</td>\n",
       "    </tr>\n",
       "  </tbody>\n",
       "</table>\n",
       "</div>"
      ],
      "text/plain": [
       "  release_date                                        movie  \\\n",
       "0   2009-12-18                                       Avatar   \n",
       "1   2011-05-20  Pirates of the Caribbean: On Stranger Tides   \n",
       "2   2019-06-07                                 Dark Phoenix   \n",
       "3   2015-05-01                      Avengers: Age of Ultron   \n",
       "4   2017-12-15            Star Wars Ep. VIII: The Last Jedi   \n",
       "\n",
       "   production_budget  domestic_gross  worldwide_gross  worldwide_net_profit  \\\n",
       "0          425000000       760507625       2776345279            2351345279   \n",
       "1          410600000       241063875       1045663875             635063875   \n",
       "2          350000000        42762350        149762350            -200237650   \n",
       "3          330600000       459005868       1403013963            1072413963   \n",
       "4          317000000       620181382       1316721747             999721747   \n",
       "\n",
       "   domestic_net_profit  worldwide_ROI  domestic_ROI release_month  \n",
       "0            335507625     553.257713     78.942971      December  \n",
       "1           -169536125     154.667286    -41.289850           May  \n",
       "2           -307237650     -57.210757    -87.782186          June  \n",
       "3            128405868     324.384139     38.840250           May  \n",
       "4            303181382     315.369636     95.640815      December  "
      ]
     },
     "execution_count": 55,
     "metadata": {},
     "output_type": "execute_result"
    }
   ],
   "source": [
    "# Preview the adjusted dataframe\n",
    "\n",
    "df_tn.head()"
   ]
  },
  {
   "cell_type": "markdown",
   "metadata": {},
   "source": [
    "This data is almost clean enough to be merged with other datasets. We are first going to glance at the statistics of our numbers using `describe()` and move forward from there. "
   ]
  },
  {
   "cell_type": "code",
   "execution_count": 56,
   "metadata": {},
   "outputs": [
    {
     "data": {
      "text/plain": [
       "count         5782.000000\n",
       "mean      31587757.096506\n",
       "std       41812076.826943\n",
       "min           1100.000000\n",
       "25%        5000000.000000\n",
       "50%       17000000.000000\n",
       "75%       40000000.000000\n",
       "max      425000000.000000\n",
       "Name: production_budget, dtype: object"
      ]
     },
     "execution_count": 56,
     "metadata": {},
     "output_type": "execute_result"
    }
   ],
   "source": [
    "# Use .describe() and .apply() to use lambda function to change out of scientific notation \n",
    "# Look at production_budget \n",
    "\n",
    "df_tn['production_budget'].describe().apply(lambda x: format(x, 'f'))"
   ]
  },
  {
   "cell_type": "markdown",
   "metadata": {},
   "source": [
    "Good to see there are not any zero values here. We will look at grossing next."
   ]
  },
  {
   "cell_type": "code",
   "execution_count": 57,
   "metadata": {},
   "outputs": [
    {
     "data": {
      "text/plain": [
       "count          5782.000000\n",
       "mean       91487460.906434\n",
       "std       174719968.778905\n",
       "min               0.000000\n",
       "25%         4125414.750000\n",
       "50%        27984448.500000\n",
       "75%        97645836.500000\n",
       "max      2776345279.000000\n",
       "Name: worldwide_gross, dtype: object"
      ]
     },
     "execution_count": 57,
     "metadata": {},
     "output_type": "execute_result"
    }
   ],
   "source": [
    "# Use .describe() and .apply() to use lambda function to change out of scientific notation \n",
    "# Look at worldwide_grossing \n",
    "\n",
    "df_tn['worldwide_gross'].describe().apply(lambda x: format(x, 'f'))"
   ]
  },
  {
   "cell_type": "markdown",
   "metadata": {},
   "source": [
    "The minimum is 0, which means there are films listed with a `worldwide_gross` of zero. This could potentially skew our ROI data to the left, as we know these ROI values will be in the negatives. Let's drop all rows where the `worldwide_gross` is 0. We can do this by creating a new dataframe with the same variable name. We will use the `.loc()` function to specify that we only want to include rows where the value in the `worldwide_gross` column does not equal 0. "
   ]
  },
  {
   "cell_type": "code",
   "execution_count": 58,
   "metadata": {},
   "outputs": [],
   "source": [
    "# Create new dataframe using .loc()\n",
    "\n",
    "df_tn = df_tn.loc[df_tn[\"worldwide_gross\"] != 0]"
   ]
  },
  {
   "cell_type": "code",
   "execution_count": 59,
   "metadata": {},
   "outputs": [],
   "source": [
    "# Set the index to movie before merges \n",
    "\n",
    "df_tn = df_tn.set_index('movie')"
   ]
  },
  {
   "cell_type": "markdown",
   "metadata": {},
   "source": [
    "The `df_tn` dataframe should now be ready."
   ]
  },
  {
   "cell_type": "markdown",
   "metadata": {},
   "source": [
    "The only data we have left to clean is from the `IMDB` database. "
   ]
  },
  {
   "cell_type": "markdown",
   "metadata": {},
   "source": [
    "### Clean IMDB Data\n",
    "\n",
    "For our final dataset we need to explore `actors`, `writers`, `directors`, and `runtime`. We already used SQL queries to look through the tables and determine which ones we will use, and which keys to join on. First, we will join our tables and select the columns that we need. We will then merge our new dataframes with the `df_tn` dataframe that we just finished working with. From there, we will filter out the data we do not need, and create dataframes that we will use for our modeling. "
   ]
  },
  {
   "cell_type": "markdown",
   "metadata": {},
   "source": [
    "#### Start with `movie_basics`"
   ]
  },
  {
   "cell_type": "markdown",
   "metadata": {},
   "source": [
    "We will start by creating and cleaning the `movie_basics` table we looked at above. We will want to glance at the table contents and then use an SQL query to extract the data that we will need to use and create a dataframe. We will merge that dataframe with `tn_df`, and use that new dataframe as our main source of information to work out of. From there, we will explore the `actors`, `directors`, and `writers` data. Finally, we will create a separate dataframe to use when analyzing the `runtime` information. "
   ]
  },
  {
   "cell_type": "code",
   "execution_count": 60,
   "metadata": {
    "scrolled": true
   },
   "outputs": [
    {
     "name": "stdout",
     "output_type": "stream",
     "text": [
      "<class 'pandas.core.frame.DataFrame'>\n",
      "RangeIndex: 146144 entries, 0 to 146143\n",
      "Data columns (total 6 columns):\n",
      " #   Column           Non-Null Count   Dtype  \n",
      "---  ------           --------------   -----  \n",
      " 0   movie_id         146144 non-null  object \n",
      " 1   primary_title    146144 non-null  object \n",
      " 2   original_title   146123 non-null  object \n",
      " 3   start_year       146144 non-null  int64  \n",
      " 4   runtime_minutes  114405 non-null  float64\n",
      " 5   genres           140736 non-null  object \n",
      "dtypes: float64(1), int64(1), object(4)\n",
      "memory usage: 6.7+ MB\n"
     ]
    }
   ],
   "source": [
    "movie_basics.info()"
   ]
  },
  {
   "cell_type": "markdown",
   "metadata": {},
   "source": [
    "We only want `primary_title`, and `runtime_minutes`. We see the `runtime_minutes` column is missing values, and we will handle that later when creating that dataframe. For now, we will check for duplicates and create a new dataframe `imdb_basic` using an SQL query. "
   ]
  },
  {
   "cell_type": "code",
   "execution_count": 61,
   "metadata": {},
   "outputs": [
    {
     "data": {
      "text/plain": [
       "False"
      ]
     },
     "execution_count": 61,
     "metadata": {},
     "output_type": "execute_result"
    }
   ],
   "source": [
    "# Check for any duplicates \n",
    "\n",
    "movie_basics.duplicated().any()"
   ]
  },
  {
   "cell_type": "code",
   "execution_count": 62,
   "metadata": {
    "scrolled": true
   },
   "outputs": [
    {
     "data": {
      "text/html": [
       "<div>\n",
       "<style scoped>\n",
       "    .dataframe tbody tr th:only-of-type {\n",
       "        vertical-align: middle;\n",
       "    }\n",
       "\n",
       "    .dataframe tbody tr th {\n",
       "        vertical-align: top;\n",
       "    }\n",
       "\n",
       "    .dataframe thead th {\n",
       "        text-align: right;\n",
       "    }\n",
       "</style>\n",
       "<table border=\"1\" class=\"dataframe\">\n",
       "  <thead>\n",
       "    <tr style=\"text-align: right;\">\n",
       "      <th></th>\n",
       "      <th>primary_title</th>\n",
       "      <th>runtime_minutes</th>\n",
       "    </tr>\n",
       "  </thead>\n",
       "  <tbody>\n",
       "    <tr>\n",
       "      <th>0</th>\n",
       "      <td>Sunghursh</td>\n",
       "      <td>175.0</td>\n",
       "    </tr>\n",
       "    <tr>\n",
       "      <th>1</th>\n",
       "      <td>One Day Before the Rainy Season</td>\n",
       "      <td>114.0</td>\n",
       "    </tr>\n",
       "    <tr>\n",
       "      <th>2</th>\n",
       "      <td>The Other Side of the Wind</td>\n",
       "      <td>122.0</td>\n",
       "    </tr>\n",
       "    <tr>\n",
       "      <th>3</th>\n",
       "      <td>Sabse Bada Sukh</td>\n",
       "      <td>NaN</td>\n",
       "    </tr>\n",
       "    <tr>\n",
       "      <th>4</th>\n",
       "      <td>The Wandering Soap Opera</td>\n",
       "      <td>80.0</td>\n",
       "    </tr>\n",
       "  </tbody>\n",
       "</table>\n",
       "</div>"
      ],
      "text/plain": [
       "                     primary_title  runtime_minutes\n",
       "0                        Sunghursh            175.0\n",
       "1  One Day Before the Rainy Season            114.0\n",
       "2       The Other Side of the Wind            122.0\n",
       "3                  Sabse Bada Sukh              NaN\n",
       "4         The Wandering Soap Opera             80.0"
      ]
     },
     "execution_count": 62,
     "metadata": {},
     "output_type": "execute_result"
    }
   ],
   "source": [
    "#Create query\n",
    "q = \"\"\"\n",
    "SELECT\n",
    "    mb.primary_title,\n",
    "    mb.runtime_minutes\n",
    "FROM\n",
    "    movie_basics AS mb\n",
    "\"\"\"\n",
    "\n",
    "# Use pd.read_sql to create dataframe\n",
    "imdb_basic = pd.read_sql(q, conn)\n",
    "\n",
    "# Preview the data\n",
    "imdb_basic.head()"
   ]
  },
  {
   "cell_type": "markdown",
   "metadata": {},
   "source": [
    "Rename `primary_title` to `movie` to keep consistent with the other dataframes. Then set the index."
   ]
  },
  {
   "cell_type": "code",
   "execution_count": 63,
   "metadata": {},
   "outputs": [],
   "source": [
    "# Rename column\n",
    "imdb_basic = imdb_basic.rename(columns={'primary_title': 'movie'})\n",
    "\n",
    "# Reset the index\n",
    "imdb_basic = imdb_basic.set_index('movie')"
   ]
  },
  {
   "cell_type": "markdown",
   "metadata": {},
   "source": [
    "#### Create `basics_df`\n",
    "Merge `df_tn` and `imdb_basic` on `movie`"
   ]
  },
  {
   "cell_type": "code",
   "execution_count": 64,
   "metadata": {},
   "outputs": [
    {
     "data": {
      "text/html": [
       "<div>\n",
       "<style scoped>\n",
       "    .dataframe tbody tr th:only-of-type {\n",
       "        vertical-align: middle;\n",
       "    }\n",
       "\n",
       "    .dataframe tbody tr th {\n",
       "        vertical-align: top;\n",
       "    }\n",
       "\n",
       "    .dataframe thead th {\n",
       "        text-align: right;\n",
       "    }\n",
       "</style>\n",
       "<table border=\"1\" class=\"dataframe\">\n",
       "  <thead>\n",
       "    <tr style=\"text-align: right;\">\n",
       "      <th></th>\n",
       "      <th>release_date</th>\n",
       "      <th>production_budget</th>\n",
       "      <th>domestic_gross</th>\n",
       "      <th>worldwide_gross</th>\n",
       "      <th>worldwide_net_profit</th>\n",
       "      <th>domestic_net_profit</th>\n",
       "      <th>worldwide_ROI</th>\n",
       "      <th>domestic_ROI</th>\n",
       "      <th>release_month</th>\n",
       "      <th>runtime_minutes</th>\n",
       "    </tr>\n",
       "    <tr>\n",
       "      <th>movie</th>\n",
       "      <th></th>\n",
       "      <th></th>\n",
       "      <th></th>\n",
       "      <th></th>\n",
       "      <th></th>\n",
       "      <th></th>\n",
       "      <th></th>\n",
       "      <th></th>\n",
       "      <th></th>\n",
       "      <th></th>\n",
       "    </tr>\n",
       "  </thead>\n",
       "  <tbody>\n",
       "    <tr>\n",
       "      <th>Avatar</th>\n",
       "      <td>2009-12-18</td>\n",
       "      <td>425000000</td>\n",
       "      <td>760507625</td>\n",
       "      <td>2776345279</td>\n",
       "      <td>2351345279</td>\n",
       "      <td>335507625</td>\n",
       "      <td>553.257713</td>\n",
       "      <td>78.942971</td>\n",
       "      <td>December</td>\n",
       "      <td>93.0</td>\n",
       "    </tr>\n",
       "    <tr>\n",
       "      <th>Pirates of the Caribbean: On Stranger Tides</th>\n",
       "      <td>2011-05-20</td>\n",
       "      <td>410600000</td>\n",
       "      <td>241063875</td>\n",
       "      <td>1045663875</td>\n",
       "      <td>635063875</td>\n",
       "      <td>-169536125</td>\n",
       "      <td>154.667286</td>\n",
       "      <td>-41.289850</td>\n",
       "      <td>May</td>\n",
       "      <td>136.0</td>\n",
       "    </tr>\n",
       "    <tr>\n",
       "      <th>Dark Phoenix</th>\n",
       "      <td>2019-06-07</td>\n",
       "      <td>350000000</td>\n",
       "      <td>42762350</td>\n",
       "      <td>149762350</td>\n",
       "      <td>-200237650</td>\n",
       "      <td>-307237650</td>\n",
       "      <td>-57.210757</td>\n",
       "      <td>-87.782186</td>\n",
       "      <td>June</td>\n",
       "      <td>113.0</td>\n",
       "    </tr>\n",
       "    <tr>\n",
       "      <th>Avengers: Age of Ultron</th>\n",
       "      <td>2015-05-01</td>\n",
       "      <td>330600000</td>\n",
       "      <td>459005868</td>\n",
       "      <td>1403013963</td>\n",
       "      <td>1072413963</td>\n",
       "      <td>128405868</td>\n",
       "      <td>324.384139</td>\n",
       "      <td>38.840250</td>\n",
       "      <td>May</td>\n",
       "      <td>141.0</td>\n",
       "    </tr>\n",
       "    <tr>\n",
       "      <th>Avengers: Infinity War</th>\n",
       "      <td>2018-04-27</td>\n",
       "      <td>300000000</td>\n",
       "      <td>678815482</td>\n",
       "      <td>2048134200</td>\n",
       "      <td>1748134200</td>\n",
       "      <td>378815482</td>\n",
       "      <td>582.711400</td>\n",
       "      <td>126.271827</td>\n",
       "      <td>April</td>\n",
       "      <td>149.0</td>\n",
       "    </tr>\n",
       "  </tbody>\n",
       "</table>\n",
       "</div>"
      ],
      "text/plain": [
       "                                            release_date  production_budget  \\\n",
       "movie                                                                         \n",
       "Avatar                                        2009-12-18          425000000   \n",
       "Pirates of the Caribbean: On Stranger Tides   2011-05-20          410600000   \n",
       "Dark Phoenix                                  2019-06-07          350000000   \n",
       "Avengers: Age of Ultron                       2015-05-01          330600000   \n",
       "Avengers: Infinity War                        2018-04-27          300000000   \n",
       "\n",
       "                                             domestic_gross  worldwide_gross  \\\n",
       "movie                                                                          \n",
       "Avatar                                            760507625       2776345279   \n",
       "Pirates of the Caribbean: On Stranger Tides       241063875       1045663875   \n",
       "Dark Phoenix                                       42762350        149762350   \n",
       "Avengers: Age of Ultron                           459005868       1403013963   \n",
       "Avengers: Infinity War                            678815482       2048134200   \n",
       "\n",
       "                                             worldwide_net_profit  \\\n",
       "movie                                                               \n",
       "Avatar                                                 2351345279   \n",
       "Pirates of the Caribbean: On Stranger Tides             635063875   \n",
       "Dark Phoenix                                           -200237650   \n",
       "Avengers: Age of Ultron                                1072413963   \n",
       "Avengers: Infinity War                                 1748134200   \n",
       "\n",
       "                                             domestic_net_profit  \\\n",
       "movie                                                              \n",
       "Avatar                                                 335507625   \n",
       "Pirates of the Caribbean: On Stranger Tides           -169536125   \n",
       "Dark Phoenix                                          -307237650   \n",
       "Avengers: Age of Ultron                                128405868   \n",
       "Avengers: Infinity War                                 378815482   \n",
       "\n",
       "                                             worldwide_ROI  domestic_ROI  \\\n",
       "movie                                                                      \n",
       "Avatar                                          553.257713     78.942971   \n",
       "Pirates of the Caribbean: On Stranger Tides     154.667286    -41.289850   \n",
       "Dark Phoenix                                    -57.210757    -87.782186   \n",
       "Avengers: Age of Ultron                         324.384139     38.840250   \n",
       "Avengers: Infinity War                          582.711400    126.271827   \n",
       "\n",
       "                                            release_month  runtime_minutes  \n",
       "movie                                                                       \n",
       "Avatar                                           December             93.0  \n",
       "Pirates of the Caribbean: On Stranger Tides           May            136.0  \n",
       "Dark Phoenix                                         June            113.0  \n",
       "Avengers: Age of Ultron                               May            141.0  \n",
       "Avengers: Infinity War                              April            149.0  "
      ]
     },
     "execution_count": 64,
     "metadata": {},
     "output_type": "execute_result"
    }
   ],
   "source": [
    "# Use pd.merge()\n",
    "\n",
    "basics_df = pd.merge(df_tn, imdb_basic, on='movie')\n",
    "\n",
    "# Check that this worked\n",
    "basics_df.head()"
   ]
  },
  {
   "cell_type": "markdown",
   "metadata": {},
   "source": [
    "Looks ok so far. We will likely have duplicate values and mismatched values after the merge. We will use `sort_values()` to sort the dataframe by `worldwide_gross` in `descending` order. If there are duplicates, we will use the `loc()` function again to create a new dataframe without these duplicated values. "
   ]
  },
  {
   "cell_type": "code",
   "execution_count": 65,
   "metadata": {
    "scrolled": true
   },
   "outputs": [
    {
     "data": {
      "text/html": [
       "<div>\n",
       "<style scoped>\n",
       "    .dataframe tbody tr th:only-of-type {\n",
       "        vertical-align: middle;\n",
       "    }\n",
       "\n",
       "    .dataframe tbody tr th {\n",
       "        vertical-align: top;\n",
       "    }\n",
       "\n",
       "    .dataframe thead th {\n",
       "        text-align: right;\n",
       "    }\n",
       "</style>\n",
       "<table border=\"1\" class=\"dataframe\">\n",
       "  <thead>\n",
       "    <tr style=\"text-align: right;\">\n",
       "      <th></th>\n",
       "      <th>release_date</th>\n",
       "      <th>production_budget</th>\n",
       "      <th>domestic_gross</th>\n",
       "      <th>worldwide_gross</th>\n",
       "      <th>worldwide_net_profit</th>\n",
       "      <th>domestic_net_profit</th>\n",
       "      <th>worldwide_ROI</th>\n",
       "      <th>domestic_ROI</th>\n",
       "      <th>release_month</th>\n",
       "      <th>runtime_minutes</th>\n",
       "    </tr>\n",
       "    <tr>\n",
       "      <th>movie</th>\n",
       "      <th></th>\n",
       "      <th></th>\n",
       "      <th></th>\n",
       "      <th></th>\n",
       "      <th></th>\n",
       "      <th></th>\n",
       "      <th></th>\n",
       "      <th></th>\n",
       "      <th></th>\n",
       "      <th></th>\n",
       "    </tr>\n",
       "  </thead>\n",
       "  <tbody>\n",
       "    <tr>\n",
       "      <th>Avatar</th>\n",
       "      <td>2009-12-18</td>\n",
       "      <td>425000000</td>\n",
       "      <td>760507625</td>\n",
       "      <td>2776345279</td>\n",
       "      <td>2351345279</td>\n",
       "      <td>335507625</td>\n",
       "      <td>553.257713</td>\n",
       "      <td>78.942971</td>\n",
       "      <td>December</td>\n",
       "      <td>93.0</td>\n",
       "    </tr>\n",
       "    <tr>\n",
       "      <th>Titanic</th>\n",
       "      <td>1997-12-19</td>\n",
       "      <td>200000000</td>\n",
       "      <td>659363944</td>\n",
       "      <td>2208208395</td>\n",
       "      <td>2008208395</td>\n",
       "      <td>459363944</td>\n",
       "      <td>1004.104198</td>\n",
       "      <td>229.681972</td>\n",
       "      <td>December</td>\n",
       "      <td>115.0</td>\n",
       "    </tr>\n",
       "    <tr>\n",
       "      <th>Titanic</th>\n",
       "      <td>1997-12-19</td>\n",
       "      <td>200000000</td>\n",
       "      <td>659363944</td>\n",
       "      <td>2208208395</td>\n",
       "      <td>2008208395</td>\n",
       "      <td>459363944</td>\n",
       "      <td>1004.104198</td>\n",
       "      <td>229.681972</td>\n",
       "      <td>December</td>\n",
       "      <td>NaN</td>\n",
       "    </tr>\n",
       "    <tr>\n",
       "      <th>Avengers: Infinity War</th>\n",
       "      <td>2018-04-27</td>\n",
       "      <td>300000000</td>\n",
       "      <td>678815482</td>\n",
       "      <td>2048134200</td>\n",
       "      <td>1748134200</td>\n",
       "      <td>378815482</td>\n",
       "      <td>582.711400</td>\n",
       "      <td>126.271827</td>\n",
       "      <td>April</td>\n",
       "      <td>149.0</td>\n",
       "    </tr>\n",
       "    <tr>\n",
       "      <th>Jurassic World</th>\n",
       "      <td>2015-06-12</td>\n",
       "      <td>215000000</td>\n",
       "      <td>652270625</td>\n",
       "      <td>1648854864</td>\n",
       "      <td>1433854864</td>\n",
       "      <td>437270625</td>\n",
       "      <td>666.909239</td>\n",
       "      <td>203.381686</td>\n",
       "      <td>June</td>\n",
       "      <td>124.0</td>\n",
       "    </tr>\n",
       "    <tr>\n",
       "      <th>Furious 7</th>\n",
       "      <td>2015-04-03</td>\n",
       "      <td>190000000</td>\n",
       "      <td>353007020</td>\n",
       "      <td>1518722794</td>\n",
       "      <td>1328722794</td>\n",
       "      <td>163007020</td>\n",
       "      <td>699.327786</td>\n",
       "      <td>85.793168</td>\n",
       "      <td>April</td>\n",
       "      <td>137.0</td>\n",
       "    </tr>\n",
       "    <tr>\n",
       "      <th>The Avengers</th>\n",
       "      <td>2012-05-04</td>\n",
       "      <td>225000000</td>\n",
       "      <td>623279547</td>\n",
       "      <td>1517935897</td>\n",
       "      <td>1292935897</td>\n",
       "      <td>398279547</td>\n",
       "      <td>574.638176</td>\n",
       "      <td>177.013132</td>\n",
       "      <td>May</td>\n",
       "      <td>143.0</td>\n",
       "    </tr>\n",
       "    <tr>\n",
       "      <th>Avengers: Age of Ultron</th>\n",
       "      <td>2015-05-01</td>\n",
       "      <td>330600000</td>\n",
       "      <td>459005868</td>\n",
       "      <td>1403013963</td>\n",
       "      <td>1072413963</td>\n",
       "      <td>128405868</td>\n",
       "      <td>324.384139</td>\n",
       "      <td>38.840250</td>\n",
       "      <td>May</td>\n",
       "      <td>141.0</td>\n",
       "    </tr>\n",
       "    <tr>\n",
       "      <th>Black Panther</th>\n",
       "      <td>2018-02-16</td>\n",
       "      <td>200000000</td>\n",
       "      <td>700059566</td>\n",
       "      <td>1348258224</td>\n",
       "      <td>1148258224</td>\n",
       "      <td>500059566</td>\n",
       "      <td>574.129112</td>\n",
       "      <td>250.029783</td>\n",
       "      <td>February</td>\n",
       "      <td>134.0</td>\n",
       "    </tr>\n",
       "    <tr>\n",
       "      <th>Jurassic World: Fallen Kingdom</th>\n",
       "      <td>2018-06-22</td>\n",
       "      <td>170000000</td>\n",
       "      <td>417719760</td>\n",
       "      <td>1305772799</td>\n",
       "      <td>1135772799</td>\n",
       "      <td>247719760</td>\n",
       "      <td>668.101646</td>\n",
       "      <td>145.717506</td>\n",
       "      <td>June</td>\n",
       "      <td>128.0</td>\n",
       "    </tr>\n",
       "    <tr>\n",
       "      <th>Frozen</th>\n",
       "      <td>2013-11-22</td>\n",
       "      <td>150000000</td>\n",
       "      <td>400738009</td>\n",
       "      <td>1272469910</td>\n",
       "      <td>1122469910</td>\n",
       "      <td>250738009</td>\n",
       "      <td>748.313273</td>\n",
       "      <td>167.158673</td>\n",
       "      <td>November</td>\n",
       "      <td>92.0</td>\n",
       "    </tr>\n",
       "    <tr>\n",
       "      <th>Frozen</th>\n",
       "      <td>2013-11-22</td>\n",
       "      <td>150000000</td>\n",
       "      <td>400738009</td>\n",
       "      <td>1272469910</td>\n",
       "      <td>1122469910</td>\n",
       "      <td>250738009</td>\n",
       "      <td>748.313273</td>\n",
       "      <td>167.158673</td>\n",
       "      <td>November</td>\n",
       "      <td>93.0</td>\n",
       "    </tr>\n",
       "    <tr>\n",
       "      <th>Frozen</th>\n",
       "      <td>2013-11-22</td>\n",
       "      <td>150000000</td>\n",
       "      <td>400738009</td>\n",
       "      <td>1272469910</td>\n",
       "      <td>1122469910</td>\n",
       "      <td>250738009</td>\n",
       "      <td>748.313273</td>\n",
       "      <td>167.158673</td>\n",
       "      <td>November</td>\n",
       "      <td>102.0</td>\n",
       "    </tr>\n",
       "    <tr>\n",
       "      <th>Beauty and the Beast</th>\n",
       "      <td>2017-03-17</td>\n",
       "      <td>160000000</td>\n",
       "      <td>504014165</td>\n",
       "      <td>1259199706</td>\n",
       "      <td>1099199706</td>\n",
       "      <td>344014165</td>\n",
       "      <td>686.999816</td>\n",
       "      <td>215.008853</td>\n",
       "      <td>March</td>\n",
       "      <td>60.0</td>\n",
       "    </tr>\n",
       "    <tr>\n",
       "      <th>Beauty and the Beast</th>\n",
       "      <td>2017-03-17</td>\n",
       "      <td>160000000</td>\n",
       "      <td>504014165</td>\n",
       "      <td>1259199706</td>\n",
       "      <td>1099199706</td>\n",
       "      <td>344014165</td>\n",
       "      <td>686.999816</td>\n",
       "      <td>215.008853</td>\n",
       "      <td>March</td>\n",
       "      <td>129.0</td>\n",
       "    </tr>\n",
       "    <tr>\n",
       "      <th>Beauty and the Beast</th>\n",
       "      <td>2017-03-17</td>\n",
       "      <td>160000000</td>\n",
       "      <td>504014165</td>\n",
       "      <td>1259199706</td>\n",
       "      <td>1099199706</td>\n",
       "      <td>344014165</td>\n",
       "      <td>686.999816</td>\n",
       "      <td>215.008853</td>\n",
       "      <td>March</td>\n",
       "      <td>112.0</td>\n",
       "    </tr>\n",
       "    <tr>\n",
       "      <th>Incredibles 2</th>\n",
       "      <td>2018-06-15</td>\n",
       "      <td>200000000</td>\n",
       "      <td>608581744</td>\n",
       "      <td>1242520711</td>\n",
       "      <td>1042520711</td>\n",
       "      <td>408581744</td>\n",
       "      <td>521.260356</td>\n",
       "      <td>204.290872</td>\n",
       "      <td>June</td>\n",
       "      <td>118.0</td>\n",
       "    </tr>\n",
       "    <tr>\n",
       "      <th>The Fate of the Furious</th>\n",
       "      <td>2017-04-14</td>\n",
       "      <td>250000000</td>\n",
       "      <td>225764765</td>\n",
       "      <td>1234846267</td>\n",
       "      <td>984846267</td>\n",
       "      <td>-24235235</td>\n",
       "      <td>393.938507</td>\n",
       "      <td>-9.694094</td>\n",
       "      <td>April</td>\n",
       "      <td>136.0</td>\n",
       "    </tr>\n",
       "    <tr>\n",
       "      <th>Iron Man 3</th>\n",
       "      <td>2013-05-03</td>\n",
       "      <td>200000000</td>\n",
       "      <td>408992272</td>\n",
       "      <td>1215392272</td>\n",
       "      <td>1015392272</td>\n",
       "      <td>208992272</td>\n",
       "      <td>507.696136</td>\n",
       "      <td>104.496136</td>\n",
       "      <td>May</td>\n",
       "      <td>130.0</td>\n",
       "    </tr>\n",
       "    <tr>\n",
       "      <th>Minions</th>\n",
       "      <td>2015-07-10</td>\n",
       "      <td>74000000</td>\n",
       "      <td>336045770</td>\n",
       "      <td>1160336173</td>\n",
       "      <td>1086336173</td>\n",
       "      <td>262045770</td>\n",
       "      <td>1468.021855</td>\n",
       "      <td>354.115905</td>\n",
       "      <td>July</td>\n",
       "      <td>91.0</td>\n",
       "    </tr>\n",
       "  </tbody>\n",
       "</table>\n",
       "</div>"
      ],
      "text/plain": [
       "                               release_date  production_budget  \\\n",
       "movie                                                            \n",
       "Avatar                           2009-12-18          425000000   \n",
       "Titanic                          1997-12-19          200000000   \n",
       "Titanic                          1997-12-19          200000000   \n",
       "Avengers: Infinity War           2018-04-27          300000000   \n",
       "Jurassic World                   2015-06-12          215000000   \n",
       "Furious 7                        2015-04-03          190000000   \n",
       "The Avengers                     2012-05-04          225000000   \n",
       "Avengers: Age of Ultron          2015-05-01          330600000   \n",
       "Black Panther                    2018-02-16          200000000   \n",
       "Jurassic World: Fallen Kingdom   2018-06-22          170000000   \n",
       "Frozen                           2013-11-22          150000000   \n",
       "Frozen                           2013-11-22          150000000   \n",
       "Frozen                           2013-11-22          150000000   \n",
       "Beauty and the Beast             2017-03-17          160000000   \n",
       "Beauty and the Beast             2017-03-17          160000000   \n",
       "Beauty and the Beast             2017-03-17          160000000   \n",
       "Incredibles 2                    2018-06-15          200000000   \n",
       "The Fate of the Furious          2017-04-14          250000000   \n",
       "Iron Man 3                       2013-05-03          200000000   \n",
       "Minions                          2015-07-10           74000000   \n",
       "\n",
       "                                domestic_gross  worldwide_gross  \\\n",
       "movie                                                             \n",
       "Avatar                               760507625       2776345279   \n",
       "Titanic                              659363944       2208208395   \n",
       "Titanic                              659363944       2208208395   \n",
       "Avengers: Infinity War               678815482       2048134200   \n",
       "Jurassic World                       652270625       1648854864   \n",
       "Furious 7                            353007020       1518722794   \n",
       "The Avengers                         623279547       1517935897   \n",
       "Avengers: Age of Ultron              459005868       1403013963   \n",
       "Black Panther                        700059566       1348258224   \n",
       "Jurassic World: Fallen Kingdom       417719760       1305772799   \n",
       "Frozen                               400738009       1272469910   \n",
       "Frozen                               400738009       1272469910   \n",
       "Frozen                               400738009       1272469910   \n",
       "Beauty and the Beast                 504014165       1259199706   \n",
       "Beauty and the Beast                 504014165       1259199706   \n",
       "Beauty and the Beast                 504014165       1259199706   \n",
       "Incredibles 2                        608581744       1242520711   \n",
       "The Fate of the Furious              225764765       1234846267   \n",
       "Iron Man 3                           408992272       1215392272   \n",
       "Minions                              336045770       1160336173   \n",
       "\n",
       "                                worldwide_net_profit  domestic_net_profit  \\\n",
       "movie                                                                       \n",
       "Avatar                                    2351345279            335507625   \n",
       "Titanic                                   2008208395            459363944   \n",
       "Titanic                                   2008208395            459363944   \n",
       "Avengers: Infinity War                    1748134200            378815482   \n",
       "Jurassic World                            1433854864            437270625   \n",
       "Furious 7                                 1328722794            163007020   \n",
       "The Avengers                              1292935897            398279547   \n",
       "Avengers: Age of Ultron                   1072413963            128405868   \n",
       "Black Panther                             1148258224            500059566   \n",
       "Jurassic World: Fallen Kingdom            1135772799            247719760   \n",
       "Frozen                                    1122469910            250738009   \n",
       "Frozen                                    1122469910            250738009   \n",
       "Frozen                                    1122469910            250738009   \n",
       "Beauty and the Beast                      1099199706            344014165   \n",
       "Beauty and the Beast                      1099199706            344014165   \n",
       "Beauty and the Beast                      1099199706            344014165   \n",
       "Incredibles 2                             1042520711            408581744   \n",
       "The Fate of the Furious                    984846267            -24235235   \n",
       "Iron Man 3                                1015392272            208992272   \n",
       "Minions                                   1086336173            262045770   \n",
       "\n",
       "                                worldwide_ROI  domestic_ROI release_month  \\\n",
       "movie                                                                       \n",
       "Avatar                             553.257713     78.942971      December   \n",
       "Titanic                           1004.104198    229.681972      December   \n",
       "Titanic                           1004.104198    229.681972      December   \n",
       "Avengers: Infinity War             582.711400    126.271827         April   \n",
       "Jurassic World                     666.909239    203.381686          June   \n",
       "Furious 7                          699.327786     85.793168         April   \n",
       "The Avengers                       574.638176    177.013132           May   \n",
       "Avengers: Age of Ultron            324.384139     38.840250           May   \n",
       "Black Panther                      574.129112    250.029783      February   \n",
       "Jurassic World: Fallen Kingdom     668.101646    145.717506          June   \n",
       "Frozen                             748.313273    167.158673      November   \n",
       "Frozen                             748.313273    167.158673      November   \n",
       "Frozen                             748.313273    167.158673      November   \n",
       "Beauty and the Beast               686.999816    215.008853         March   \n",
       "Beauty and the Beast               686.999816    215.008853         March   \n",
       "Beauty and the Beast               686.999816    215.008853         March   \n",
       "Incredibles 2                      521.260356    204.290872          June   \n",
       "The Fate of the Furious            393.938507     -9.694094         April   \n",
       "Iron Man 3                         507.696136    104.496136           May   \n",
       "Minions                           1468.021855    354.115905          July   \n",
       "\n",
       "                                runtime_minutes  \n",
       "movie                                            \n",
       "Avatar                                     93.0  \n",
       "Titanic                                   115.0  \n",
       "Titanic                                     NaN  \n",
       "Avengers: Infinity War                    149.0  \n",
       "Jurassic World                            124.0  \n",
       "Furious 7                                 137.0  \n",
       "The Avengers                              143.0  \n",
       "Avengers: Age of Ultron                   141.0  \n",
       "Black Panther                             134.0  \n",
       "Jurassic World: Fallen Kingdom            128.0  \n",
       "Frozen                                     92.0  \n",
       "Frozen                                     93.0  \n",
       "Frozen                                    102.0  \n",
       "Beauty and the Beast                       60.0  \n",
       "Beauty and the Beast                      129.0  \n",
       "Beauty and the Beast                      112.0  \n",
       "Incredibles 2                             118.0  \n",
       "The Fate of the Furious                   136.0  \n",
       "Iron Man 3                                130.0  \n",
       "Minions                                    91.0  "
      ]
     },
     "execution_count": 65,
     "metadata": {},
     "output_type": "execute_result"
    }
   ],
   "source": [
    "# Sort dataframe by worldwide_gross\n",
    "basics_df = basics_df.sort_values(by=['worldwide_gross'], ascending=False)\n",
    "\n",
    "# Preview this\n",
    "basics_df.head(20)"
   ]
  },
  {
   "cell_type": "markdown",
   "metadata": {},
   "source": [
    "As expected, we can already see duplicate values where `Titanic`, `Frozen`, and `Beauty and the Beast` are the index. The entries have different `runtime_minutes` values. We will create a new dataframe called `df_basics`, that only keeps the duplicated entries with the lowest `worldwide_gross`. We will use the tilde bitwise operator for this, which negates the `loc()` statement. So instead of accessing the duplicated entries and marking all duplicates, except for the first, as `True`, and keeping only the first occurrence by index (which we have set to `movie`), it reverses the `True` to `False`. So our new dataframe keeps only the last duplicated index.\n",
    "***\n",
    "Wrote `.loc()` function with the help of the following pages on Stack Overflow:\n",
    "* https://stackoverflow.com/questions/13035764/remove-pandas-rows-with-duplicate-indices\n",
    "* https://stackoverflow.com/questions/47164362/what-does-a-symbol-do\n",
    "* https://stackoverflow.com/questions/35939552/pandas-using-the-tilde-operator-to-return-inverse-data-with-two-filters\n",
    "* https://stackoverflow.com/questions/35939552/pandas-using-the-tilde-operator-to-return-inverse-data-with-two-filters"
   ]
  },
  {
   "cell_type": "code",
   "execution_count": 66,
   "metadata": {},
   "outputs": [
    {
     "data": {
      "text/plain": [
       "True"
      ]
     },
     "execution_count": 66,
     "metadata": {},
     "output_type": "execute_result"
    }
   ],
   "source": [
    "# Check duplicates\n",
    "\n",
    "basics_df.duplicated().any()"
   ]
  },
  {
   "cell_type": "code",
   "execution_count": 67,
   "metadata": {
    "scrolled": true
   },
   "outputs": [
    {
     "data": {
      "text/html": [
       "<div>\n",
       "<style scoped>\n",
       "    .dataframe tbody tr th:only-of-type {\n",
       "        vertical-align: middle;\n",
       "    }\n",
       "\n",
       "    .dataframe tbody tr th {\n",
       "        vertical-align: top;\n",
       "    }\n",
       "\n",
       "    .dataframe thead th {\n",
       "        text-align: right;\n",
       "    }\n",
       "</style>\n",
       "<table border=\"1\" class=\"dataframe\">\n",
       "  <thead>\n",
       "    <tr style=\"text-align: right;\">\n",
       "      <th></th>\n",
       "      <th>release_date</th>\n",
       "      <th>production_budget</th>\n",
       "      <th>domestic_gross</th>\n",
       "      <th>worldwide_gross</th>\n",
       "      <th>worldwide_net_profit</th>\n",
       "      <th>domestic_net_profit</th>\n",
       "      <th>worldwide_ROI</th>\n",
       "      <th>domestic_ROI</th>\n",
       "      <th>release_month</th>\n",
       "      <th>runtime_minutes</th>\n",
       "    </tr>\n",
       "    <tr>\n",
       "      <th>movie</th>\n",
       "      <th></th>\n",
       "      <th></th>\n",
       "      <th></th>\n",
       "      <th></th>\n",
       "      <th></th>\n",
       "      <th></th>\n",
       "      <th></th>\n",
       "      <th></th>\n",
       "      <th></th>\n",
       "      <th></th>\n",
       "    </tr>\n",
       "  </thead>\n",
       "  <tbody>\n",
       "    <tr>\n",
       "      <th>Avatar</th>\n",
       "      <td>2009-12-18</td>\n",
       "      <td>425000000</td>\n",
       "      <td>760507625</td>\n",
       "      <td>2776345279</td>\n",
       "      <td>2351345279</td>\n",
       "      <td>335507625</td>\n",
       "      <td>553.257713</td>\n",
       "      <td>78.942971</td>\n",
       "      <td>December</td>\n",
       "      <td>93.0</td>\n",
       "    </tr>\n",
       "    <tr>\n",
       "      <th>Titanic</th>\n",
       "      <td>1997-12-19</td>\n",
       "      <td>200000000</td>\n",
       "      <td>659363944</td>\n",
       "      <td>2208208395</td>\n",
       "      <td>2008208395</td>\n",
       "      <td>459363944</td>\n",
       "      <td>1004.104198</td>\n",
       "      <td>229.681972</td>\n",
       "      <td>December</td>\n",
       "      <td>115.0</td>\n",
       "    </tr>\n",
       "    <tr>\n",
       "      <th>Avengers: Infinity War</th>\n",
       "      <td>2018-04-27</td>\n",
       "      <td>300000000</td>\n",
       "      <td>678815482</td>\n",
       "      <td>2048134200</td>\n",
       "      <td>1748134200</td>\n",
       "      <td>378815482</td>\n",
       "      <td>582.711400</td>\n",
       "      <td>126.271827</td>\n",
       "      <td>April</td>\n",
       "      <td>149.0</td>\n",
       "    </tr>\n",
       "    <tr>\n",
       "      <th>Jurassic World</th>\n",
       "      <td>2015-06-12</td>\n",
       "      <td>215000000</td>\n",
       "      <td>652270625</td>\n",
       "      <td>1648854864</td>\n",
       "      <td>1433854864</td>\n",
       "      <td>437270625</td>\n",
       "      <td>666.909239</td>\n",
       "      <td>203.381686</td>\n",
       "      <td>June</td>\n",
       "      <td>124.0</td>\n",
       "    </tr>\n",
       "    <tr>\n",
       "      <th>Furious 7</th>\n",
       "      <td>2015-04-03</td>\n",
       "      <td>190000000</td>\n",
       "      <td>353007020</td>\n",
       "      <td>1518722794</td>\n",
       "      <td>1328722794</td>\n",
       "      <td>163007020</td>\n",
       "      <td>699.327786</td>\n",
       "      <td>85.793168</td>\n",
       "      <td>April</td>\n",
       "      <td>137.0</td>\n",
       "    </tr>\n",
       "    <tr>\n",
       "      <th>The Avengers</th>\n",
       "      <td>2012-05-04</td>\n",
       "      <td>225000000</td>\n",
       "      <td>623279547</td>\n",
       "      <td>1517935897</td>\n",
       "      <td>1292935897</td>\n",
       "      <td>398279547</td>\n",
       "      <td>574.638176</td>\n",
       "      <td>177.013132</td>\n",
       "      <td>May</td>\n",
       "      <td>143.0</td>\n",
       "    </tr>\n",
       "    <tr>\n",
       "      <th>Avengers: Age of Ultron</th>\n",
       "      <td>2015-05-01</td>\n",
       "      <td>330600000</td>\n",
       "      <td>459005868</td>\n",
       "      <td>1403013963</td>\n",
       "      <td>1072413963</td>\n",
       "      <td>128405868</td>\n",
       "      <td>324.384139</td>\n",
       "      <td>38.840250</td>\n",
       "      <td>May</td>\n",
       "      <td>141.0</td>\n",
       "    </tr>\n",
       "    <tr>\n",
       "      <th>Black Panther</th>\n",
       "      <td>2018-02-16</td>\n",
       "      <td>200000000</td>\n",
       "      <td>700059566</td>\n",
       "      <td>1348258224</td>\n",
       "      <td>1148258224</td>\n",
       "      <td>500059566</td>\n",
       "      <td>574.129112</td>\n",
       "      <td>250.029783</td>\n",
       "      <td>February</td>\n",
       "      <td>134.0</td>\n",
       "    </tr>\n",
       "    <tr>\n",
       "      <th>Jurassic World: Fallen Kingdom</th>\n",
       "      <td>2018-06-22</td>\n",
       "      <td>170000000</td>\n",
       "      <td>417719760</td>\n",
       "      <td>1305772799</td>\n",
       "      <td>1135772799</td>\n",
       "      <td>247719760</td>\n",
       "      <td>668.101646</td>\n",
       "      <td>145.717506</td>\n",
       "      <td>June</td>\n",
       "      <td>128.0</td>\n",
       "    </tr>\n",
       "    <tr>\n",
       "      <th>Frozen</th>\n",
       "      <td>2013-11-22</td>\n",
       "      <td>150000000</td>\n",
       "      <td>400738009</td>\n",
       "      <td>1272469910</td>\n",
       "      <td>1122469910</td>\n",
       "      <td>250738009</td>\n",
       "      <td>748.313273</td>\n",
       "      <td>167.158673</td>\n",
       "      <td>November</td>\n",
       "      <td>92.0</td>\n",
       "    </tr>\n",
       "    <tr>\n",
       "      <th>Beauty and the Beast</th>\n",
       "      <td>2017-03-17</td>\n",
       "      <td>160000000</td>\n",
       "      <td>504014165</td>\n",
       "      <td>1259199706</td>\n",
       "      <td>1099199706</td>\n",
       "      <td>344014165</td>\n",
       "      <td>686.999816</td>\n",
       "      <td>215.008853</td>\n",
       "      <td>March</td>\n",
       "      <td>60.0</td>\n",
       "    </tr>\n",
       "    <tr>\n",
       "      <th>Incredibles 2</th>\n",
       "      <td>2018-06-15</td>\n",
       "      <td>200000000</td>\n",
       "      <td>608581744</td>\n",
       "      <td>1242520711</td>\n",
       "      <td>1042520711</td>\n",
       "      <td>408581744</td>\n",
       "      <td>521.260356</td>\n",
       "      <td>204.290872</td>\n",
       "      <td>June</td>\n",
       "      <td>118.0</td>\n",
       "    </tr>\n",
       "    <tr>\n",
       "      <th>The Fate of the Furious</th>\n",
       "      <td>2017-04-14</td>\n",
       "      <td>250000000</td>\n",
       "      <td>225764765</td>\n",
       "      <td>1234846267</td>\n",
       "      <td>984846267</td>\n",
       "      <td>-24235235</td>\n",
       "      <td>393.938507</td>\n",
       "      <td>-9.694094</td>\n",
       "      <td>April</td>\n",
       "      <td>136.0</td>\n",
       "    </tr>\n",
       "    <tr>\n",
       "      <th>Iron Man 3</th>\n",
       "      <td>2013-05-03</td>\n",
       "      <td>200000000</td>\n",
       "      <td>408992272</td>\n",
       "      <td>1215392272</td>\n",
       "      <td>1015392272</td>\n",
       "      <td>208992272</td>\n",
       "      <td>507.696136</td>\n",
       "      <td>104.496136</td>\n",
       "      <td>May</td>\n",
       "      <td>130.0</td>\n",
       "    </tr>\n",
       "    <tr>\n",
       "      <th>Minions</th>\n",
       "      <td>2015-07-10</td>\n",
       "      <td>74000000</td>\n",
       "      <td>336045770</td>\n",
       "      <td>1160336173</td>\n",
       "      <td>1086336173</td>\n",
       "      <td>262045770</td>\n",
       "      <td>1468.021855</td>\n",
       "      <td>354.115905</td>\n",
       "      <td>July</td>\n",
       "      <td>91.0</td>\n",
       "    </tr>\n",
       "    <tr>\n",
       "      <th>Aquaman</th>\n",
       "      <td>2018-12-21</td>\n",
       "      <td>160000000</td>\n",
       "      <td>335061807</td>\n",
       "      <td>1146894640</td>\n",
       "      <td>986894640</td>\n",
       "      <td>175061807</td>\n",
       "      <td>616.809150</td>\n",
       "      <td>109.413629</td>\n",
       "      <td>December</td>\n",
       "      <td>143.0</td>\n",
       "    </tr>\n",
       "    <tr>\n",
       "      <th>Captain America: Civil War</th>\n",
       "      <td>2016-05-06</td>\n",
       "      <td>250000000</td>\n",
       "      <td>408084349</td>\n",
       "      <td>1140069413</td>\n",
       "      <td>890069413</td>\n",
       "      <td>158084349</td>\n",
       "      <td>356.027765</td>\n",
       "      <td>63.233740</td>\n",
       "      <td>May</td>\n",
       "      <td>147.0</td>\n",
       "    </tr>\n",
       "    <tr>\n",
       "      <th>Transformers: Dark of the Moon</th>\n",
       "      <td>2011-06-29</td>\n",
       "      <td>195000000</td>\n",
       "      <td>352390543</td>\n",
       "      <td>1123790543</td>\n",
       "      <td>928790543</td>\n",
       "      <td>157390543</td>\n",
       "      <td>476.302843</td>\n",
       "      <td>80.713099</td>\n",
       "      <td>June</td>\n",
       "      <td>154.0</td>\n",
       "    </tr>\n",
       "    <tr>\n",
       "      <th>Captain Marvel</th>\n",
       "      <td>2019-03-08</td>\n",
       "      <td>175000000</td>\n",
       "      <td>426525952</td>\n",
       "      <td>1123061550</td>\n",
       "      <td>948061550</td>\n",
       "      <td>251525952</td>\n",
       "      <td>541.749457</td>\n",
       "      <td>143.729115</td>\n",
       "      <td>March</td>\n",
       "      <td>123.0</td>\n",
       "    </tr>\n",
       "    <tr>\n",
       "      <th>Skyfall</th>\n",
       "      <td>2012-11-08</td>\n",
       "      <td>200000000</td>\n",
       "      <td>304360277</td>\n",
       "      <td>1110526981</td>\n",
       "      <td>910526981</td>\n",
       "      <td>104360277</td>\n",
       "      <td>455.263490</td>\n",
       "      <td>52.180138</td>\n",
       "      <td>November</td>\n",
       "      <td>143.0</td>\n",
       "    </tr>\n",
       "  </tbody>\n",
       "</table>\n",
       "</div>"
      ],
      "text/plain": [
       "                               release_date  production_budget  \\\n",
       "movie                                                            \n",
       "Avatar                           2009-12-18          425000000   \n",
       "Titanic                          1997-12-19          200000000   \n",
       "Avengers: Infinity War           2018-04-27          300000000   \n",
       "Jurassic World                   2015-06-12          215000000   \n",
       "Furious 7                        2015-04-03          190000000   \n",
       "The Avengers                     2012-05-04          225000000   \n",
       "Avengers: Age of Ultron          2015-05-01          330600000   \n",
       "Black Panther                    2018-02-16          200000000   \n",
       "Jurassic World: Fallen Kingdom   2018-06-22          170000000   \n",
       "Frozen                           2013-11-22          150000000   \n",
       "Beauty and the Beast             2017-03-17          160000000   \n",
       "Incredibles 2                    2018-06-15          200000000   \n",
       "The Fate of the Furious          2017-04-14          250000000   \n",
       "Iron Man 3                       2013-05-03          200000000   \n",
       "Minions                          2015-07-10           74000000   \n",
       "Aquaman                          2018-12-21          160000000   \n",
       "Captain America: Civil War       2016-05-06          250000000   \n",
       "Transformers: Dark of the Moon   2011-06-29          195000000   \n",
       "Captain Marvel                   2019-03-08          175000000   \n",
       "Skyfall                          2012-11-08          200000000   \n",
       "\n",
       "                                domestic_gross  worldwide_gross  \\\n",
       "movie                                                             \n",
       "Avatar                               760507625       2776345279   \n",
       "Titanic                              659363944       2208208395   \n",
       "Avengers: Infinity War               678815482       2048134200   \n",
       "Jurassic World                       652270625       1648854864   \n",
       "Furious 7                            353007020       1518722794   \n",
       "The Avengers                         623279547       1517935897   \n",
       "Avengers: Age of Ultron              459005868       1403013963   \n",
       "Black Panther                        700059566       1348258224   \n",
       "Jurassic World: Fallen Kingdom       417719760       1305772799   \n",
       "Frozen                               400738009       1272469910   \n",
       "Beauty and the Beast                 504014165       1259199706   \n",
       "Incredibles 2                        608581744       1242520711   \n",
       "The Fate of the Furious              225764765       1234846267   \n",
       "Iron Man 3                           408992272       1215392272   \n",
       "Minions                              336045770       1160336173   \n",
       "Aquaman                              335061807       1146894640   \n",
       "Captain America: Civil War           408084349       1140069413   \n",
       "Transformers: Dark of the Moon       352390543       1123790543   \n",
       "Captain Marvel                       426525952       1123061550   \n",
       "Skyfall                              304360277       1110526981   \n",
       "\n",
       "                                worldwide_net_profit  domestic_net_profit  \\\n",
       "movie                                                                       \n",
       "Avatar                                    2351345279            335507625   \n",
       "Titanic                                   2008208395            459363944   \n",
       "Avengers: Infinity War                    1748134200            378815482   \n",
       "Jurassic World                            1433854864            437270625   \n",
       "Furious 7                                 1328722794            163007020   \n",
       "The Avengers                              1292935897            398279547   \n",
       "Avengers: Age of Ultron                   1072413963            128405868   \n",
       "Black Panther                             1148258224            500059566   \n",
       "Jurassic World: Fallen Kingdom            1135772799            247719760   \n",
       "Frozen                                    1122469910            250738009   \n",
       "Beauty and the Beast                      1099199706            344014165   \n",
       "Incredibles 2                             1042520711            408581744   \n",
       "The Fate of the Furious                    984846267            -24235235   \n",
       "Iron Man 3                                1015392272            208992272   \n",
       "Minions                                   1086336173            262045770   \n",
       "Aquaman                                    986894640            175061807   \n",
       "Captain America: Civil War                 890069413            158084349   \n",
       "Transformers: Dark of the Moon             928790543            157390543   \n",
       "Captain Marvel                             948061550            251525952   \n",
       "Skyfall                                    910526981            104360277   \n",
       "\n",
       "                                worldwide_ROI  domestic_ROI release_month  \\\n",
       "movie                                                                       \n",
       "Avatar                             553.257713     78.942971      December   \n",
       "Titanic                           1004.104198    229.681972      December   \n",
       "Avengers: Infinity War             582.711400    126.271827         April   \n",
       "Jurassic World                     666.909239    203.381686          June   \n",
       "Furious 7                          699.327786     85.793168         April   \n",
       "The Avengers                       574.638176    177.013132           May   \n",
       "Avengers: Age of Ultron            324.384139     38.840250           May   \n",
       "Black Panther                      574.129112    250.029783      February   \n",
       "Jurassic World: Fallen Kingdom     668.101646    145.717506          June   \n",
       "Frozen                             748.313273    167.158673      November   \n",
       "Beauty and the Beast               686.999816    215.008853         March   \n",
       "Incredibles 2                      521.260356    204.290872          June   \n",
       "The Fate of the Furious            393.938507     -9.694094         April   \n",
       "Iron Man 3                         507.696136    104.496136           May   \n",
       "Minions                           1468.021855    354.115905          July   \n",
       "Aquaman                            616.809150    109.413629      December   \n",
       "Captain America: Civil War         356.027765     63.233740           May   \n",
       "Transformers: Dark of the Moon     476.302843     80.713099          June   \n",
       "Captain Marvel                     541.749457    143.729115         March   \n",
       "Skyfall                            455.263490     52.180138      November   \n",
       "\n",
       "                                runtime_minutes  \n",
       "movie                                            \n",
       "Avatar                                     93.0  \n",
       "Titanic                                   115.0  \n",
       "Avengers: Infinity War                    149.0  \n",
       "Jurassic World                            124.0  \n",
       "Furious 7                                 137.0  \n",
       "The Avengers                              143.0  \n",
       "Avengers: Age of Ultron                   141.0  \n",
       "Black Panther                             134.0  \n",
       "Jurassic World: Fallen Kingdom            128.0  \n",
       "Frozen                                     92.0  \n",
       "Beauty and the Beast                       60.0  \n",
       "Incredibles 2                             118.0  \n",
       "The Fate of the Furious                   136.0  \n",
       "Iron Man 3                                130.0  \n",
       "Minions                                    91.0  \n",
       "Aquaman                                   143.0  \n",
       "Captain America: Civil War                147.0  \n",
       "Transformers: Dark of the Moon            154.0  \n",
       "Captain Marvel                            123.0  \n",
       "Skyfall                                   143.0  "
      ]
     },
     "execution_count": 67,
     "metadata": {},
     "output_type": "execute_result"
    }
   ],
   "source": [
    "# Wrote this function after looking at the following page on Stack Overflow:\n",
    "# https://stackoverflow.com/questions/13035764/remove-pandas-rows-with-duplicate-indices\n",
    "\n",
    "# Use .loc(), tilde, and .duplicated() as mentioned above \n",
    "df_basics = basics_df.loc[~basics_df.index.duplicated(keep='first')]\n",
    "\n",
    "# Check that this worked\n",
    "df_basics.head(20)"
   ]
  },
  {
   "cell_type": "markdown",
   "metadata": {},
   "source": [
    "Now our core data is established, and we can explore the `actors` data."
   ]
  },
  {
   "cell_type": "markdown",
   "metadata": {},
   "source": [
    "#### Create and Prepare `df_actors`"
   ]
  },
  {
   "cell_type": "markdown",
   "metadata": {},
   "source": [
    "We know that we want to use the `category` column in the `movie_principals` table to assemble our next dataframe. First, let's look at exactly what labels the `category` column consists of, and create our query from there. "
   ]
  },
  {
   "cell_type": "code",
   "execution_count": 68,
   "metadata": {},
   "outputs": [
    {
     "data": {
      "text/plain": [
       "array(['actor', 'director', 'producer', 'editor', 'actress', 'composer',\n",
       "       'cinematographer', 'writer', 'self', 'production_designer',\n",
       "       'archive_footage', 'archive_sound'], dtype=object)"
      ]
     },
     "execution_count": 68,
     "metadata": {},
     "output_type": "execute_result"
    }
   ],
   "source": [
    "# Use .unique() to get list of unique 'category' values \n",
    "\n",
    "movie_principals.category.unique()"
   ]
  },
  {
   "cell_type": "markdown",
   "metadata": {},
   "source": [
    "Now we know we will want to include `actor` and `actress` in the `WHERE` clause of our query. Before doing that, let's check for duplicates in the `movie_principals` and `movie_persons` tables."
   ]
  },
  {
   "cell_type": "code",
   "execution_count": 69,
   "metadata": {},
   "outputs": [
    {
     "data": {
      "text/plain": [
       "False"
      ]
     },
     "execution_count": 69,
     "metadata": {},
     "output_type": "execute_result"
    }
   ],
   "source": [
    "# Check for duplicates in movie_principals\n",
    "\n",
    "movie_principals.duplicated().any()"
   ]
  },
  {
   "cell_type": "code",
   "execution_count": 70,
   "metadata": {},
   "outputs": [
    {
     "data": {
      "text/plain": [
       "False"
      ]
     },
     "execution_count": 70,
     "metadata": {},
     "output_type": "execute_result"
    }
   ],
   "source": [
    "# Check for duplicates in movie_persons\n",
    "\n",
    "movie_persons.duplicated().any()"
   ]
  },
  {
   "cell_type": "markdown",
   "metadata": {},
   "source": [
    "Now we will create an `actors` dataframe that we can merge with `df_basics`. We will use the `movie_id` key to `JOIN` the `principals` and `movie_basics` tables, and the `person_id` key to `JOIN` the `persons` table."
   ]
  },
  {
   "cell_type": "code",
   "execution_count": 71,
   "metadata": {},
   "outputs": [
    {
     "data": {
      "text/html": [
       "<div>\n",
       "<style scoped>\n",
       "    .dataframe tbody tr th:only-of-type {\n",
       "        vertical-align: middle;\n",
       "    }\n",
       "\n",
       "    .dataframe tbody tr th {\n",
       "        vertical-align: top;\n",
       "    }\n",
       "\n",
       "    .dataframe thead th {\n",
       "        text-align: right;\n",
       "    }\n",
       "</style>\n",
       "<table border=\"1\" class=\"dataframe\">\n",
       "  <thead>\n",
       "    <tr style=\"text-align: right;\">\n",
       "      <th></th>\n",
       "      <th>primary_title</th>\n",
       "      <th>primary_name</th>\n",
       "    </tr>\n",
       "  </thead>\n",
       "  <tbody>\n",
       "    <tr>\n",
       "      <th>0</th>\n",
       "      <td>A Thin Life</td>\n",
       "      <td>Tommy Dysart</td>\n",
       "    </tr>\n",
       "    <tr>\n",
       "      <th>1</th>\n",
       "      <td>The Wicker Tree</td>\n",
       "      <td>Brittania Nicol</td>\n",
       "    </tr>\n",
       "    <tr>\n",
       "      <th>2</th>\n",
       "      <td>The Wicker Tree</td>\n",
       "      <td>Henry Garrett</td>\n",
       "    </tr>\n",
       "    <tr>\n",
       "      <th>3</th>\n",
       "      <td>The Wicker Tree</td>\n",
       "      <td>Graham McTavish</td>\n",
       "    </tr>\n",
       "    <tr>\n",
       "      <th>4</th>\n",
       "      <td>The Wicker Tree</td>\n",
       "      <td>Jacqueline Leonard</td>\n",
       "    </tr>\n",
       "  </tbody>\n",
       "</table>\n",
       "</div>"
      ],
      "text/plain": [
       "     primary_title        primary_name\n",
       "0      A Thin Life        Tommy Dysart\n",
       "1  The Wicker Tree     Brittania Nicol\n",
       "2  The Wicker Tree       Henry Garrett\n",
       "3  The Wicker Tree     Graham McTavish\n",
       "4  The Wicker Tree  Jacqueline Leonard"
      ]
     },
     "execution_count": 71,
     "metadata": {},
     "output_type": "execute_result"
    }
   ],
   "source": [
    "# Create SQL query\n",
    "q = \"\"\"\n",
    "SELECT\n",
    "    mb.primary_title,\n",
    "    p.primary_name\n",
    "FROM\n",
    "    principals AS pp\n",
    "JOIN\n",
    "    movie_basics AS mb USING(movie_id)\n",
    "JOIN \n",
    "    persons AS p USING(person_id)\n",
    "WHERE \n",
    "    pp.category = 'actor'\n",
    "    OR\n",
    "    pp.category = 'actress'\n",
    "\"\"\"\n",
    "\n",
    "# Store in 'actors' dataframe\n",
    "actors = pd.read_sql(q, conn)\n",
    "\n",
    "# Preview the dataframe\n",
    "actors.head()"
   ]
  },
  {
   "cell_type": "markdown",
   "metadata": {},
   "source": [
    "Now we rename the `primary_title` column to `movie` and set the index to that column to stay consistent. "
   ]
  },
  {
   "cell_type": "code",
   "execution_count": 72,
   "metadata": {},
   "outputs": [],
   "source": [
    "# Rename column \n",
    "\n",
    "actors = actors.rename(columns = {'primary_title' : 'movie'})"
   ]
  },
  {
   "cell_type": "code",
   "execution_count": 73,
   "metadata": {},
   "outputs": [],
   "source": [
    "# Set index \n",
    "\n",
    "actors = actors.set_index('movie')"
   ]
  },
  {
   "cell_type": "markdown",
   "metadata": {},
   "source": [
    "Start by merging `df_basics` with `actors` and create a new dataframe. Then clean it by dropping columns and reordering them."
   ]
  },
  {
   "cell_type": "code",
   "execution_count": 74,
   "metadata": {},
   "outputs": [],
   "source": [
    "# Use pd.merge() to create 'df_actors'\n",
    "\n",
    "df_actors = pd.merge(df_basics, actors, on = 'movie')"
   ]
  },
  {
   "cell_type": "code",
   "execution_count": 75,
   "metadata": {},
   "outputs": [],
   "source": [
    "# Use .drop() and specify list of columns to drop\n",
    "\n",
    "df_actors = df_actors.drop(columns = ['release_date', 'worldwide_net_profit',\n",
    "                                             'domestic_net_profit', \n",
    "                                              'release_month', 'runtime_minutes'])"
   ]
  },
  {
   "cell_type": "code",
   "execution_count": 76,
   "metadata": {},
   "outputs": [],
   "source": [
    "# Use .reindex() to create new column order \n",
    "\n",
    "df_actors = df_actors.reindex(columns = ['primary_name', 'worldwide_ROI',\n",
    "                                                 'domestic_ROI', 'worldwide_gross', 'domestic_gross',\n",
    "                                     'production_budget'])"
   ]
  },
  {
   "cell_type": "code",
   "execution_count": 77,
   "metadata": {},
   "outputs": [
    {
     "data": {
      "text/html": [
       "<div>\n",
       "<style scoped>\n",
       "    .dataframe tbody tr th:only-of-type {\n",
       "        vertical-align: middle;\n",
       "    }\n",
       "\n",
       "    .dataframe tbody tr th {\n",
       "        vertical-align: top;\n",
       "    }\n",
       "\n",
       "    .dataframe thead th {\n",
       "        text-align: right;\n",
       "    }\n",
       "</style>\n",
       "<table border=\"1\" class=\"dataframe\">\n",
       "  <thead>\n",
       "    <tr style=\"text-align: right;\">\n",
       "      <th></th>\n",
       "      <th>primary_name</th>\n",
       "      <th>worldwide_ROI</th>\n",
       "      <th>domestic_ROI</th>\n",
       "      <th>worldwide_gross</th>\n",
       "      <th>domestic_gross</th>\n",
       "      <th>production_budget</th>\n",
       "    </tr>\n",
       "    <tr>\n",
       "      <th>movie</th>\n",
       "      <th></th>\n",
       "      <th></th>\n",
       "      <th></th>\n",
       "      <th></th>\n",
       "      <th></th>\n",
       "      <th></th>\n",
       "    </tr>\n",
       "  </thead>\n",
       "  <tbody>\n",
       "    <tr>\n",
       "      <th>Avatar</th>\n",
       "      <td>Mizuki Sashide</td>\n",
       "      <td>553.257713</td>\n",
       "      <td>78.942971</td>\n",
       "      <td>2776345279</td>\n",
       "      <td>760507625</td>\n",
       "      <td>425000000</td>\n",
       "    </tr>\n",
       "    <tr>\n",
       "      <th>Avatar</th>\n",
       "      <td>Ai Hashimoto</td>\n",
       "      <td>553.257713</td>\n",
       "      <td>78.942971</td>\n",
       "      <td>2776345279</td>\n",
       "      <td>760507625</td>\n",
       "      <td>425000000</td>\n",
       "    </tr>\n",
       "    <tr>\n",
       "      <th>Avatar</th>\n",
       "      <td>Rikako Sakata</td>\n",
       "      <td>553.257713</td>\n",
       "      <td>78.942971</td>\n",
       "      <td>2776345279</td>\n",
       "      <td>760507625</td>\n",
       "      <td>425000000</td>\n",
       "    </tr>\n",
       "    <tr>\n",
       "      <th>Avatar</th>\n",
       "      <td>Nako Mizusawa</td>\n",
       "      <td>553.257713</td>\n",
       "      <td>78.942971</td>\n",
       "      <td>2776345279</td>\n",
       "      <td>760507625</td>\n",
       "      <td>425000000</td>\n",
       "    </tr>\n",
       "    <tr>\n",
       "      <th>Avatar</th>\n",
       "      <td>Yuri Hane</td>\n",
       "      <td>553.257713</td>\n",
       "      <td>78.942971</td>\n",
       "      <td>2776345279</td>\n",
       "      <td>760507625</td>\n",
       "      <td>425000000</td>\n",
       "    </tr>\n",
       "  </tbody>\n",
       "</table>\n",
       "</div>"
      ],
      "text/plain": [
       "          primary_name  worldwide_ROI  domestic_ROI  worldwide_gross  \\\n",
       "movie                                                                  \n",
       "Avatar  Mizuki Sashide     553.257713     78.942971       2776345279   \n",
       "Avatar    Ai Hashimoto     553.257713     78.942971       2776345279   \n",
       "Avatar   Rikako Sakata     553.257713     78.942971       2776345279   \n",
       "Avatar   Nako Mizusawa     553.257713     78.942971       2776345279   \n",
       "Avatar       Yuri Hane     553.257713     78.942971       2776345279   \n",
       "\n",
       "        domestic_gross  production_budget  \n",
       "movie                                      \n",
       "Avatar       760507625          425000000  \n",
       "Avatar       760507625          425000000  \n",
       "Avatar       760507625          425000000  \n",
       "Avatar       760507625          425000000  \n",
       "Avatar       760507625          425000000  "
      ]
     },
     "execution_count": 77,
     "metadata": {},
     "output_type": "execute_result"
    }
   ],
   "source": [
    "# Look at dataframe\n",
    "\n",
    "df_actors.head()"
   ]
  },
  {
   "cell_type": "markdown",
   "metadata": {},
   "source": [
    "Now let's look into duplicate values in `df_actors`"
   ]
  },
  {
   "cell_type": "code",
   "execution_count": 78,
   "metadata": {},
   "outputs": [
    {
     "data": {
      "text/plain": [
       "True"
      ]
     },
     "execution_count": 78,
     "metadata": {},
     "output_type": "execute_result"
    }
   ],
   "source": [
    "# Check for duplciates\n",
    "\n",
    "df_actors.duplicated().any()"
   ]
  },
  {
   "cell_type": "code",
   "execution_count": 79,
   "metadata": {},
   "outputs": [
    {
     "data": {
      "text/plain": [
       "15"
      ]
     },
     "execution_count": 79,
     "metadata": {},
     "output_type": "execute_result"
    }
   ],
   "source": [
    "# Check how many duplicate values we have\n",
    "\n",
    "df_actors.duplicated().sum()"
   ]
  },
  {
   "cell_type": "markdown",
   "metadata": {},
   "source": [
    "We do not have many duplicates. Let's just use the `drop_duplicates` function to drop these."
   ]
  },
  {
   "cell_type": "code",
   "execution_count": 80,
   "metadata": {},
   "outputs": [],
   "source": [
    "# Keep the first duplicated entry\n",
    "\n",
    "df_actors = df_actors.drop_duplicates(keep = 'first')"
   ]
  },
  {
   "cell_type": "code",
   "execution_count": 81,
   "metadata": {},
   "outputs": [
    {
     "data": {
      "text/plain": [
       "False"
      ]
     },
     "execution_count": 81,
     "metadata": {},
     "output_type": "execute_result"
    }
   ],
   "source": [
    "# Check this worked\n",
    "\n",
    "df_actors.duplicated().any()"
   ]
  },
  {
   "cell_type": "markdown",
   "metadata": {},
   "source": [
    "This looks good. We will use an identical process to create `df_directors` and `df_writers`. Once we do this, we will finalize preparing all of our data for modeling. "
   ]
  },
  {
   "cell_type": "markdown",
   "metadata": {},
   "source": [
    "#### Create and Prepare `df_directors`"
   ]
  },
  {
   "cell_type": "markdown",
   "metadata": {},
   "source": [
    "We have already explored the `movie_persons`, and `movie_directors` data so we can skip right into our query. We will create a `directors` dataframe that we can merge with `df_basics`. We will use the `movie_id` key to `JOIN` the `directors` and `persons` tables."
   ]
  },
  {
   "cell_type": "code",
   "execution_count": 82,
   "metadata": {},
   "outputs": [
    {
     "data": {
      "text/html": [
       "<div>\n",
       "<style scoped>\n",
       "    .dataframe tbody tr th:only-of-type {\n",
       "        vertical-align: middle;\n",
       "    }\n",
       "\n",
       "    .dataframe tbody tr th {\n",
       "        vertical-align: top;\n",
       "    }\n",
       "\n",
       "    .dataframe thead th {\n",
       "        text-align: right;\n",
       "    }\n",
       "</style>\n",
       "<table border=\"1\" class=\"dataframe\">\n",
       "  <thead>\n",
       "    <tr style=\"text-align: right;\">\n",
       "      <th></th>\n",
       "      <th>primary_name</th>\n",
       "      <th>primary_title</th>\n",
       "    </tr>\n",
       "  </thead>\n",
       "  <tbody>\n",
       "    <tr>\n",
       "      <th>0</th>\n",
       "      <td>Harnam Singh Rawail</td>\n",
       "      <td>Sunghursh</td>\n",
       "    </tr>\n",
       "    <tr>\n",
       "      <th>1</th>\n",
       "      <td>Harnam Singh Rawail</td>\n",
       "      <td>Sunghursh</td>\n",
       "    </tr>\n",
       "    <tr>\n",
       "      <th>2</th>\n",
       "      <td>Harnam Singh Rawail</td>\n",
       "      <td>Sunghursh</td>\n",
       "    </tr>\n",
       "    <tr>\n",
       "      <th>3</th>\n",
       "      <td>Harnam Singh Rawail</td>\n",
       "      <td>Sunghursh</td>\n",
       "    </tr>\n",
       "    <tr>\n",
       "      <th>4</th>\n",
       "      <td>Mani Kaul</td>\n",
       "      <td>One Day Before the Rainy Season</td>\n",
       "    </tr>\n",
       "  </tbody>\n",
       "</table>\n",
       "</div>"
      ],
      "text/plain": [
       "          primary_name                    primary_title\n",
       "0  Harnam Singh Rawail                        Sunghursh\n",
       "1  Harnam Singh Rawail                        Sunghursh\n",
       "2  Harnam Singh Rawail                        Sunghursh\n",
       "3  Harnam Singh Rawail                        Sunghursh\n",
       "4            Mani Kaul  One Day Before the Rainy Season"
      ]
     },
     "execution_count": 82,
     "metadata": {},
     "output_type": "execute_result"
    }
   ],
   "source": [
    "# Create query\n",
    "q = \"\"\"\n",
    "SELECT\n",
    "    p.primary_name,\n",
    "    mb.primary_title\n",
    "FROM\n",
    "    movie_basics AS mb\n",
    "JOIN\n",
    "    directors AS d USING(movie_id)\n",
    "JOIN \n",
    "    persons AS p USING(person_id)\n",
    "\"\"\"\n",
    "\n",
    "# Create dataframe\n",
    "directors = pd.read_sql(q, conn)\n",
    "\n",
    "# Preview\n",
    "directors.head()"
   ]
  },
  {
   "cell_type": "markdown",
   "metadata": {},
   "source": [
    "Looks like we have duplicates. Let's check for these and then delete them."
   ]
  },
  {
   "cell_type": "code",
   "execution_count": 83,
   "metadata": {},
   "outputs": [
    {
     "data": {
      "text/plain": [
       "True"
      ]
     },
     "execution_count": 83,
     "metadata": {},
     "output_type": "execute_result"
    }
   ],
   "source": [
    "# Check for duplicates \n",
    "\n",
    "directors.duplicated().any()"
   ]
  },
  {
   "cell_type": "code",
   "execution_count": 84,
   "metadata": {},
   "outputs": [],
   "source": [
    "# Drop all duplicates except for first occurence\n",
    "\n",
    "directors = directors.drop_duplicates(keep='first')"
   ]
  },
  {
   "cell_type": "code",
   "execution_count": 85,
   "metadata": {},
   "outputs": [
    {
     "data": {
      "text/plain": [
       "False"
      ]
     },
     "execution_count": 85,
     "metadata": {},
     "output_type": "execute_result"
    }
   ],
   "source": [
    "# Check again\n",
    "\n",
    "directors.duplicated().any()"
   ]
  },
  {
   "cell_type": "markdown",
   "metadata": {},
   "source": [
    "Now we rename the `primary_title` column to `movie` and set the index to that column to stay consistent. "
   ]
  },
  {
   "cell_type": "code",
   "execution_count": 86,
   "metadata": {},
   "outputs": [],
   "source": [
    "# Rename `primary_name` column \n",
    "\n",
    "directors = directors.rename(columns = {'primary_title' : 'movie'})"
   ]
  },
  {
   "cell_type": "code",
   "execution_count": 87,
   "metadata": {},
   "outputs": [],
   "source": [
    "# Set that column as index \n",
    "\n",
    "directors = directors.set_index('movie')"
   ]
  },
  {
   "cell_type": "markdown",
   "metadata": {},
   "source": [
    "Start by merging `df_basics` with `directors` and create a new dataframe. Then clean it by dropping columns and reordering them."
   ]
  },
  {
   "cell_type": "code",
   "execution_count": 88,
   "metadata": {},
   "outputs": [],
   "source": [
    "# Use pd.merge() to create 'df_directors'\n",
    "\n",
    "df_directors = pd.merge(df_basics, directors, on = 'movie')"
   ]
  },
  {
   "cell_type": "code",
   "execution_count": 89,
   "metadata": {},
   "outputs": [],
   "source": [
    "# Use .drop() and specify list of columns to drop\n",
    "\n",
    "df_directors = df_directors.drop(columns = ['release_date', 'worldwide_net_profit',\n",
    "                                             'domestic_net_profit', \n",
    "                                              'release_month', 'runtime_minutes'])"
   ]
  },
  {
   "cell_type": "code",
   "execution_count": 90,
   "metadata": {},
   "outputs": [],
   "source": [
    "# Use .reindex() to create new column order \n",
    "\n",
    "df_directors = df_directors.reindex(columns = ['primary_name', 'worldwide_ROI',\n",
    "                                                 'domestic_ROI', 'worldwide_gross', 'domestic_gross',\n",
    "                                     'production_budget'])"
   ]
  },
  {
   "cell_type": "markdown",
   "metadata": {},
   "source": [
    "Check for duplicates and preview before moving onto writers"
   ]
  },
  {
   "cell_type": "code",
   "execution_count": 91,
   "metadata": {},
   "outputs": [
    {
     "data": {
      "text/plain": [
       "False"
      ]
     },
     "execution_count": 91,
     "metadata": {},
     "output_type": "execute_result"
    }
   ],
   "source": [
    "# Check for duplciates\n",
    "\n",
    "df_directors.duplicated().any()"
   ]
  },
  {
   "cell_type": "code",
   "execution_count": 92,
   "metadata": {
    "scrolled": true
   },
   "outputs": [
    {
     "data": {
      "text/html": [
       "<div>\n",
       "<style scoped>\n",
       "    .dataframe tbody tr th:only-of-type {\n",
       "        vertical-align: middle;\n",
       "    }\n",
       "\n",
       "    .dataframe tbody tr th {\n",
       "        vertical-align: top;\n",
       "    }\n",
       "\n",
       "    .dataframe thead th {\n",
       "        text-align: right;\n",
       "    }\n",
       "</style>\n",
       "<table border=\"1\" class=\"dataframe\">\n",
       "  <thead>\n",
       "    <tr style=\"text-align: right;\">\n",
       "      <th></th>\n",
       "      <th>primary_name</th>\n",
       "      <th>worldwide_ROI</th>\n",
       "      <th>domestic_ROI</th>\n",
       "      <th>worldwide_gross</th>\n",
       "      <th>domestic_gross</th>\n",
       "      <th>production_budget</th>\n",
       "    </tr>\n",
       "    <tr>\n",
       "      <th>movie</th>\n",
       "      <th></th>\n",
       "      <th></th>\n",
       "      <th></th>\n",
       "      <th></th>\n",
       "      <th></th>\n",
       "      <th></th>\n",
       "    </tr>\n",
       "  </thead>\n",
       "  <tbody>\n",
       "    <tr>\n",
       "      <th>Avatar</th>\n",
       "      <td>Atsushi Wada</td>\n",
       "      <td>553.257713</td>\n",
       "      <td>78.942971</td>\n",
       "      <td>2776345279</td>\n",
       "      <td>760507625</td>\n",
       "      <td>425000000</td>\n",
       "    </tr>\n",
       "    <tr>\n",
       "      <th>Titanic</th>\n",
       "      <td>Pete Meads</td>\n",
       "      <td>1004.104198</td>\n",
       "      <td>229.681972</td>\n",
       "      <td>2208208395</td>\n",
       "      <td>659363944</td>\n",
       "      <td>200000000</td>\n",
       "    </tr>\n",
       "    <tr>\n",
       "      <th>Titanic</th>\n",
       "      <td>Kevin Lincoln</td>\n",
       "      <td>1004.104198</td>\n",
       "      <td>229.681972</td>\n",
       "      <td>2208208395</td>\n",
       "      <td>659363944</td>\n",
       "      <td>200000000</td>\n",
       "    </tr>\n",
       "    <tr>\n",
       "      <th>Titanic</th>\n",
       "      <td>Ravi Punj</td>\n",
       "      <td>1004.104198</td>\n",
       "      <td>229.681972</td>\n",
       "      <td>2208208395</td>\n",
       "      <td>659363944</td>\n",
       "      <td>200000000</td>\n",
       "    </tr>\n",
       "    <tr>\n",
       "      <th>Avengers: Infinity War</th>\n",
       "      <td>Anthony Russo</td>\n",
       "      <td>582.711400</td>\n",
       "      <td>126.271827</td>\n",
       "      <td>2048134200</td>\n",
       "      <td>678815482</td>\n",
       "      <td>300000000</td>\n",
       "    </tr>\n",
       "  </tbody>\n",
       "</table>\n",
       "</div>"
      ],
      "text/plain": [
       "                         primary_name  worldwide_ROI  domestic_ROI  \\\n",
       "movie                                                                \n",
       "Avatar                   Atsushi Wada     553.257713     78.942971   \n",
       "Titanic                    Pete Meads    1004.104198    229.681972   \n",
       "Titanic                 Kevin Lincoln    1004.104198    229.681972   \n",
       "Titanic                     Ravi Punj    1004.104198    229.681972   \n",
       "Avengers: Infinity War  Anthony Russo     582.711400    126.271827   \n",
       "\n",
       "                        worldwide_gross  domestic_gross  production_budget  \n",
       "movie                                                                       \n",
       "Avatar                       2776345279       760507625          425000000  \n",
       "Titanic                      2208208395       659363944          200000000  \n",
       "Titanic                      2208208395       659363944          200000000  \n",
       "Titanic                      2208208395       659363944          200000000  \n",
       "Avengers: Infinity War       2048134200       678815482          300000000  "
      ]
     },
     "execution_count": 92,
     "metadata": {},
     "output_type": "execute_result"
    }
   ],
   "source": [
    "# Preview dataframe\n",
    "\n",
    "df_directors.head()"
   ]
  },
  {
   "cell_type": "markdown",
   "metadata": {},
   "source": [
    "#### Create and Prepare `df_writers`"
   ]
  },
  {
   "cell_type": "markdown",
   "metadata": {},
   "source": [
    "Let's use the same process. Create the query and new dataframe. Then check for duplicates, rename the columns and set the index. Then merge with `df_basics`, drop and reorder the columns, and check for duplicates one final time. "
   ]
  },
  {
   "cell_type": "code",
   "execution_count": 93,
   "metadata": {},
   "outputs": [
    {
     "data": {
      "text/html": [
       "<div>\n",
       "<style scoped>\n",
       "    .dataframe tbody tr th:only-of-type {\n",
       "        vertical-align: middle;\n",
       "    }\n",
       "\n",
       "    .dataframe tbody tr th {\n",
       "        vertical-align: top;\n",
       "    }\n",
       "\n",
       "    .dataframe thead th {\n",
       "        text-align: right;\n",
       "    }\n",
       "</style>\n",
       "<table border=\"1\" class=\"dataframe\">\n",
       "  <thead>\n",
       "    <tr style=\"text-align: right;\">\n",
       "      <th></th>\n",
       "      <th>primary_name</th>\n",
       "      <th>primary_title</th>\n",
       "    </tr>\n",
       "  </thead>\n",
       "  <tbody>\n",
       "    <tr>\n",
       "      <th>0</th>\n",
       "      <td>Abrar Alvi</td>\n",
       "      <td>Sunghursh</td>\n",
       "    </tr>\n",
       "    <tr>\n",
       "      <th>1</th>\n",
       "      <td>Gulzar</td>\n",
       "      <td>Sunghursh</td>\n",
       "    </tr>\n",
       "    <tr>\n",
       "      <th>2</th>\n",
       "      <td>Mahasweta Devi</td>\n",
       "      <td>Sunghursh</td>\n",
       "    </tr>\n",
       "    <tr>\n",
       "      <th>3</th>\n",
       "      <td>Anjana Rawail</td>\n",
       "      <td>Sunghursh</td>\n",
       "    </tr>\n",
       "    <tr>\n",
       "      <th>4</th>\n",
       "      <td>Orson Welles</td>\n",
       "      <td>The Other Side of the Wind</td>\n",
       "    </tr>\n",
       "  </tbody>\n",
       "</table>\n",
       "</div>"
      ],
      "text/plain": [
       "     primary_name               primary_title\n",
       "0      Abrar Alvi                   Sunghursh\n",
       "1          Gulzar                   Sunghursh\n",
       "2  Mahasweta Devi                   Sunghursh\n",
       "3   Anjana Rawail                   Sunghursh\n",
       "4    Orson Welles  The Other Side of the Wind"
      ]
     },
     "execution_count": 93,
     "metadata": {},
     "output_type": "execute_result"
    }
   ],
   "source": [
    "# Create query\n",
    "q = \"\"\"\n",
    "SELECT\n",
    "    p.primary_name,\n",
    "    mb.primary_title\n",
    "FROM\n",
    "    movie_basics AS mb\n",
    "JOIN\n",
    "    writers AS w USING(movie_id)\n",
    "JOIN \n",
    "    persons AS p USING(person_id)\n",
    "\"\"\"\n",
    "\n",
    "# Create dataframe\n",
    "writers = pd.read_sql(q, conn)\n",
    "\n",
    "# Preview\n",
    "writers.head()"
   ]
  },
  {
   "cell_type": "markdown",
   "metadata": {},
   "source": [
    "Check and delete duplicate values"
   ]
  },
  {
   "cell_type": "code",
   "execution_count": 94,
   "metadata": {},
   "outputs": [
    {
     "data": {
      "text/plain": [
       "True"
      ]
     },
     "execution_count": 94,
     "metadata": {},
     "output_type": "execute_result"
    }
   ],
   "source": [
    "# Check for duplicates \n",
    "\n",
    "writers.duplicated().any()"
   ]
  },
  {
   "cell_type": "code",
   "execution_count": 95,
   "metadata": {},
   "outputs": [],
   "source": [
    "# Drop all duplicates except for first occurence\n",
    "\n",
    "writers = writers.drop_duplicates(keep='first')"
   ]
  },
  {
   "cell_type": "code",
   "execution_count": 96,
   "metadata": {},
   "outputs": [
    {
     "data": {
      "text/plain": [
       "False"
      ]
     },
     "execution_count": 96,
     "metadata": {},
     "output_type": "execute_result"
    }
   ],
   "source": [
    "# Check again\n",
    "\n",
    "writers.duplicated().any()"
   ]
  },
  {
   "cell_type": "markdown",
   "metadata": {},
   "source": [
    "Now we rename the `primary_title` column to `movie` and set the index to that column to stay consistent."
   ]
  },
  {
   "cell_type": "code",
   "execution_count": 97,
   "metadata": {},
   "outputs": [],
   "source": [
    "# Rename `primary_name` column \n",
    "\n",
    "writers = writers.rename(columns = {'primary_title' : 'movie'})"
   ]
  },
  {
   "cell_type": "code",
   "execution_count": 98,
   "metadata": {},
   "outputs": [],
   "source": [
    "# Set that column as index \n",
    "\n",
    "writers = writers.set_index('movie')"
   ]
  },
  {
   "cell_type": "markdown",
   "metadata": {},
   "source": [
    "Start by merging `df_basics` with `writers` and create a new dataframe. Then clean it by dropping columns and reordering them."
   ]
  },
  {
   "cell_type": "code",
   "execution_count": 99,
   "metadata": {},
   "outputs": [],
   "source": [
    "# Use pd.merge() to create 'df_writers'\n",
    "\n",
    "df_writers = pd.merge(df_basics, writers, on = 'movie')"
   ]
  },
  {
   "cell_type": "code",
   "execution_count": 100,
   "metadata": {},
   "outputs": [],
   "source": [
    "# Use .drop() and specify list of columns to drop\n",
    "\n",
    "df_writers = df_writers.drop(columns = ['release_date', 'worldwide_net_profit',\n",
    "                                             'domestic_net_profit', \n",
    "                                              'release_month', 'runtime_minutes'])"
   ]
  },
  {
   "cell_type": "code",
   "execution_count": 101,
   "metadata": {},
   "outputs": [],
   "source": [
    "# Use .reindex() to create new column order \n",
    "\n",
    "df_writers = df_writers.reindex(columns = ['primary_name', 'worldwide_ROI',\n",
    "                                                 'domestic_ROI', 'worldwide_gross', 'domestic_gross',\n",
    "                                     'production_budget'])"
   ]
  },
  {
   "cell_type": "markdown",
   "metadata": {},
   "source": [
    "Check for duplicates and preview "
   ]
  },
  {
   "cell_type": "code",
   "execution_count": 102,
   "metadata": {},
   "outputs": [
    {
     "data": {
      "text/plain": [
       "False"
      ]
     },
     "execution_count": 102,
     "metadata": {},
     "output_type": "execute_result"
    }
   ],
   "source": [
    "# Check for duplciates\n",
    "\n",
    "df_writers.duplicated().any()"
   ]
  },
  {
   "cell_type": "code",
   "execution_count": 103,
   "metadata": {
    "scrolled": true
   },
   "outputs": [
    {
     "data": {
      "text/html": [
       "<div>\n",
       "<style scoped>\n",
       "    .dataframe tbody tr th:only-of-type {\n",
       "        vertical-align: middle;\n",
       "    }\n",
       "\n",
       "    .dataframe tbody tr th {\n",
       "        vertical-align: top;\n",
       "    }\n",
       "\n",
       "    .dataframe thead th {\n",
       "        text-align: right;\n",
       "    }\n",
       "</style>\n",
       "<table border=\"1\" class=\"dataframe\">\n",
       "  <thead>\n",
       "    <tr style=\"text-align: right;\">\n",
       "      <th></th>\n",
       "      <th>primary_name</th>\n",
       "      <th>worldwide_ROI</th>\n",
       "      <th>domestic_ROI</th>\n",
       "      <th>worldwide_gross</th>\n",
       "      <th>domestic_gross</th>\n",
       "      <th>production_budget</th>\n",
       "    </tr>\n",
       "    <tr>\n",
       "      <th>movie</th>\n",
       "      <th></th>\n",
       "      <th></th>\n",
       "      <th></th>\n",
       "      <th></th>\n",
       "      <th></th>\n",
       "      <th></th>\n",
       "    </tr>\n",
       "  </thead>\n",
       "  <tbody>\n",
       "    <tr>\n",
       "      <th>Avatar</th>\n",
       "      <td>Yûsuke Yamada</td>\n",
       "      <td>553.257713</td>\n",
       "      <td>78.942971</td>\n",
       "      <td>2776345279</td>\n",
       "      <td>760507625</td>\n",
       "      <td>425000000</td>\n",
       "    </tr>\n",
       "    <tr>\n",
       "      <th>Avatar</th>\n",
       "      <td>Teruo Noguchi</td>\n",
       "      <td>553.257713</td>\n",
       "      <td>78.942971</td>\n",
       "      <td>2776345279</td>\n",
       "      <td>760507625</td>\n",
       "      <td>425000000</td>\n",
       "    </tr>\n",
       "    <tr>\n",
       "      <th>Titanic</th>\n",
       "      <td>Kevin Lincoln</td>\n",
       "      <td>1004.104198</td>\n",
       "      <td>229.681972</td>\n",
       "      <td>2208208395</td>\n",
       "      <td>659363944</td>\n",
       "      <td>200000000</td>\n",
       "    </tr>\n",
       "    <tr>\n",
       "      <th>Titanic</th>\n",
       "      <td>Ravi Punj</td>\n",
       "      <td>1004.104198</td>\n",
       "      <td>229.681972</td>\n",
       "      <td>2208208395</td>\n",
       "      <td>659363944</td>\n",
       "      <td>200000000</td>\n",
       "    </tr>\n",
       "    <tr>\n",
       "      <th>Avengers: Infinity War</th>\n",
       "      <td>Keith Giffen</td>\n",
       "      <td>582.711400</td>\n",
       "      <td>126.271827</td>\n",
       "      <td>2048134200</td>\n",
       "      <td>678815482</td>\n",
       "      <td>300000000</td>\n",
       "    </tr>\n",
       "  </tbody>\n",
       "</table>\n",
       "</div>"
      ],
      "text/plain": [
       "                         primary_name  worldwide_ROI  domestic_ROI  \\\n",
       "movie                                                                \n",
       "Avatar                  Yûsuke Yamada     553.257713     78.942971   \n",
       "Avatar                  Teruo Noguchi     553.257713     78.942971   \n",
       "Titanic                 Kevin Lincoln    1004.104198    229.681972   \n",
       "Titanic                     Ravi Punj    1004.104198    229.681972   \n",
       "Avengers: Infinity War   Keith Giffen     582.711400    126.271827   \n",
       "\n",
       "                        worldwide_gross  domestic_gross  production_budget  \n",
       "movie                                                                       \n",
       "Avatar                       2776345279       760507625          425000000  \n",
       "Avatar                       2776345279       760507625          425000000  \n",
       "Titanic                      2208208395       659363944          200000000  \n",
       "Titanic                      2208208395       659363944          200000000  \n",
       "Avengers: Infinity War       2048134200       678815482          300000000  "
      ]
     },
     "execution_count": 103,
     "metadata": {},
     "output_type": "execute_result"
    }
   ],
   "source": [
    "# Preview dataframe\n",
    "\n",
    "df_writers.head()"
   ]
  },
  {
   "cell_type": "markdown",
   "metadata": {},
   "source": [
    "### All of our data cleaning is complete. Now we will go through in question order to prepare our data so it is ready for our models.\n",
    "***"
   ]
  },
  {
   "cell_type": "markdown",
   "metadata": {},
   "source": [
    "### Question One - Prepare all Personnel Data"
   ]
  },
  {
   "cell_type": "markdown",
   "metadata": {},
   "source": [
    "We have our `df_actors`, `df_directors`, and `df_writers` dataframes. We will evaluate each group of people by:\n",
    "\n",
    "* How frequently they appear in the data\n",
    "* How frequently they appear in the data limited to the top 25% ROI\n",
    "\n",
    "* How high their average ROI is per film \n",
    "* How high their average ROI is in films limited to the top 25% ROI\n",
    "\n",
    "***\n",
    "\n",
    "To do this, we are going to:\n",
    "\n",
    "* Create a series, consisting of each ROI value in the data, per group\n",
    "* Create another series, consisting only of people who appear above the 75th percentile of our data by ROI\n",
    "* Define a function that:\n",
    "    * Creates a list of people in the `primary_name` column of a specified dataframe\n",
    "* Create a list of the 10 people per group who appear most often in the top 25% quartile of our data by ROI \n",
    "* Create a dataframe to display this frequency \n",
    "* Define a function that:\n",
    "    * Creates a list of corresponding ROI values for a specified list of people in a specified dataframe\n",
    "* Define a function that: \n",
    "    * Creates a dataframe from two specified lists, and sorts the dataframe accordingly \n",
    "* Repeat the process for all personnel, not just those above the 75th percentile of our data by ROI\n",
    "***\n",
    "This will all be apparent below. For now, that is a brief overview of the process.\n",
    "***"
   ]
  },
  {
   "cell_type": "markdown",
   "metadata": {},
   "source": [
    "#### Actors Data Preparation"
   ]
  },
  {
   "cell_type": "markdown",
   "metadata": {},
   "source": [
    "We will start by creating a `Series` consisting of all of the ROI's listed in the `df_actors` dataframe.   "
   ]
  },
  {
   "cell_type": "code",
   "execution_count": 104,
   "metadata": {
    "scrolled": true
   },
   "outputs": [
    {
     "data": {
      "text/plain": [
       "count    11562.000000\n",
       "mean       293.260821\n",
       "std       1279.777007\n",
       "min        -99.997400\n",
       "25%        -44.294040\n",
       "50%         79.209505\n",
       "75%        282.856075\n",
       "max      41556.474000\n",
       "Name: worldwide_ROI, dtype: float64"
      ]
     },
     "execution_count": 104,
     "metadata": {},
     "output_type": "execute_result"
    }
   ],
   "source": [
    "# Create Series\n",
    "roi_actors = df_actors['worldwide_ROI']\n",
    "\n",
    "# Look at statistical overview \n",
    "roi_actors.describe()"
   ]
  },
  {
   "cell_type": "markdown",
   "metadata": {},
   "source": [
    "We can see how widespread our data is, with the bottom 25% of our ROI data in the negatives, while the top 25% of our ROI data brings nearly a 300% return to our stakeholders. For now we are just going to look at the top 25% of the data, and which actors appear most often, as well as generate the highest average ROI within those films. After this, we will look at an overview of the same thing, including all films and not just those with the highest ROI.  "
   ]
  },
  {
   "cell_type": "code",
   "execution_count": 105,
   "metadata": {
    "scrolled": true
   },
   "outputs": [
    {
     "data": {
      "text/html": [
       "<div>\n",
       "<style scoped>\n",
       "    .dataframe tbody tr th:only-of-type {\n",
       "        vertical-align: middle;\n",
       "    }\n",
       "\n",
       "    .dataframe tbody tr th {\n",
       "        vertical-align: top;\n",
       "    }\n",
       "\n",
       "    .dataframe thead th {\n",
       "        text-align: right;\n",
       "    }\n",
       "</style>\n",
       "<table border=\"1\" class=\"dataframe\">\n",
       "  <thead>\n",
       "    <tr style=\"text-align: right;\">\n",
       "      <th></th>\n",
       "      <th>primary_name</th>\n",
       "      <th>worldwide_ROI</th>\n",
       "      <th>domestic_ROI</th>\n",
       "      <th>worldwide_gross</th>\n",
       "      <th>domestic_gross</th>\n",
       "      <th>production_budget</th>\n",
       "    </tr>\n",
       "    <tr>\n",
       "      <th>movie</th>\n",
       "      <th></th>\n",
       "      <th></th>\n",
       "      <th></th>\n",
       "      <th></th>\n",
       "      <th></th>\n",
       "      <th></th>\n",
       "    </tr>\n",
       "  </thead>\n",
       "  <tbody>\n",
       "    <tr>\n",
       "      <th>Avatar</th>\n",
       "      <td>Mizuki Sashide</td>\n",
       "      <td>553.257713</td>\n",
       "      <td>78.942971</td>\n",
       "      <td>2776345279</td>\n",
       "      <td>760507625</td>\n",
       "      <td>425000000</td>\n",
       "    </tr>\n",
       "    <tr>\n",
       "      <th>Avatar</th>\n",
       "      <td>Ai Hashimoto</td>\n",
       "      <td>553.257713</td>\n",
       "      <td>78.942971</td>\n",
       "      <td>2776345279</td>\n",
       "      <td>760507625</td>\n",
       "      <td>425000000</td>\n",
       "    </tr>\n",
       "    <tr>\n",
       "      <th>Avatar</th>\n",
       "      <td>Rikako Sakata</td>\n",
       "      <td>553.257713</td>\n",
       "      <td>78.942971</td>\n",
       "      <td>2776345279</td>\n",
       "      <td>760507625</td>\n",
       "      <td>425000000</td>\n",
       "    </tr>\n",
       "    <tr>\n",
       "      <th>Avatar</th>\n",
       "      <td>Nako Mizusawa</td>\n",
       "      <td>553.257713</td>\n",
       "      <td>78.942971</td>\n",
       "      <td>2776345279</td>\n",
       "      <td>760507625</td>\n",
       "      <td>425000000</td>\n",
       "    </tr>\n",
       "    <tr>\n",
       "      <th>Avatar</th>\n",
       "      <td>Yuri Hane</td>\n",
       "      <td>553.257713</td>\n",
       "      <td>78.942971</td>\n",
       "      <td>2776345279</td>\n",
       "      <td>760507625</td>\n",
       "      <td>425000000</td>\n",
       "    </tr>\n",
       "  </tbody>\n",
       "</table>\n",
       "</div>"
      ],
      "text/plain": [
       "          primary_name  worldwide_ROI  domestic_ROI  worldwide_gross  \\\n",
       "movie                                                                  \n",
       "Avatar  Mizuki Sashide     553.257713     78.942971       2776345279   \n",
       "Avatar    Ai Hashimoto     553.257713     78.942971       2776345279   \n",
       "Avatar   Rikako Sakata     553.257713     78.942971       2776345279   \n",
       "Avatar   Nako Mizusawa     553.257713     78.942971       2776345279   \n",
       "Avatar       Yuri Hane     553.257713     78.942971       2776345279   \n",
       "\n",
       "        domestic_gross  production_budget  \n",
       "movie                                      \n",
       "Avatar       760507625          425000000  \n",
       "Avatar       760507625          425000000  \n",
       "Avatar       760507625          425000000  \n",
       "Avatar       760507625          425000000  \n",
       "Avatar       760507625          425000000  "
      ]
     },
     "execution_count": 105,
     "metadata": {},
     "output_type": "execute_result"
    }
   ],
   "source": [
    "# Create variable that represents the number we will be using to filter our 'worldwide_ROI'\n",
    "upper_qa = roi_actors.quantile(q = 0.75)\n",
    "\n",
    "# Create dataframe that only has entries where the ROI is greater than 'upper_qa'\n",
    "top_actors_df = df_actors[roi_actors > upper_qa]\n",
    "\n",
    "# Preview the data\n",
    "top_actors_df.head()"
   ]
  },
  {
   "cell_type": "markdown",
   "metadata": {},
   "source": [
    "Now we will `define a function` that returns a `list` of the `primary_name` of all of the performers who are in a dataframe. We can do this by writing a function that takes in a dataframe, creates an empty list, and loops through a for loop that appends each applicable name to that list."
   ]
  },
  {
   "cell_type": "code",
   "execution_count": 106,
   "metadata": {},
   "outputs": [],
   "source": [
    "# Write function that we can use for each group of people \n",
    "\n",
    "def top_performers(df):\n",
    "    \n",
    "    top_performers = []\n",
    "\n",
    "    for performer in df['primary_name']:\n",
    "        top_performers.append(performer)\n",
    "\n",
    "    return top_performers"
   ]
  },
  {
   "cell_type": "markdown",
   "metadata": {},
   "source": [
    "Using the `top_performers()` function, we can create a list of top actors by ROI."
   ]
  },
  {
   "cell_type": "code",
   "execution_count": 107,
   "metadata": {},
   "outputs": [],
   "source": [
    "# Use new function to create list of top actor names \n",
    "\n",
    "top_actors = top_performers(top_actors_df)"
   ]
  },
  {
   "cell_type": "markdown",
   "metadata": {},
   "source": [
    "Now that we have our list, we want to create a series that consists of actor names, and the amount of times their name appears in the top 25% of our data by ROI. We are going to create a new variable called `top_actor_counts` which will store a `Series` of and `n` quantity of actors and how often their name appears. From that Series, we can create a dataframe called `t25_actor_df`, that contains this data.  "
   ]
  },
  {
   "cell_type": "code",
   "execution_count": 108,
   "metadata": {},
   "outputs": [],
   "source": [
    "# Create variable 'n' to change head() value if needed \n",
    "\n",
    "n = 10"
   ]
  },
  {
   "cell_type": "code",
   "execution_count": 109,
   "metadata": {},
   "outputs": [
    {
     "data": {
      "text/plain": [
       "Jennifer Lawrence    9\n",
       "Dwayne Johnson       9\n",
       "Kristen Wiig         7\n",
       "Channing Tatum       7\n",
       "Anne Hathaway        7\n",
       "Mark Ruffalo         7\n",
       "Robert Downey Jr.    7\n",
       "Zac Efron            6\n",
       "Michael B. Jordan    6\n",
       "Rachel McAdams       6\n",
       "dtype: int64"
      ]
     },
     "execution_count": 109,
     "metadata": {},
     "output_type": "execute_result"
    }
   ],
   "source": [
    "# Create Series that counts the occurence of each actor from the top_actors variable above\n",
    "top_actor_counts = pd.Series(top_actors).value_counts()\n",
    "\n",
    "# Store a specified quantity of data in this variable using 'n'\n",
    "top_actor_counts = top_actor_counts.head(n)\n",
    "\n",
    "# Preview data \n",
    "top_actor_counts"
   ]
  },
  {
   "cell_type": "code",
   "execution_count": 110,
   "metadata": {},
   "outputs": [
    {
     "data": {
      "text/html": [
       "<div>\n",
       "<style scoped>\n",
       "    .dataframe tbody tr th:only-of-type {\n",
       "        vertical-align: middle;\n",
       "    }\n",
       "\n",
       "    .dataframe tbody tr th {\n",
       "        vertical-align: top;\n",
       "    }\n",
       "\n",
       "    .dataframe thead th {\n",
       "        text-align: right;\n",
       "    }\n",
       "</style>\n",
       "<table border=\"1\" class=\"dataframe\">\n",
       "  <thead>\n",
       "    <tr style=\"text-align: right;\">\n",
       "      <th></th>\n",
       "      <th>actors</th>\n",
       "      <th>frequency</th>\n",
       "    </tr>\n",
       "  </thead>\n",
       "  <tbody>\n",
       "    <tr>\n",
       "      <th>0</th>\n",
       "      <td>Jennifer Lawrence</td>\n",
       "      <td>9</td>\n",
       "    </tr>\n",
       "    <tr>\n",
       "      <th>1</th>\n",
       "      <td>Dwayne Johnson</td>\n",
       "      <td>9</td>\n",
       "    </tr>\n",
       "    <tr>\n",
       "      <th>2</th>\n",
       "      <td>Kristen Wiig</td>\n",
       "      <td>7</td>\n",
       "    </tr>\n",
       "    <tr>\n",
       "      <th>3</th>\n",
       "      <td>Channing Tatum</td>\n",
       "      <td>7</td>\n",
       "    </tr>\n",
       "    <tr>\n",
       "      <th>4</th>\n",
       "      <td>Anne Hathaway</td>\n",
       "      <td>7</td>\n",
       "    </tr>\n",
       "    <tr>\n",
       "      <th>5</th>\n",
       "      <td>Mark Ruffalo</td>\n",
       "      <td>7</td>\n",
       "    </tr>\n",
       "    <tr>\n",
       "      <th>6</th>\n",
       "      <td>Robert Downey Jr.</td>\n",
       "      <td>7</td>\n",
       "    </tr>\n",
       "    <tr>\n",
       "      <th>7</th>\n",
       "      <td>Zac Efron</td>\n",
       "      <td>6</td>\n",
       "    </tr>\n",
       "    <tr>\n",
       "      <th>8</th>\n",
       "      <td>Michael B. Jordan</td>\n",
       "      <td>6</td>\n",
       "    </tr>\n",
       "    <tr>\n",
       "      <th>9</th>\n",
       "      <td>Rachel McAdams</td>\n",
       "      <td>6</td>\n",
       "    </tr>\n",
       "  </tbody>\n",
       "</table>\n",
       "</div>"
      ],
      "text/plain": [
       "              actors  frequency\n",
       "0  Jennifer Lawrence          9\n",
       "1     Dwayne Johnson          9\n",
       "2       Kristen Wiig          7\n",
       "3     Channing Tatum          7\n",
       "4      Anne Hathaway          7\n",
       "5       Mark Ruffalo          7\n",
       "6  Robert Downey Jr.          7\n",
       "7          Zac Efron          6\n",
       "8  Michael B. Jordan          6\n",
       "9     Rachel McAdams          6"
      ]
     },
     "execution_count": 110,
     "metadata": {},
     "output_type": "execute_result"
    }
   ],
   "source": [
    "# Turn into df for easier modeling \n",
    "\n",
    "# Reset index \n",
    "t25_actor_df = top_actor_counts.reset_index()\n",
    "\n",
    "# Name columns \n",
    "t25_actor_df.columns = ['actors', 'frequency']\n",
    "\n",
    "# Preview data \n",
    "t25_actor_df"
   ]
  },
  {
   "cell_type": "markdown",
   "metadata": {},
   "source": [
    "Great. `t25_actor_df` is a dataframe that we are going to use in our plots below. Now we are going to incorporate the `ROI` so we can plot it as well. We are going to create a list of the top ROI's that pair with these actor names. We will store the list version of our `top_actor_counts` Series in a variable called `top_actors`."
   ]
  },
  {
   "cell_type": "code",
   "execution_count": 111,
   "metadata": {},
   "outputs": [
    {
     "data": {
      "text/plain": [
       "['Jennifer Lawrence',\n",
       " 'Dwayne Johnson',\n",
       " 'Kristen Wiig',\n",
       " 'Channing Tatum',\n",
       " 'Anne Hathaway',\n",
       " 'Mark Ruffalo',\n",
       " 'Robert Downey Jr.',\n",
       " 'Zac Efron',\n",
       " 'Michael B. Jordan',\n",
       " 'Rachel McAdams']"
      ]
     },
     "execution_count": 111,
     "metadata": {},
     "output_type": "execute_result"
    }
   ],
   "source": [
    "# Use .tolist() function to convert the Series of 10 actors to a list on index (actor name)\n",
    "top_actors = top_actor_counts.index.tolist()\n",
    "\n",
    "# Preview data\n",
    "top_actors"
   ]
  },
  {
   "cell_type": "markdown",
   "metadata": {},
   "source": [
    "Next, we want to `define a function` that takes in a list and dataframe, and returns a list of the `average_ROI` for each person in from the specified list. This function will again create an empty list, and loop through a for loop. The for loop will loop through each name in the `name_list`, and access any occurence where that name exists in the `primary_name` column of the specified `df`. The loop will store those occurences in a variable `loc_performer`. It will then access the `worldwide_ROI` column for each occurrence, use `.mean()` to find the `average_ROI` per `performer`, and return a list of those ROI's, that will correspond to the `name_list`."
   ]
  },
  {
   "cell_type": "code",
   "execution_count": 112,
   "metadata": {},
   "outputs": [],
   "source": [
    "# Create function using def()\n",
    "\n",
    "def average_ROI(name_list, df):\n",
    "    \n",
    "    average_ROI = []\n",
    "    \n",
    "    for performer in name_list:\n",
    "        loc_performer = df.loc[df['primary_name'] == performer]\n",
    "        average_ROI.append(loc_performer.worldwide_ROI.mean())\n",
    "    \n",
    "    return average_ROI"
   ]
  },
  {
   "cell_type": "markdown",
   "metadata": {},
   "source": [
    "Now we can use the `average_ROI` function to create a list of ROI's that correspond with our `top_actors` list. We will use the `top_actors_df` to access this information, and store it in a variable `top_actor_ROI`."
   ]
  },
  {
   "cell_type": "code",
   "execution_count": 113,
   "metadata": {
    "scrolled": true
   },
   "outputs": [
    {
     "data": {
      "text/plain": [
       "[704.3510221270828,\n",
       " 448.0010433787351,\n",
       " 824.0576010393506,\n",
       " 764.9647067061117,\n",
       " 351.1845408005328,\n",
       " 508.92554594517907,\n",
       " 439.56293869756007,\n",
       " 639.4761026921441,\n",
       " 769.0696337765265,\n",
       " 440.5935798242424]"
      ]
     },
     "execution_count": 113,
     "metadata": {},
     "output_type": "execute_result"
    }
   ],
   "source": [
    "# Use function to create new ROI list\n",
    "top_actor_ROI = average_ROI(top_actors, top_actors_df)\n",
    "\n",
    "# Preview list\n",
    "top_actor_ROI"
   ]
  },
  {
   "cell_type": "markdown",
   "metadata": {},
   "source": [
    "Now that we have our two lists with information, we will define our final function to create a dataframe. This function will take in two lists, and the word `True` or `False`. `create_df()` uses the `zip` function and allows us to take two lists and merge them together by creating `tuples`. We then pass this list of tuples into `pd.Dataframe` which takes this new list and converts it into a dataframe. The function stores this dataframe in `df_top`, and then uses the `sort_values()` function to return `df_top` in either `ascending` or `descending` order depending on the `condition` given to the function.\n",
    "***\n",
    "Write the function below using `zip()` after looking at the following page on Stack Overflow:\n",
    "* https://stackoverflow.com/questions/43175382/python-create-a-pandas-data-frame-from-a-list\n",
    "***"
   ]
  },
  {
   "cell_type": "code",
   "execution_count": 114,
   "metadata": {},
   "outputs": [],
   "source": [
    "# Wrote the function below after looking at the following page on Stack Overflow:\n",
    "# https://stackoverflow.com/questions/43175382/python-create-a-pandas-data-frame-from-a-list\n",
    "\n",
    "# Define create_df function and return df_top\n",
    "\n",
    "def create_df(name_list, roi_list, condition):\n",
    "    \n",
    "    df_top = pd.DataFrame(list(zip(name_list, roi_list)), columns = ['name', 'average_ROI'])\n",
    "    df_top = df_top.sort_values(by = ['average_ROI'], ascending = condition)\n",
    "    \n",
    "    return df_top"
   ]
  },
  {
   "cell_type": "markdown",
   "metadata": {},
   "source": [
    "Finally, we can use `create_df()` to create a dataframe with the top 10 actors names and their corresponding average ROI's. We will call this `df_top_actors` and we will use this in our plots below. "
   ]
  },
  {
   "cell_type": "code",
   "execution_count": 115,
   "metadata": {
    "scrolled": true
   },
   "outputs": [
    {
     "data": {
      "text/html": [
       "<div>\n",
       "<style scoped>\n",
       "    .dataframe tbody tr th:only-of-type {\n",
       "        vertical-align: middle;\n",
       "    }\n",
       "\n",
       "    .dataframe tbody tr th {\n",
       "        vertical-align: top;\n",
       "    }\n",
       "\n",
       "    .dataframe thead th {\n",
       "        text-align: right;\n",
       "    }\n",
       "</style>\n",
       "<table border=\"1\" class=\"dataframe\">\n",
       "  <thead>\n",
       "    <tr style=\"text-align: right;\">\n",
       "      <th></th>\n",
       "      <th>name</th>\n",
       "      <th>average_ROI</th>\n",
       "    </tr>\n",
       "  </thead>\n",
       "  <tbody>\n",
       "    <tr>\n",
       "      <th>2</th>\n",
       "      <td>Kristen Wiig</td>\n",
       "      <td>824.057601</td>\n",
       "    </tr>\n",
       "    <tr>\n",
       "      <th>8</th>\n",
       "      <td>Michael B. Jordan</td>\n",
       "      <td>769.069634</td>\n",
       "    </tr>\n",
       "    <tr>\n",
       "      <th>3</th>\n",
       "      <td>Channing Tatum</td>\n",
       "      <td>764.964707</td>\n",
       "    </tr>\n",
       "    <tr>\n",
       "      <th>0</th>\n",
       "      <td>Jennifer Lawrence</td>\n",
       "      <td>704.351022</td>\n",
       "    </tr>\n",
       "    <tr>\n",
       "      <th>7</th>\n",
       "      <td>Zac Efron</td>\n",
       "      <td>639.476103</td>\n",
       "    </tr>\n",
       "    <tr>\n",
       "      <th>5</th>\n",
       "      <td>Mark Ruffalo</td>\n",
       "      <td>508.925546</td>\n",
       "    </tr>\n",
       "    <tr>\n",
       "      <th>1</th>\n",
       "      <td>Dwayne Johnson</td>\n",
       "      <td>448.001043</td>\n",
       "    </tr>\n",
       "    <tr>\n",
       "      <th>9</th>\n",
       "      <td>Rachel McAdams</td>\n",
       "      <td>440.593580</td>\n",
       "    </tr>\n",
       "    <tr>\n",
       "      <th>6</th>\n",
       "      <td>Robert Downey Jr.</td>\n",
       "      <td>439.562939</td>\n",
       "    </tr>\n",
       "    <tr>\n",
       "      <th>4</th>\n",
       "      <td>Anne Hathaway</td>\n",
       "      <td>351.184541</td>\n",
       "    </tr>\n",
       "  </tbody>\n",
       "</table>\n",
       "</div>"
      ],
      "text/plain": [
       "                name  average_ROI\n",
       "2       Kristen Wiig   824.057601\n",
       "8  Michael B. Jordan   769.069634\n",
       "3     Channing Tatum   764.964707\n",
       "0  Jennifer Lawrence   704.351022\n",
       "7          Zac Efron   639.476103\n",
       "5       Mark Ruffalo   508.925546\n",
       "1     Dwayne Johnson   448.001043\n",
       "9     Rachel McAdams   440.593580\n",
       "6  Robert Downey Jr.   439.562939\n",
       "4      Anne Hathaway   351.184541"
      ]
     },
     "execution_count": 115,
     "metadata": {},
     "output_type": "execute_result"
    }
   ],
   "source": [
    "# Create df_top_actors in descending order \n",
    "\n",
    "df_top_actors = create_df(top_actors, top_actor_ROI, False)\n",
    "df_top_actors"
   ]
  },
  {
   "cell_type": "markdown",
   "metadata": {},
   "source": [
    "We now have two dataframes filtered by top 25% ROI. The `df_top_actors` dataframe is particularly telling since we used `average_ROI` and tried our best to control for the variance in our data. We will be able to use these two dataframes below to help us best advise Microsoft on profitable personnel. We want to have complete data as well, and not blindly look at the top 25%, so we will repeat this process for all actors, and then for directors and writers. "
   ]
  },
  {
   "cell_type": "markdown",
   "metadata": {},
   "source": [
    "#### Repeating Process for All Movies"
   ]
  },
  {
   "cell_type": "code",
   "execution_count": 116,
   "metadata": {},
   "outputs": [],
   "source": [
    "# Use top_performers() function with df_actors to get list of all actors\n",
    "\n",
    "all_actors = top_performers(df_actors)"
   ]
  },
  {
   "cell_type": "code",
   "execution_count": 117,
   "metadata": {
    "scrolled": true
   },
   "outputs": [],
   "source": [
    "# Create variable storing a Series that counts the frequency of all actors\n",
    "actor_counts = pd.Series(all_actors).value_counts()\n",
    "\n",
    "# Store a specified quantity of data in this variable using 'n'\n",
    "actor_counts = actor_counts.head(n)"
   ]
  },
  {
   "cell_type": "code",
   "execution_count": 118,
   "metadata": {},
   "outputs": [],
   "source": [
    "# Turn into dataframe and reset index\n",
    "full_actor_df = actor_counts.reset_index()\n",
    "\n",
    "# Name columns\n",
    "full_actor_df.columns = ['actors', 'frequency']"
   ]
  },
  {
   "cell_type": "code",
   "execution_count": 119,
   "metadata": {},
   "outputs": [],
   "source": [
    "# Use actor_counts Series and turn it into a list \n",
    "\n",
    "actor_list = actor_counts.index.tolist()"
   ]
  },
  {
   "cell_type": "code",
   "execution_count": 120,
   "metadata": {},
   "outputs": [],
   "source": [
    "# Use average_ROI() function to create ROI list \n",
    "\n",
    "actor_ROI = average_ROI(actor_list, df_actors)"
   ]
  },
  {
   "cell_type": "code",
   "execution_count": 121,
   "metadata": {
    "scrolled": true
   },
   "outputs": [
    {
     "data": {
      "text/html": [
       "<div>\n",
       "<style scoped>\n",
       "    .dataframe tbody tr th:only-of-type {\n",
       "        vertical-align: middle;\n",
       "    }\n",
       "\n",
       "    .dataframe tbody tr th {\n",
       "        vertical-align: top;\n",
       "    }\n",
       "\n",
       "    .dataframe thead th {\n",
       "        text-align: right;\n",
       "    }\n",
       "</style>\n",
       "<table border=\"1\" class=\"dataframe\">\n",
       "  <thead>\n",
       "    <tr style=\"text-align: right;\">\n",
       "      <th></th>\n",
       "      <th>name</th>\n",
       "      <th>average_ROI</th>\n",
       "    </tr>\n",
       "  </thead>\n",
       "  <tbody>\n",
       "    <tr>\n",
       "      <th>9</th>\n",
       "      <td>Jennifer Lawrence</td>\n",
       "      <td>464.247970</td>\n",
       "    </tr>\n",
       "    <tr>\n",
       "      <th>6</th>\n",
       "      <td>Channing Tatum</td>\n",
       "      <td>372.682713</td>\n",
       "    </tr>\n",
       "    <tr>\n",
       "      <th>4</th>\n",
       "      <td>Kevin Hart</td>\n",
       "      <td>357.096088</td>\n",
       "    </tr>\n",
       "    <tr>\n",
       "      <th>7</th>\n",
       "      <td>Matthew McConaughey</td>\n",
       "      <td>342.365516</td>\n",
       "    </tr>\n",
       "    <tr>\n",
       "      <th>2</th>\n",
       "      <td>Dwayne Johnson</td>\n",
       "      <td>320.470016</td>\n",
       "    </tr>\n",
       "    <tr>\n",
       "      <th>1</th>\n",
       "      <td>Steve Carell</td>\n",
       "      <td>283.322444</td>\n",
       "    </tr>\n",
       "    <tr>\n",
       "      <th>0</th>\n",
       "      <td>Mark Wahlberg</td>\n",
       "      <td>237.671684</td>\n",
       "    </tr>\n",
       "    <tr>\n",
       "      <th>8</th>\n",
       "      <td>Owen Wilson</td>\n",
       "      <td>231.179025</td>\n",
       "    </tr>\n",
       "    <tr>\n",
       "      <th>5</th>\n",
       "      <td>Liam Neeson</td>\n",
       "      <td>208.290211</td>\n",
       "    </tr>\n",
       "    <tr>\n",
       "      <th>3</th>\n",
       "      <td>Robert De Niro</td>\n",
       "      <td>204.025474</td>\n",
       "    </tr>\n",
       "  </tbody>\n",
       "</table>\n",
       "</div>"
      ],
      "text/plain": [
       "                  name  average_ROI\n",
       "9    Jennifer Lawrence   464.247970\n",
       "6       Channing Tatum   372.682713\n",
       "4           Kevin Hart   357.096088\n",
       "7  Matthew McConaughey   342.365516\n",
       "2       Dwayne Johnson   320.470016\n",
       "1         Steve Carell   283.322444\n",
       "0        Mark Wahlberg   237.671684\n",
       "8          Owen Wilson   231.179025\n",
       "5          Liam Neeson   208.290211\n",
       "3       Robert De Niro   204.025474"
      ]
     },
     "execution_count": 121,
     "metadata": {},
     "output_type": "execute_result"
    }
   ],
   "source": [
    "# Use create_df() function to create dataframe from the two lists created above \n",
    "df_actor_ROI = create_df(actor_list, actor_ROI, False)\n",
    "\n",
    "# Preview dataframe\n",
    "df_actor_ROI"
   ]
  },
  {
   "cell_type": "markdown",
   "metadata": {},
   "source": [
    "It makes sense that the `average_ROI` per actor in `ALL` of the data is lower than that in just the top 25% ROI of the data. These values are averaged out further by a higher number of films, and potentially worse performing films. We will use this dataframe, as well as `full_actor_df`, which consists of actor counts, in our plots below. We will repeat this process for both `directors` and `writers`."
   ]
  },
  {
   "cell_type": "markdown",
   "metadata": {},
   "source": [
    "#### Directors Data Preparation "
   ]
  },
  {
   "cell_type": "markdown",
   "metadata": {},
   "source": [
    "We will repeat the process from above, creating `t25_director_df`, `df_top_directors`, `full_director_df`, and `df_director_ROI`"
   ]
  },
  {
   "cell_type": "code",
   "execution_count": 122,
   "metadata": {},
   "outputs": [],
   "source": [
    "# Store path to worldwide_ROI column in directors_roi variable \n",
    "\n",
    "directors_roi = df_directors['worldwide_ROI']"
   ]
  },
  {
   "cell_type": "code",
   "execution_count": 123,
   "metadata": {},
   "outputs": [],
   "source": [
    "# Store 75th quartile value of 'worldwide_ROI' column in 'upper_dq'\n",
    "upper_dq = directors_roi.quantile(.75)\n",
    "\n",
    "# Create dataframe that only has entries where the ROI is greater than 'upper_dq'\n",
    "top_directors_df = df_directors[directors_roi > upper_dq]"
   ]
  },
  {
   "cell_type": "code",
   "execution_count": 124,
   "metadata": {},
   "outputs": [],
   "source": [
    "# Use 'top_performers()' function to create list of top director names\n",
    "\n",
    "top_directors = top_performers(top_directors_df)"
   ]
  },
  {
   "cell_type": "code",
   "execution_count": 125,
   "metadata": {},
   "outputs": [],
   "source": [
    "# Create Series that counts the occurence of each actor from the top_directors list above \n",
    "\n",
    "top_director_counts = pd.Series(top_directors).value_counts()"
   ]
  },
  {
   "cell_type": "code",
   "execution_count": 126,
   "metadata": {},
   "outputs": [],
   "source": [
    "# Store a specified quantity of data in this variable using 'n'\n",
    "\n",
    "top_director_counts = top_director_counts.head(n)"
   ]
  },
  {
   "cell_type": "code",
   "execution_count": 127,
   "metadata": {},
   "outputs": [],
   "source": [
    "# Turn into df for easier modeling \n",
    "\n",
    "# Reset index\n",
    "t25_director_df = top_director_counts.reset_index()\n",
    "\n",
    "# Name columns\n",
    "t25_director_df.columns = ['directors', 'frequency']"
   ]
  },
  {
   "cell_type": "markdown",
   "metadata": {},
   "source": [
    "We have our first directors dataframe in `t25_director_df`. Now let's work on `df_top_directors`"
   ]
  },
  {
   "cell_type": "code",
   "execution_count": 128,
   "metadata": {},
   "outputs": [],
   "source": [
    "# Use .tolist() function to convert the Series of 10 directors to a list on index (director name)\n",
    "\n",
    "top_directors = top_director_counts.index.tolist()"
   ]
  },
  {
   "cell_type": "code",
   "execution_count": 129,
   "metadata": {},
   "outputs": [],
   "source": [
    "# Use ROI function to create list \n",
    "\n",
    "director_ROI = average_ROI(top_directors, top_directors_df)"
   ]
  },
  {
   "cell_type": "code",
   "execution_count": 130,
   "metadata": {},
   "outputs": [
    {
     "data": {
      "text/html": [
       "<div>\n",
       "<style scoped>\n",
       "    .dataframe tbody tr th:only-of-type {\n",
       "        vertical-align: middle;\n",
       "    }\n",
       "\n",
       "    .dataframe tbody tr th {\n",
       "        vertical-align: top;\n",
       "    }\n",
       "\n",
       "    .dataframe thead th {\n",
       "        text-align: right;\n",
       "    }\n",
       "</style>\n",
       "<table border=\"1\" class=\"dataframe\">\n",
       "  <thead>\n",
       "    <tr style=\"text-align: right;\">\n",
       "      <th></th>\n",
       "      <th>name</th>\n",
       "      <th>average_ROI</th>\n",
       "    </tr>\n",
       "  </thead>\n",
       "  <tbody>\n",
       "    <tr>\n",
       "      <th>3</th>\n",
       "      <td>James Wan</td>\n",
       "      <td>2341.049177</td>\n",
       "    </tr>\n",
       "    <tr>\n",
       "      <th>7</th>\n",
       "      <td>Christopher Landon</td>\n",
       "      <td>1577.135927</td>\n",
       "    </tr>\n",
       "    <tr>\n",
       "      <th>1</th>\n",
       "      <td>Pierre Coffin</td>\n",
       "      <td>1154.617179</td>\n",
       "    </tr>\n",
       "    <tr>\n",
       "      <th>9</th>\n",
       "      <td>David O. Russell</td>\n",
       "      <td>881.860646</td>\n",
       "    </tr>\n",
       "    <tr>\n",
       "      <th>2</th>\n",
       "      <td>Tim Story</td>\n",
       "      <td>870.282892</td>\n",
       "    </tr>\n",
       "    <tr>\n",
       "      <th>4</th>\n",
       "      <td>Paul Feig</td>\n",
       "      <td>624.402809</td>\n",
       "    </tr>\n",
       "    <tr>\n",
       "      <th>8</th>\n",
       "      <td>Will Gluck</td>\n",
       "      <td>588.542456</td>\n",
       "    </tr>\n",
       "    <tr>\n",
       "      <th>5</th>\n",
       "      <td>Francis Lawrence</td>\n",
       "      <td>461.386653</td>\n",
       "    </tr>\n",
       "    <tr>\n",
       "      <th>0</th>\n",
       "      <td>Steven Spielberg</td>\n",
       "      <td>385.326336</td>\n",
       "    </tr>\n",
       "    <tr>\n",
       "      <th>6</th>\n",
       "      <td>Christopher Nolan</td>\n",
       "      <td>340.136893</td>\n",
       "    </tr>\n",
       "  </tbody>\n",
       "</table>\n",
       "</div>"
      ],
      "text/plain": [
       "                 name  average_ROI\n",
       "3           James Wan  2341.049177\n",
       "7  Christopher Landon  1577.135927\n",
       "1       Pierre Coffin  1154.617179\n",
       "9    David O. Russell   881.860646\n",
       "2           Tim Story   870.282892\n",
       "4           Paul Feig   624.402809\n",
       "8          Will Gluck   588.542456\n",
       "5    Francis Lawrence   461.386653\n",
       "0    Steven Spielberg   385.326336\n",
       "6   Christopher Nolan   340.136893"
      ]
     },
     "execution_count": 130,
     "metadata": {},
     "output_type": "execute_result"
    }
   ],
   "source": [
    "# Use 'create_df()' function to create new dataframe \n",
    "df_top_directors = create_df(top_directors, director_ROI, False)\n",
    "\n",
    "# Preview data\n",
    "df_top_directors "
   ]
  },
  {
   "cell_type": "code",
   "execution_count": 131,
   "metadata": {
    "scrolled": false
   },
   "outputs": [
    {
     "data": {
      "text/html": [
       "<div>\n",
       "<style scoped>\n",
       "    .dataframe tbody tr th:only-of-type {\n",
       "        vertical-align: middle;\n",
       "    }\n",
       "\n",
       "    .dataframe tbody tr th {\n",
       "        vertical-align: top;\n",
       "    }\n",
       "\n",
       "    .dataframe thead th {\n",
       "        text-align: right;\n",
       "    }\n",
       "</style>\n",
       "<table border=\"1\" class=\"dataframe\">\n",
       "  <thead>\n",
       "    <tr style=\"text-align: right;\">\n",
       "      <th></th>\n",
       "      <th>primary_name</th>\n",
       "      <th>worldwide_ROI</th>\n",
       "      <th>domestic_ROI</th>\n",
       "      <th>worldwide_gross</th>\n",
       "      <th>domestic_gross</th>\n",
       "      <th>production_budget</th>\n",
       "    </tr>\n",
       "    <tr>\n",
       "      <th>movie</th>\n",
       "      <th></th>\n",
       "      <th></th>\n",
       "      <th></th>\n",
       "      <th></th>\n",
       "      <th></th>\n",
       "      <th></th>\n",
       "    </tr>\n",
       "  </thead>\n",
       "  <tbody>\n",
       "    <tr>\n",
       "      <th>Furious 7</th>\n",
       "      <td>James Wan</td>\n",
       "      <td>699.327786</td>\n",
       "      <td>85.793168</td>\n",
       "      <td>1518722794</td>\n",
       "      <td>353007020</td>\n",
       "      <td>190000000</td>\n",
       "    </tr>\n",
       "    <tr>\n",
       "      <th>Aquaman</th>\n",
       "      <td>James Wan</td>\n",
       "      <td>616.809150</td>\n",
       "      <td>109.413629</td>\n",
       "      <td>1146894640</td>\n",
       "      <td>335061807</td>\n",
       "      <td>160000000</td>\n",
       "    </tr>\n",
       "    <tr>\n",
       "      <th>The Conjuring</th>\n",
       "      <td>James Wan</td>\n",
       "      <td>1490.000705</td>\n",
       "      <td>587.000705</td>\n",
       "      <td>318000141</td>\n",
       "      <td>137400141</td>\n",
       "      <td>20000000</td>\n",
       "    </tr>\n",
       "    <tr>\n",
       "      <th>Insidious</th>\n",
       "      <td>James Wan</td>\n",
       "      <td>6558.059067</td>\n",
       "      <td>3500.610000</td>\n",
       "      <td>99870886</td>\n",
       "      <td>54009150</td>\n",
       "      <td>1500000</td>\n",
       "    </tr>\n",
       "  </tbody>\n",
       "</table>\n",
       "</div>"
      ],
      "text/plain": [
       "              primary_name  worldwide_ROI  domestic_ROI  worldwide_gross  \\\n",
       "movie                                                                      \n",
       "Furious 7        James Wan     699.327786     85.793168       1518722794   \n",
       "Aquaman          James Wan     616.809150    109.413629       1146894640   \n",
       "The Conjuring    James Wan    1490.000705    587.000705        318000141   \n",
       "Insidious        James Wan    6558.059067   3500.610000         99870886   \n",
       "\n",
       "               domestic_gross  production_budget  \n",
       "movie                                             \n",
       "Furious 7           353007020          190000000  \n",
       "Aquaman             335061807          160000000  \n",
       "The Conjuring       137400141           20000000  \n",
       "Insidious            54009150            1500000  "
      ]
     },
     "execution_count": 131,
     "metadata": {},
     "output_type": "execute_result"
    }
   ],
   "source": [
    "# Use .loc() to see top values\n",
    "\n",
    "top_directors_df.loc[top_directors_df['primary_name'] == 'James Wan']"
   ]
  },
  {
   "cell_type": "markdown",
   "metadata": {},
   "source": [
    "Great. `df_top_directors` is our second dataframe to plot. Now we look at all director data instead of just that of the top 25% ROI."
   ]
  },
  {
   "cell_type": "code",
   "execution_count": 132,
   "metadata": {},
   "outputs": [],
   "source": [
    "# Use top_performers() function with df_directors to get list of all directors\n",
    "\n",
    "all_directors = top_performers(df_directors)"
   ]
  },
  {
   "cell_type": "code",
   "execution_count": 133,
   "metadata": {},
   "outputs": [],
   "source": [
    "# Create variable storing a Series that counts the frequency of all directors\n",
    "director_counts = pd.Series(all_directors).value_counts()\n",
    "\n",
    "# Store a specified quantity of data in this variable using 'n'\n",
    "director_counts = director_counts.head(n)"
   ]
  },
  {
   "cell_type": "code",
   "execution_count": 134,
   "metadata": {},
   "outputs": [],
   "source": [
    "# Turn into dataframe and reset index\n",
    "full_director_df = director_counts.reset_index()\n",
    "\n",
    "# Name columns\n",
    "full_director_df.columns = ['directors', 'frequency']"
   ]
  },
  {
   "cell_type": "markdown",
   "metadata": {},
   "source": [
    "`full_director_df` is our third dataframe here. Now onto `df_director_ROI`."
   ]
  },
  {
   "cell_type": "code",
   "execution_count": 135,
   "metadata": {},
   "outputs": [],
   "source": [
    "# Use director_counts Series and turn it into a list \n",
    "\n",
    "director_list = director_counts.index.tolist()"
   ]
  },
  {
   "cell_type": "code",
   "execution_count": 136,
   "metadata": {},
   "outputs": [],
   "source": [
    "# Use average_ROI() function to create ROI list \n",
    "\n",
    "director_ROI = average_ROI(director_list, df_directors)"
   ]
  },
  {
   "cell_type": "code",
   "execution_count": 137,
   "metadata": {},
   "outputs": [
    {
     "data": {
      "text/html": [
       "<div>\n",
       "<style scoped>\n",
       "    .dataframe tbody tr th:only-of-type {\n",
       "        vertical-align: middle;\n",
       "    }\n",
       "\n",
       "    .dataframe tbody tr th {\n",
       "        vertical-align: top;\n",
       "    }\n",
       "\n",
       "    .dataframe thead th {\n",
       "        text-align: right;\n",
       "    }\n",
       "</style>\n",
       "<table border=\"1\" class=\"dataframe\">\n",
       "  <thead>\n",
       "    <tr style=\"text-align: right;\">\n",
       "      <th></th>\n",
       "      <th>name</th>\n",
       "      <th>average_ROI</th>\n",
       "    </tr>\n",
       "  </thead>\n",
       "  <tbody>\n",
       "    <tr>\n",
       "      <th>3</th>\n",
       "      <td>Steven Soderbergh</td>\n",
       "      <td>591.433308</td>\n",
       "    </tr>\n",
       "    <tr>\n",
       "      <th>9</th>\n",
       "      <td>David O. Russell</td>\n",
       "      <td>522.931922</td>\n",
       "    </tr>\n",
       "    <tr>\n",
       "      <th>1</th>\n",
       "      <td>Tim Story</td>\n",
       "      <td>515.386184</td>\n",
       "    </tr>\n",
       "    <tr>\n",
       "      <th>5</th>\n",
       "      <td>David Gordon Green</td>\n",
       "      <td>369.134514</td>\n",
       "    </tr>\n",
       "    <tr>\n",
       "      <th>4</th>\n",
       "      <td>Jon M. Chu</td>\n",
       "      <td>364.833485</td>\n",
       "    </tr>\n",
       "    <tr>\n",
       "      <th>0</th>\n",
       "      <td>Steven Spielberg</td>\n",
       "      <td>269.389714</td>\n",
       "    </tr>\n",
       "    <tr>\n",
       "      <th>2</th>\n",
       "      <td>Clint Eastwood</td>\n",
       "      <td>256.024094</td>\n",
       "    </tr>\n",
       "    <tr>\n",
       "      <th>7</th>\n",
       "      <td>Ridley Scott</td>\n",
       "      <td>200.638682</td>\n",
       "    </tr>\n",
       "    <tr>\n",
       "      <th>8</th>\n",
       "      <td>Denis Villeneuve</td>\n",
       "      <td>132.845301</td>\n",
       "    </tr>\n",
       "    <tr>\n",
       "      <th>6</th>\n",
       "      <td>Peter Berg</td>\n",
       "      <td>56.064214</td>\n",
       "    </tr>\n",
       "  </tbody>\n",
       "</table>\n",
       "</div>"
      ],
      "text/plain": [
       "                 name  average_ROI\n",
       "3   Steven Soderbergh   591.433308\n",
       "9    David O. Russell   522.931922\n",
       "1           Tim Story   515.386184\n",
       "5  David Gordon Green   369.134514\n",
       "4          Jon M. Chu   364.833485\n",
       "0    Steven Spielberg   269.389714\n",
       "2      Clint Eastwood   256.024094\n",
       "7        Ridley Scott   200.638682\n",
       "8    Denis Villeneuve   132.845301\n",
       "6          Peter Berg    56.064214"
      ]
     },
     "execution_count": 137,
     "metadata": {},
     "output_type": "execute_result"
    }
   ],
   "source": [
    "# Use create_df() function to create dataframe from the two lists created above \n",
    "df_director_ROI = create_df(director_list, director_ROI, False)\n",
    "\n",
    "# Preview dataframe\n",
    "df_director_ROI"
   ]
  },
  {
   "cell_type": "markdown",
   "metadata": {},
   "source": [
    "That was our final director dataframe. Now we repeat the process for `writers` before moving onto `Question 2`."
   ]
  },
  {
   "cell_type": "markdown",
   "metadata": {},
   "source": [
    "#### Writers Data Preparation "
   ]
  },
  {
   "cell_type": "markdown",
   "metadata": {},
   "source": [
    "This time we are creating `t25_writer_df`, `df_top_writers`, `full_writer_df`, and `df_writer_ROI`"
   ]
  },
  {
   "cell_type": "code",
   "execution_count": 138,
   "metadata": {},
   "outputs": [],
   "source": [
    "# Store path to worldwide_ROI column in writers_roi variable \n",
    "\n",
    "writers_roi = df_writers['worldwide_ROI']"
   ]
  },
  {
   "cell_type": "code",
   "execution_count": 139,
   "metadata": {},
   "outputs": [],
   "source": [
    "# Store 75th quartile value of 'worldwide_ROI' column in 'upper_wq'\n",
    "upper_wq = writers_roi.quantile(.75)\n",
    "\n",
    "# Create dataframe that only has entries where the ROI is greater than 'upper_wq'\n",
    "top_writers_df = df_writers[writers_roi > upper_wq]"
   ]
  },
  {
   "cell_type": "code",
   "execution_count": 140,
   "metadata": {},
   "outputs": [],
   "source": [
    "# Use 'top_performers()' function to create list of top writer names\n",
    "\n",
    "top_writers = top_performers(top_writers_df)"
   ]
  },
  {
   "cell_type": "code",
   "execution_count": 141,
   "metadata": {},
   "outputs": [],
   "source": [
    "# Create Series that counts the occurence of each actor from the top_writers list above \n",
    "\n",
    "top_writer_counts = pd.Series(top_writers).value_counts()"
   ]
  },
  {
   "cell_type": "code",
   "execution_count": 142,
   "metadata": {},
   "outputs": [],
   "source": [
    "# Store a specified quantity of data in this variable using 'n'\n",
    "\n",
    "top_writer_counts = top_writer_counts.head(n)"
   ]
  },
  {
   "cell_type": "code",
   "execution_count": 143,
   "metadata": {},
   "outputs": [],
   "source": [
    "# Turn into df for easier modeling \n",
    "\n",
    "# Reset index\n",
    "t25_writer_df = top_writer_counts.reset_index()\n",
    "\n",
    "# Name columns\n",
    "t25_writer_df.columns = ['writers', 'frequency']"
   ]
  },
  {
   "cell_type": "markdown",
   "metadata": {},
   "source": [
    "We have our first writers dataframe in `t25_writer_df`. Now let's work on `df_top_writers`"
   ]
  },
  {
   "cell_type": "code",
   "execution_count": 144,
   "metadata": {},
   "outputs": [],
   "source": [
    "# Use .tolist() function to convert the Series of 10 writers to a list on index (writer name)\n",
    "\n",
    "top_writers = top_writer_counts.index.tolist()"
   ]
  },
  {
   "cell_type": "code",
   "execution_count": 145,
   "metadata": {},
   "outputs": [],
   "source": [
    "# Use ROI function to create list \n",
    "\n",
    "writers_ROI = average_ROI(top_writers, top_writers_df)"
   ]
  },
  {
   "cell_type": "code",
   "execution_count": 146,
   "metadata": {},
   "outputs": [
    {
     "data": {
      "text/html": [
       "<div>\n",
       "<style scoped>\n",
       "    .dataframe tbody tr th:only-of-type {\n",
       "        vertical-align: middle;\n",
       "    }\n",
       "\n",
       "    .dataframe tbody tr th {\n",
       "        vertical-align: top;\n",
       "    }\n",
       "\n",
       "    .dataframe thead th {\n",
       "        text-align: right;\n",
       "    }\n",
       "</style>\n",
       "<table border=\"1\" class=\"dataframe\">\n",
       "  <thead>\n",
       "    <tr style=\"text-align: right;\">\n",
       "      <th></th>\n",
       "      <th>name</th>\n",
       "      <th>average_ROI</th>\n",
       "    </tr>\n",
       "  </thead>\n",
       "  <tbody>\n",
       "    <tr>\n",
       "      <th>2</th>\n",
       "      <td>Oren Peli</td>\n",
       "      <td>3192.181229</td>\n",
       "    </tr>\n",
       "    <tr>\n",
       "      <th>5</th>\n",
       "      <td>Christopher Landon</td>\n",
       "      <td>2989.085407</td>\n",
       "    </tr>\n",
       "    <tr>\n",
       "      <th>8</th>\n",
       "      <td>M. Night Shyamalan</td>\n",
       "      <td>2253.227776</td>\n",
       "    </tr>\n",
       "    <tr>\n",
       "      <th>9</th>\n",
       "      <td>Linda Woolverton</td>\n",
       "      <td>641.201299</td>\n",
       "    </tr>\n",
       "    <tr>\n",
       "      <th>7</th>\n",
       "      <td>Suzanne Collins</td>\n",
       "      <td>532.891046</td>\n",
       "    </tr>\n",
       "    <tr>\n",
       "      <th>6</th>\n",
       "      <td>Michael Arndt</td>\n",
       "      <td>437.962425</td>\n",
       "    </tr>\n",
       "    <tr>\n",
       "      <th>3</th>\n",
       "      <td>Larry Lieber</td>\n",
       "      <td>411.525156</td>\n",
       "    </tr>\n",
       "    <tr>\n",
       "      <th>1</th>\n",
       "      <td>Stan Lee</td>\n",
       "      <td>408.055855</td>\n",
       "    </tr>\n",
       "    <tr>\n",
       "      <th>0</th>\n",
       "      <td>Jack Kirby</td>\n",
       "      <td>404.261869</td>\n",
       "    </tr>\n",
       "    <tr>\n",
       "      <th>4</th>\n",
       "      <td>Joe Simon</td>\n",
       "      <td>397.262382</td>\n",
       "    </tr>\n",
       "  </tbody>\n",
       "</table>\n",
       "</div>"
      ],
      "text/plain": [
       "                 name  average_ROI\n",
       "2           Oren Peli  3192.181229\n",
       "5  Christopher Landon  2989.085407\n",
       "8  M. Night Shyamalan  2253.227776\n",
       "9    Linda Woolverton   641.201299\n",
       "7     Suzanne Collins   532.891046\n",
       "6       Michael Arndt   437.962425\n",
       "3        Larry Lieber   411.525156\n",
       "1            Stan Lee   408.055855\n",
       "0          Jack Kirby   404.261869\n",
       "4           Joe Simon   397.262382"
      ]
     },
     "execution_count": 146,
     "metadata": {},
     "output_type": "execute_result"
    }
   ],
   "source": [
    "# Use 'create_df()' function to create new dataframe \n",
    "df_top_writers = create_df(top_writers, writers_ROI, False)\n",
    "\n",
    "# Preview data \n",
    "df_top_writers"
   ]
  },
  {
   "cell_type": "code",
   "execution_count": 147,
   "metadata": {
    "scrolled": true
   },
   "outputs": [
    {
     "data": {
      "text/html": [
       "<div>\n",
       "<style scoped>\n",
       "    .dataframe tbody tr th:only-of-type {\n",
       "        vertical-align: middle;\n",
       "    }\n",
       "\n",
       "    .dataframe tbody tr th {\n",
       "        vertical-align: top;\n",
       "    }\n",
       "\n",
       "    .dataframe thead th {\n",
       "        text-align: right;\n",
       "    }\n",
       "</style>\n",
       "<table border=\"1\" class=\"dataframe\">\n",
       "  <thead>\n",
       "    <tr style=\"text-align: right;\">\n",
       "      <th></th>\n",
       "      <th>primary_name</th>\n",
       "      <th>worldwide_ROI</th>\n",
       "      <th>domestic_ROI</th>\n",
       "      <th>worldwide_gross</th>\n",
       "      <th>domestic_gross</th>\n",
       "      <th>production_budget</th>\n",
       "    </tr>\n",
       "    <tr>\n",
       "      <th>movie</th>\n",
       "      <th></th>\n",
       "      <th></th>\n",
       "      <th></th>\n",
       "      <th></th>\n",
       "      <th></th>\n",
       "      <th></th>\n",
       "    </tr>\n",
       "  </thead>\n",
       "  <tbody>\n",
       "    <tr>\n",
       "      <th>Avengers: Infinity War</th>\n",
       "      <td>Larry Lieber</td>\n",
       "      <td>582.711400</td>\n",
       "      <td>126.271827</td>\n",
       "      <td>2048134200</td>\n",
       "      <td>678815482</td>\n",
       "      <td>300000000</td>\n",
       "    </tr>\n",
       "    <tr>\n",
       "      <th>Iron Man 3</th>\n",
       "      <td>Larry Lieber</td>\n",
       "      <td>507.696136</td>\n",
       "      <td>104.496136</td>\n",
       "      <td>1215392272</td>\n",
       "      <td>408992272</td>\n",
       "      <td>200000000</td>\n",
       "    </tr>\n",
       "    <tr>\n",
       "      <th>Thor: Ragnarok</th>\n",
       "      <td>Larry Lieber</td>\n",
       "      <td>370.544458</td>\n",
       "      <td>75.032383</td>\n",
       "      <td>846980024</td>\n",
       "      <td>315058289</td>\n",
       "      <td>180000000</td>\n",
       "    </tr>\n",
       "    <tr>\n",
       "      <th>Thor: The Dark World</th>\n",
       "      <td>Larry Lieber</td>\n",
       "      <td>329.735011</td>\n",
       "      <td>37.574760</td>\n",
       "      <td>644602516</td>\n",
       "      <td>206362140</td>\n",
       "      <td>150000000</td>\n",
       "    </tr>\n",
       "    <tr>\n",
       "      <th>Ant-Man and the Wasp</th>\n",
       "      <td>Larry Lieber</td>\n",
       "      <td>379.342046</td>\n",
       "      <td>66.652877</td>\n",
       "      <td>623144660</td>\n",
       "      <td>216648740</td>\n",
       "      <td>130000000</td>\n",
       "    </tr>\n",
       "    <tr>\n",
       "      <th>Ant-Man</th>\n",
       "      <td>Larry Lieber</td>\n",
       "      <td>299.121884</td>\n",
       "      <td>38.617048</td>\n",
       "      <td>518858449</td>\n",
       "      <td>180202163</td>\n",
       "      <td>130000000</td>\n",
       "    </tr>\n",
       "  </tbody>\n",
       "</table>\n",
       "</div>"
      ],
      "text/plain": [
       "                        primary_name  worldwide_ROI  domestic_ROI  \\\n",
       "movie                                                               \n",
       "Avengers: Infinity War  Larry Lieber     582.711400    126.271827   \n",
       "Iron Man 3              Larry Lieber     507.696136    104.496136   \n",
       "Thor: Ragnarok          Larry Lieber     370.544458     75.032383   \n",
       "Thor: The Dark World    Larry Lieber     329.735011     37.574760   \n",
       "Ant-Man and the Wasp    Larry Lieber     379.342046     66.652877   \n",
       "Ant-Man                 Larry Lieber     299.121884     38.617048   \n",
       "\n",
       "                        worldwide_gross  domestic_gross  production_budget  \n",
       "movie                                                                       \n",
       "Avengers: Infinity War       2048134200       678815482          300000000  \n",
       "Iron Man 3                   1215392272       408992272          200000000  \n",
       "Thor: Ragnarok                846980024       315058289          180000000  \n",
       "Thor: The Dark World          644602516       206362140          150000000  \n",
       "Ant-Man and the Wasp          623144660       216648740          130000000  \n",
       "Ant-Man                       518858449       180202163          130000000  "
      ]
     },
     "execution_count": 147,
     "metadata": {},
     "output_type": "execute_result"
    }
   ],
   "source": [
    "# Use .loc() to see top values\n",
    "\n",
    "top_writers_df.loc[top_writers_df['primary_name'] == 'Larry Lieber']"
   ]
  },
  {
   "cell_type": "markdown",
   "metadata": {},
   "source": [
    "Great. `df_top_writers` is our second dataframe to plot. Now we look at all writer data instead of just that of the top 25% ROI."
   ]
  },
  {
   "cell_type": "code",
   "execution_count": 148,
   "metadata": {},
   "outputs": [],
   "source": [
    "# Use top_performers() function with df_writers to get list of all writers\n",
    "\n",
    "all_writers = top_performers(df_writers)"
   ]
  },
  {
   "cell_type": "code",
   "execution_count": 149,
   "metadata": {
    "scrolled": true
   },
   "outputs": [],
   "source": [
    "# Create variable storing a Series that counts the frequency of all writers\n",
    "writer_counts = pd.Series(all_writers).value_counts()\n",
    "\n",
    "# Store a specified quantity of data in this variable using 'n'\n",
    "writer_counts = writer_counts.head(n)"
   ]
  },
  {
   "cell_type": "code",
   "execution_count": 150,
   "metadata": {},
   "outputs": [],
   "source": [
    "# Turn into dataframe and reset index\n",
    "full_writer_df = writer_counts.reset_index()\n",
    "\n",
    "# Name columns\n",
    "full_writer_df.columns = ['writers', 'frequency']"
   ]
  },
  {
   "cell_type": "markdown",
   "metadata": {},
   "source": [
    "`full_writer_df` is our third dataframe here. Now onto `df_writer_ROI`."
   ]
  },
  {
   "cell_type": "code",
   "execution_count": 151,
   "metadata": {},
   "outputs": [],
   "source": [
    "# Use writer_counts Series and turn it into a list \n",
    "\n",
    "writer_list = writer_counts.index.tolist()"
   ]
  },
  {
   "cell_type": "code",
   "execution_count": 152,
   "metadata": {},
   "outputs": [],
   "source": [
    "# Use average_ROI() function to create ROI list \n",
    "\n",
    "writer_ROI = average_ROI(writer_list, df_writers)"
   ]
  },
  {
   "cell_type": "code",
   "execution_count": 153,
   "metadata": {
    "scrolled": true
   },
   "outputs": [
    {
     "data": {
      "text/html": [
       "<div>\n",
       "<style scoped>\n",
       "    .dataframe tbody tr th:only-of-type {\n",
       "        vertical-align: middle;\n",
       "    }\n",
       "\n",
       "    .dataframe tbody tr th {\n",
       "        vertical-align: top;\n",
       "    }\n",
       "\n",
       "    .dataframe thead th {\n",
       "        text-align: right;\n",
       "    }\n",
       "</style>\n",
       "<table border=\"1\" class=\"dataframe\">\n",
       "  <thead>\n",
       "    <tr style=\"text-align: right;\">\n",
       "      <th></th>\n",
       "      <th>name</th>\n",
       "      <th>average_ROI</th>\n",
       "    </tr>\n",
       "  </thead>\n",
       "  <tbody>\n",
       "    <tr>\n",
       "      <th>5</th>\n",
       "      <td>Guillermo del Toro</td>\n",
       "      <td>695.599317</td>\n",
       "    </tr>\n",
       "    <tr>\n",
       "      <th>4</th>\n",
       "      <td>Larry Lieber</td>\n",
       "      <td>366.761016</td>\n",
       "    </tr>\n",
       "    <tr>\n",
       "      <th>1</th>\n",
       "      <td>Stan Lee</td>\n",
       "      <td>308.887359</td>\n",
       "    </tr>\n",
       "    <tr>\n",
       "      <th>8</th>\n",
       "      <td>Christopher Markus</td>\n",
       "      <td>305.114083</td>\n",
       "    </tr>\n",
       "    <tr>\n",
       "      <th>9</th>\n",
       "      <td>Stephen McFeely</td>\n",
       "      <td>305.114083</td>\n",
       "    </tr>\n",
       "    <tr>\n",
       "      <th>0</th>\n",
       "      <td>Jack Kirby</td>\n",
       "      <td>300.976459</td>\n",
       "    </tr>\n",
       "    <tr>\n",
       "      <th>3</th>\n",
       "      <td>Luc Besson</td>\n",
       "      <td>268.353211</td>\n",
       "    </tr>\n",
       "    <tr>\n",
       "      <th>2</th>\n",
       "      <td>Nicholas Stoller</td>\n",
       "      <td>157.270352</td>\n",
       "    </tr>\n",
       "    <tr>\n",
       "      <th>6</th>\n",
       "      <td>John Logan</td>\n",
       "      <td>121.043263</td>\n",
       "    </tr>\n",
       "    <tr>\n",
       "      <th>7</th>\n",
       "      <td>William Shakespeare</td>\n",
       "      <td>61.783328</td>\n",
       "    </tr>\n",
       "  </tbody>\n",
       "</table>\n",
       "</div>"
      ],
      "text/plain": [
       "                  name  average_ROI\n",
       "5   Guillermo del Toro   695.599317\n",
       "4         Larry Lieber   366.761016\n",
       "1             Stan Lee   308.887359\n",
       "8   Christopher Markus   305.114083\n",
       "9      Stephen McFeely   305.114083\n",
       "0           Jack Kirby   300.976459\n",
       "3           Luc Besson   268.353211\n",
       "2     Nicholas Stoller   157.270352\n",
       "6           John Logan   121.043263\n",
       "7  William Shakespeare    61.783328"
      ]
     },
     "execution_count": 153,
     "metadata": {},
     "output_type": "execute_result"
    }
   ],
   "source": [
    "# Use create_df() function to create dataframe from the two lists created above \n",
    "df_writer_ROI = create_df(writer_list, writer_ROI, False)\n",
    "\n",
    "# Preview data\n",
    "df_writer_ROI"
   ]
  },
  {
   "cell_type": "markdown",
   "metadata": {},
   "source": [
    "That was our final writer dataframe. Now we are ready to answer `Question 1`, so we move to `Question 2` preparation."
   ]
  },
  {
   "cell_type": "markdown",
   "metadata": {},
   "source": [
    "### Question Two - Prepare all Budget Data"
   ]
  },
  {
   "cell_type": "markdown",
   "metadata": {},
   "source": [
    "We have our `df_tn` dataframe. We will evaluate the `production_budget` by:\n",
    "\n",
    "* How does budget relate to worldwide gross?\n",
    "* How does budget relate to the highest grossing films? Lowest?\n",
    "* How does the difference in budget categories impact gross?\n",
    "\n",
    "***\n",
    "\n",
    "To do this, we are going to:\n",
    "\n",
    "* Split our grossing data by looking at the top and bottom 500 values sorted by worldwide gross\n",
    "* Create budget bins from the top 500 grossing films \n",
    "* Use budget as a categorical variable \n",
    "\n",
    "***\n",
    "Since all of our ROI data is dictated by `production_budget`, we will only use our grossing data in our budget evaluation. As a reminder, our ROI formula subtracts budget from gross, and then divides that net profit by budget. \n",
    "***"
   ]
  },
  {
   "cell_type": "markdown",
   "metadata": {},
   "source": [
    "First, we will create two dataframes. One that has the top 500 grossing films, and another that has the lowest 500 grossing films. This will help us determine how impactful budget is to gross, right off the bat. We will sort `df_tn` by `worldwide_gross`, and assign the highest 500 values to `top_budget`, and the lowest 500 values to `bottom_budget`."
   ]
  },
  {
   "cell_type": "code",
   "execution_count": 154,
   "metadata": {},
   "outputs": [],
   "source": [
    "# Sort values in descending order and select the first 500 values by index\n",
    "top_budget = df_tn.sort_values(by = 'worldwide_gross', ascending = False)[:500]\n",
    "\n",
    "# Sort values in ascending order and select the first 500 values by index\n",
    "bottom_budget = df_tn.sort_values(by = 'worldwide_gross', ascending = True)[:500]"
   ]
  },
  {
   "cell_type": "markdown",
   "metadata": {},
   "source": [
    "We will use these two dataframes in our models below. We know we want to take a deeper dive into the highest grossing films, and create bins from that data, so we will look closer at the numbers in `top_budget`."
   ]
  },
  {
   "cell_type": "code",
   "execution_count": 155,
   "metadata": {
    "scrolled": true
   },
   "outputs": [
    {
     "data": {
      "text/plain": [
       "count          500.000000\n",
       "mean     115383645.238000\n",
       "std       68111568.037002\n",
       "min        3900000.000000\n",
       "25%       65000000.000000\n",
       "50%      110000000.000000\n",
       "75%      160000000.000000\n",
       "max      425000000.000000\n",
       "Name: production_budget, dtype: object"
      ]
     },
     "execution_count": 155,
     "metadata": {},
     "output_type": "execute_result"
    }
   ],
   "source": [
    "# Use lambda function to remove scientific notation\n",
    "# Use .describe() to return statistical overview of 'top_budget'\n",
    "\n",
    "top_budget.production_budget.describe().apply(lambda x: format(x, 'f'))"
   ]
  },
  {
   "cell_type": "markdown",
   "metadata": {},
   "source": [
    "We can see how large the standard deviation is here. With that confirmed, it may be helpful to separate our data into categories that we can compare in box and whisker and bar plots. To do this, we will create 4 separate ranges that our budget values will fall into. Out of the 500 highest grossing films, our `Low` bin will consits of the bottom `25-50%` of budget data, our `Middle` bin will consist of the `50-75%` percentile of our budget data, our `Top` bin will consist of the `75-95%` percentile of our budget data, and finally our `Top 5%` bin will consist of the top `5%` of our budget data.\n",
    "***\n",
    "Wrote the function below using `pd.cut()` with the following help from Stack Overflow:\n",
    "* https://stackoverflow.com/questions/49382207/how-to-map-numeric-data-into-categories-bins-in-pandas-dataframe\n",
    "***"
   ]
  },
  {
   "cell_type": "code",
   "execution_count": 156,
   "metadata": {},
   "outputs": [
    {
     "name": "stdout",
     "output_type": "stream",
     "text": [
      "<class 'pandas.core.frame.DataFrame'>\n",
      "Index: 500 entries, Avatar to The Silence of the Lambs\n",
      "Data columns (total 10 columns):\n",
      " #   Column                Non-Null Count  Dtype         \n",
      "---  ------                --------------  -----         \n",
      " 0   release_date          500 non-null    datetime64[ns]\n",
      " 1   production_budget     500 non-null    int64         \n",
      " 2   domestic_gross        500 non-null    int64         \n",
      " 3   worldwide_gross       500 non-null    int64         \n",
      " 4   worldwide_net_profit  500 non-null    int64         \n",
      " 5   domestic_net_profit   500 non-null    int64         \n",
      " 6   worldwide_ROI         500 non-null    float64       \n",
      " 7   domestic_ROI          500 non-null    float64       \n",
      " 8   release_month         500 non-null    object        \n",
      " 9   budget_bins           369 non-null    category      \n",
      "dtypes: category(1), datetime64[ns](1), float64(2), int64(5), object(1)\n",
      "memory usage: 39.7+ KB\n"
     ]
    }
   ],
   "source": [
    "# Wrote the function below to bin the data using 'pd.cut()' with the help of Stack Overflow:\n",
    "# https://stackoverflow.com/questions/49382207/how-to-map-numeric-data-into-categories-bins-in-pandas-dataframe\n",
    "\n",
    "# Create bins from top_budget\n",
    "\n",
    "# Assign 't_bud' to represent dataframe path to 'production_budget' column \n",
    "t_bud = top_budget['production_budget']\n",
    "\n",
    "# Create numeric values using '.quantile()' where the bins will be cut off\n",
    "bottom = t_bud.quantile(.25)\n",
    "middle = t_bud.quantile(.5)\n",
    "top = t_bud.quantile(.75)\n",
    "top_5 = t_bud.quantile(.95)\n",
    "\n",
    "# Assign numeric data to 'bins' and bin names to 'names'\n",
    "bins = [bottom, middle, top, top_5, np.inf]\n",
    "names = ['Low', 'Middle', 'High', 'Top 5%']\n",
    "\n",
    "# Create new column called 'budget_bins' using 'pd.cut()' function \n",
    "top_budget['budget_bins'] = pd.cut(t_bud, bins, labels=names)\n",
    "\n",
    "# Confirm new column \n",
    "top_budget.info()"
   ]
  },
  {
   "cell_type": "markdown",
   "metadata": {},
   "source": [
    "The data type of our new column is `category`, which is what we want. We see we have null values, and that is because we did not inlcude the bottom 25% of the `production_budget` column, or the edges of our bins, which was intentional. "
   ]
  },
  {
   "cell_type": "markdown",
   "metadata": {},
   "source": [
    "### Question Three - Prepare Runtime, Month, and Studio Data"
   ]
  },
  {
   "cell_type": "markdown",
   "metadata": {},
   "source": [
    "#### Runtime Data Preparation "
   ]
  },
  {
   "cell_type": "markdown",
   "metadata": {},
   "source": [
    "We have our `df_basics` dataframe that contains `runtime_minutes`. We will evaluate this by looking at:\n",
    "\n",
    "* How does runtime relate to ROI?\n",
    "* How does runtime relate to ROI categories?\n",
    "***\n",
    "To do this, we are going to:\n",
    "\n",
    "* Fill in missing runtime data with the `median` value of the dataset\n",
    "* Create `ROI bins` from the runtime data\n",
    "* Use ROI as a categorical variable \n",
    "\n",
    "***"
   ]
  },
  {
   "cell_type": "markdown",
   "metadata": {},
   "source": [
    "First we will create a `runtime_df` dataframe and clean it"
   ]
  },
  {
   "cell_type": "code",
   "execution_count": 157,
   "metadata": {},
   "outputs": [],
   "source": [
    "# Drop columns that we do not need\n",
    "\n",
    "runtime_df = df_basics.drop(columns = ['release_date', 'worldwide_net_profit',\n",
    "                                      'release_month', 'domestic_net_profit'])"
   ]
  },
  {
   "cell_type": "code",
   "execution_count": 158,
   "metadata": {},
   "outputs": [
    {
     "name": "stdout",
     "output_type": "stream",
     "text": [
      "<class 'pandas.core.frame.DataFrame'>\n",
      "Index: 2096 entries, Avatar to American Hero\n",
      "Data columns (total 6 columns):\n",
      " #   Column             Non-Null Count  Dtype  \n",
      "---  ------             --------------  -----  \n",
      " 0   production_budget  2096 non-null   int64  \n",
      " 1   domestic_gross     2096 non-null   int64  \n",
      " 2   worldwide_gross    2096 non-null   int64  \n",
      " 3   worldwide_ROI      2096 non-null   float64\n",
      " 4   domestic_ROI       2096 non-null   float64\n",
      " 5   runtime_minutes    1926 non-null   float64\n",
      "dtypes: float64(3), int64(3)\n",
      "memory usage: 114.6+ KB\n"
     ]
    }
   ],
   "source": [
    "# Check this\n",
    "\n",
    "runtime_df.info()"
   ]
  },
  {
   "cell_type": "code",
   "execution_count": 159,
   "metadata": {},
   "outputs": [
    {
     "name": "stdout",
     "output_type": "stream",
     "text": [
      "8.110687022900763 %\n"
     ]
    }
   ],
   "source": [
    "# Look at percentage of missing runtime data\n",
    "\n",
    "# Create variable to hold total null values in runtime column \n",
    "missing_time = runtime_df['runtime_minutes'].isnull().sum()\n",
    "\n",
    "# Create variable to hold total rows in dataframe\n",
    "runt_length = len(runtime_df)\n",
    "\n",
    "# Calculate percentage of runtime missing\n",
    "runt_percentage = (missing_time / runt_length) * 100\n",
    "\n",
    "# Print as a percentage \n",
    "print(runt_percentage, '%')"
   ]
  },
  {
   "cell_type": "markdown",
   "metadata": {},
   "source": [
    "`8.11%` is not a massive amount of our data, but since `runtime_minutes` is a `float` category, we can use mean or median to replace it instead of dropping the rows altogether. We know this is not a perfect solution as it will minimize our variance. We will likely use the `median` over the `mean` since the mean is more likely to be skewed by outliers. "
   ]
  },
  {
   "cell_type": "code",
   "execution_count": 160,
   "metadata": {
    "scrolled": false
   },
   "outputs": [
    {
     "data": {
      "text/plain": [
       "count    1926.000000\n",
       "mean      102.167186\n",
       "std        24.293553\n",
       "min         1.000000\n",
       "25%        91.000000\n",
       "50%       102.000000\n",
       "75%       115.000000\n",
       "max       312.000000\n",
       "Name: runtime_minutes, dtype: float64"
      ]
     },
     "execution_count": 160,
     "metadata": {},
     "output_type": "execute_result"
    }
   ],
   "source": [
    "# Look at statistical overview\n",
    "\n",
    "runtime_df['runtime_minutes'].describe()"
   ]
  },
  {
   "cell_type": "markdown",
   "metadata": {},
   "source": [
    "The `mean` and `median` are actually incredibly similar, at about `102 minutes`. We will move forward with the `median`."
   ]
  },
  {
   "cell_type": "code",
   "execution_count": 161,
   "metadata": {},
   "outputs": [],
   "source": [
    "# Use .fillna() to replace null values with the median \n",
    "\n",
    "runtime_df['runtime_minutes'] = runtime_df['runtime_minutes'].fillna(value=runtime_df['runtime_minutes'].median())"
   ]
  },
  {
   "cell_type": "code",
   "execution_count": 162,
   "metadata": {},
   "outputs": [
    {
     "data": {
      "text/plain": [
       "production_budget    False\n",
       "domestic_gross       False\n",
       "worldwide_gross      False\n",
       "worldwide_ROI        False\n",
       "domestic_ROI         False\n",
       "runtime_minutes      False\n",
       "dtype: bool"
      ]
     },
     "execution_count": 162,
     "metadata": {},
     "output_type": "execute_result"
    }
   ],
   "source": [
    "# Check this worked \n",
    "\n",
    "runtime_df.isnull().any()"
   ]
  },
  {
   "cell_type": "code",
   "execution_count": 163,
   "metadata": {
    "scrolled": true
   },
   "outputs": [
    {
     "name": "stdout",
     "output_type": "stream",
     "text": [
      "<class 'pandas.core.frame.DataFrame'>\n",
      "Index: 2096 entries, Avatar to American Hero\n",
      "Data columns (total 6 columns):\n",
      " #   Column             Non-Null Count  Dtype  \n",
      "---  ------             --------------  -----  \n",
      " 0   production_budget  2096 non-null   int64  \n",
      " 1   domestic_gross     2096 non-null   int64  \n",
      " 2   worldwide_gross    2096 non-null   int64  \n",
      " 3   worldwide_ROI      2096 non-null   float64\n",
      " 4   domestic_ROI       2096 non-null   float64\n",
      " 5   runtime_minutes    2096 non-null   float64\n",
      "dtypes: float64(3), int64(3)\n",
      "memory usage: 114.6+ KB\n"
     ]
    }
   ],
   "source": [
    "# Check again\n",
    "\n",
    "runtime_df.info()"
   ]
  },
  {
   "cell_type": "markdown",
   "metadata": {},
   "source": [
    "Similar to the method we used to create bins for the `production_budget` column, we will do the same for `worldwide_ROI`. This will allow us to zoom into the relationship between `runtime_minutes` and `worldwide_ROI`, so we can properly equip Microsoft with a runtime recommendation. "
   ]
  },
  {
   "cell_type": "code",
   "execution_count": 164,
   "metadata": {},
   "outputs": [
    {
     "name": "stdout",
     "output_type": "stream",
     "text": [
      "<class 'pandas.core.frame.DataFrame'>\n",
      "Index: 2096 entries, Avatar to American Hero\n",
      "Data columns (total 7 columns):\n",
      " #   Column             Non-Null Count  Dtype   \n",
      "---  ------             --------------  -----   \n",
      " 0   production_budget  2096 non-null   int64   \n",
      " 1   domestic_gross     2096 non-null   int64   \n",
      " 2   worldwide_gross    2096 non-null   int64   \n",
      " 3   worldwide_ROI      2096 non-null   float64 \n",
      " 4   domestic_ROI       2096 non-null   float64 \n",
      " 5   runtime_minutes    2096 non-null   float64 \n",
      " 6   ROI_bins           1572 non-null   category\n",
      "dtypes: category(1), float64(3), int64(3)\n",
      "memory usage: 116.9+ KB\n"
     ]
    }
   ],
   "source": [
    "# Create ROI bins like for budget\n",
    "\n",
    "# Create variable of pathway to 'worldwide_ROI' column \n",
    "W_ROI = runtime_df['worldwide_ROI']\n",
    "\n",
    "# Create variables for quantile distribution we will be using \n",
    "bottom = W_ROI.quantile(.25)\n",
    "middle = W_ROI.quantile(.5)\n",
    "top = W_ROI.quantile(.75)\n",
    "top_5 = W_ROI.quantile(.95)\n",
    "\n",
    "# Designate bin numbers and name labels \n",
    "bins = [bottom, middle, top, top_5, np.inf]\n",
    "names = ['Low', 'Middle', 'High', 'Top 5%']\n",
    "\n",
    "# Use 'pd.cut' to create new column 'ROI_bins'\n",
    "runtime_df['ROI_bins'] = pd.cut(runtime_df['worldwide_ROI'], bins, labels=names)\n",
    "\n",
    "# Preview that this worked\n",
    "runtime_df.info()"
   ]
  },
  {
   "cell_type": "markdown",
   "metadata": {},
   "source": [
    "#### Month Data Preparation "
   ]
  },
  {
   "cell_type": "markdown",
   "metadata": {},
   "source": [
    "We have our `df_tn` dataframe. We will evaluate the `release_month` by:\n",
    "\n",
    "* Which months are the highest quantity of films released?\n",
    "* Which months are the highest quantity of films released, of films in the top 10% ROI?\n",
    "* What is the average ROI by month?\n",
    "\n",
    "***\n",
    "\n",
    "To do this, we are going to:\n",
    "\n",
    "* Create a dataframe called `full_month_df` that counts the occurences of each month in our data\n",
    "* Create a dataframe called `top_months` that counts the occurences of each month in films in the top 10% ROI\n",
    "* Create a dataframe called `roi_by_month` that calculates the average ROI in films by month\n",
    "\n",
    "***"
   ]
  },
  {
   "cell_type": "markdown",
   "metadata": {},
   "source": [
    "Start with creating `full_month_df`, using `df_tn`, and adjusting the columns for readability. Group the dataframe by `releae_month` category so we can get the count of occurrences by month."
   ]
  },
  {
   "cell_type": "code",
   "execution_count": 165,
   "metadata": {},
   "outputs": [],
   "source": [
    "# Set index to 'release_month'\n",
    "month_df = df_tn.set_index('release_month')\n",
    "\n",
    "# Drop columns we do not need\n",
    "month_df = month_df.drop(columns = ['release_date', 'worldwide_net_profit'])"
   ]
  },
  {
   "cell_type": "code",
   "execution_count": 166,
   "metadata": {
    "scrolled": true
   },
   "outputs": [],
   "source": [
    "# Use '.groupby()' to accumulate 'release_month' counts by counting the 'worlwide_ROI' column \n",
    "\n",
    "# Create Series of this data \n",
    "month_count = month_df.groupby(['release_month']).worldwide_ROI.count()"
   ]
  },
  {
   "cell_type": "code",
   "execution_count": 167,
   "metadata": {},
   "outputs": [
    {
     "data": {
      "text/html": [
       "<div>\n",
       "<style scoped>\n",
       "    .dataframe tbody tr th:only-of-type {\n",
       "        vertical-align: middle;\n",
       "    }\n",
       "\n",
       "    .dataframe tbody tr th {\n",
       "        vertical-align: top;\n",
       "    }\n",
       "\n",
       "    .dataframe thead th {\n",
       "        text-align: right;\n",
       "    }\n",
       "</style>\n",
       "<table border=\"1\" class=\"dataframe\">\n",
       "  <thead>\n",
       "    <tr style=\"text-align: right;\">\n",
       "      <th></th>\n",
       "      <th>months</th>\n",
       "      <th>frequency</th>\n",
       "    </tr>\n",
       "  </thead>\n",
       "  <tbody>\n",
       "    <tr>\n",
       "      <th>0</th>\n",
       "      <td>April</td>\n",
       "      <td>433</td>\n",
       "    </tr>\n",
       "    <tr>\n",
       "      <th>1</th>\n",
       "      <td>August</td>\n",
       "      <td>473</td>\n",
       "    </tr>\n",
       "    <tr>\n",
       "      <th>2</th>\n",
       "      <td>December</td>\n",
       "      <td>621</td>\n",
       "    </tr>\n",
       "    <tr>\n",
       "      <th>3</th>\n",
       "      <td>February</td>\n",
       "      <td>370</td>\n",
       "    </tr>\n",
       "    <tr>\n",
       "      <th>4</th>\n",
       "      <td>January</td>\n",
       "      <td>328</td>\n",
       "    </tr>\n",
       "    <tr>\n",
       "      <th>5</th>\n",
       "      <td>July</td>\n",
       "      <td>424</td>\n",
       "    </tr>\n",
       "    <tr>\n",
       "      <th>6</th>\n",
       "      <td>June</td>\n",
       "      <td>459</td>\n",
       "    </tr>\n",
       "    <tr>\n",
       "      <th>7</th>\n",
       "      <td>March</td>\n",
       "      <td>440</td>\n",
       "    </tr>\n",
       "    <tr>\n",
       "      <th>8</th>\n",
       "      <td>May</td>\n",
       "      <td>393</td>\n",
       "    </tr>\n",
       "    <tr>\n",
       "      <th>9</th>\n",
       "      <td>November</td>\n",
       "      <td>466</td>\n",
       "    </tr>\n",
       "    <tr>\n",
       "      <th>10</th>\n",
       "      <td>October</td>\n",
       "      <td>542</td>\n",
       "    </tr>\n",
       "    <tr>\n",
       "      <th>11</th>\n",
       "      <td>September</td>\n",
       "      <td>466</td>\n",
       "    </tr>\n",
       "  </tbody>\n",
       "</table>\n",
       "</div>"
      ],
      "text/plain": [
       "       months  frequency\n",
       "0       April        433\n",
       "1      August        473\n",
       "2    December        621\n",
       "3    February        370\n",
       "4     January        328\n",
       "5        July        424\n",
       "6        June        459\n",
       "7       March        440\n",
       "8         May        393\n",
       "9    November        466\n",
       "10    October        542\n",
       "11  September        466"
      ]
     },
     "execution_count": 167,
     "metadata": {},
     "output_type": "execute_result"
    }
   ],
   "source": [
    "# Use 'month_count' to create dataframe from Series\n",
    "\n",
    "# Reset index\n",
    "full_month_df = month_count.reset_index()\n",
    "\n",
    "# Name columns\n",
    "full_month_df.columns = ['months', 'frequency']\n",
    "\n",
    "# Preview \n",
    "full_month_df"
   ]
  },
  {
   "cell_type": "markdown",
   "metadata": {},
   "source": [
    "Now we will use the same method to count the occurrences by month in the `top 10%` of our films `by ROI`"
   ]
  },
  {
   "cell_type": "code",
   "execution_count": 168,
   "metadata": {},
   "outputs": [],
   "source": [
    "# Create variable to store path to 'worldwide_ROI' column  \n",
    "m_roi = month_df['worldwide_ROI']\n",
    "\n",
    "# Create variable to hold value of the 90th percentile in the 'worldwide_ROI' column \n",
    "top_10p = m_roi.quantile(.9)\n",
    "\n",
    "# Create dataframe that only includes entries with ROI values above the 'top_10p' variable\n",
    "top_month_freq = month_df[m_roi > top_10p]"
   ]
  },
  {
   "cell_type": "code",
   "execution_count": 169,
   "metadata": {},
   "outputs": [],
   "source": [
    "# Create Series that counts the occurrences by month in 'top_month_freq'\n",
    "top_months = top_month_freq.groupby(['release_month']).worldwide_ROI.count()\n",
    "\n",
    "# Reset index\n",
    "top_months = top_months.reset_index()"
   ]
  },
  {
   "cell_type": "markdown",
   "metadata": {
    "scrolled": false
   },
   "source": [
    "We now have our second dataframe. To create the third, we will use `month_df` to again group by `release_month`. This time, instead of using `.count()` on the `worldwide_ROI` column, we will use `.mean()`."
   ]
  },
  {
   "cell_type": "code",
   "execution_count": 170,
   "metadata": {
    "scrolled": true
   },
   "outputs": [],
   "source": [
    "# Create Series with 'release_month' by 'average_ROI'\n",
    "roi_by_month = month_df.groupby(['release_month']).worldwide_ROI.mean()\n",
    "\n",
    "# Set index for dataframe\n",
    "roi_by_month = roi_by_month.reset_index()"
   ]
  },
  {
   "cell_type": "markdown",
   "metadata": {},
   "source": [
    "#### Studio Data Preparation "
   ]
  },
  {
   "cell_type": "markdown",
   "metadata": {},
   "source": [
    "We have our `bom_df` dataframe and `df_tn` dataframe. We will evaluate the `studio` data by:\n",
    "\n",
    "* Which studios have produced and/or distributed the most films?\n",
    "* Which studios have produced and/or distributed the most films that are in the top 10% of our data, by ROI?\n",
    "* Which studios have generated the highest average ROI, historically?\n",
    "\n",
    "***\n",
    "\n",
    "To do this, we are going to:\n",
    "\n",
    "* Merge `bom_df` and `df_tn` and clean the new dataframe\n",
    "* Create a dataframe called `studio_count_df` that counts the occurences of each studio in our data\n",
    "* Create a dataframe called `top_studio` that counts the occurences of each studio in films in the top 10% ROI\n",
    "* Create a dataframe called `roi_by_studio` that calculates the average ROI in films by studio\n",
    "\n",
    "***"
   ]
  },
  {
   "cell_type": "markdown",
   "metadata": {},
   "source": [
    "We start by creating and preparing the new dataframe that we will call `studios_df`"
   ]
  },
  {
   "cell_type": "code",
   "execution_count": 171,
   "metadata": {},
   "outputs": [
    {
     "data": {
      "text/html": [
       "<div>\n",
       "<style scoped>\n",
       "    .dataframe tbody tr th:only-of-type {\n",
       "        vertical-align: middle;\n",
       "    }\n",
       "\n",
       "    .dataframe tbody tr th {\n",
       "        vertical-align: top;\n",
       "    }\n",
       "\n",
       "    .dataframe thead th {\n",
       "        text-align: right;\n",
       "    }\n",
       "</style>\n",
       "<table border=\"1\" class=\"dataframe\">\n",
       "  <thead>\n",
       "    <tr style=\"text-align: right;\">\n",
       "      <th></th>\n",
       "      <th>release_date</th>\n",
       "      <th>production_budget</th>\n",
       "      <th>domestic_gross</th>\n",
       "      <th>worldwide_gross</th>\n",
       "      <th>worldwide_net_profit</th>\n",
       "      <th>domestic_net_profit</th>\n",
       "      <th>worldwide_ROI</th>\n",
       "      <th>domestic_ROI</th>\n",
       "      <th>release_month</th>\n",
       "      <th>studio</th>\n",
       "    </tr>\n",
       "    <tr>\n",
       "      <th>movie</th>\n",
       "      <th></th>\n",
       "      <th></th>\n",
       "      <th></th>\n",
       "      <th></th>\n",
       "      <th></th>\n",
       "      <th></th>\n",
       "      <th></th>\n",
       "      <th></th>\n",
       "      <th></th>\n",
       "      <th></th>\n",
       "    </tr>\n",
       "  </thead>\n",
       "  <tbody>\n",
       "    <tr>\n",
       "      <th>Pirates of the Caribbean: On Stranger Tides</th>\n",
       "      <td>2011-05-20</td>\n",
       "      <td>410600000</td>\n",
       "      <td>241063875</td>\n",
       "      <td>1045663875</td>\n",
       "      <td>635063875</td>\n",
       "      <td>-169536125</td>\n",
       "      <td>154.667286</td>\n",
       "      <td>-41.289850</td>\n",
       "      <td>May</td>\n",
       "      <td>Walt Disney</td>\n",
       "    </tr>\n",
       "    <tr>\n",
       "      <th>Avengers: Age of Ultron</th>\n",
       "      <td>2015-05-01</td>\n",
       "      <td>330600000</td>\n",
       "      <td>459005868</td>\n",
       "      <td>1403013963</td>\n",
       "      <td>1072413963</td>\n",
       "      <td>128405868</td>\n",
       "      <td>324.384139</td>\n",
       "      <td>38.840250</td>\n",
       "      <td>May</td>\n",
       "      <td>Walt Disney</td>\n",
       "    </tr>\n",
       "    <tr>\n",
       "      <th>Avengers: Infinity War</th>\n",
       "      <td>2018-04-27</td>\n",
       "      <td>300000000</td>\n",
       "      <td>678815482</td>\n",
       "      <td>2048134200</td>\n",
       "      <td>1748134200</td>\n",
       "      <td>378815482</td>\n",
       "      <td>582.711400</td>\n",
       "      <td>126.271827</td>\n",
       "      <td>April</td>\n",
       "      <td>Walt Disney</td>\n",
       "    </tr>\n",
       "    <tr>\n",
       "      <th>Justice League</th>\n",
       "      <td>2017-11-17</td>\n",
       "      <td>300000000</td>\n",
       "      <td>229024295</td>\n",
       "      <td>655945209</td>\n",
       "      <td>355945209</td>\n",
       "      <td>-70975705</td>\n",
       "      <td>118.648403</td>\n",
       "      <td>-23.658568</td>\n",
       "      <td>November</td>\n",
       "      <td>Warner Bros.</td>\n",
       "    </tr>\n",
       "    <tr>\n",
       "      <th>Spectre</th>\n",
       "      <td>2015-11-06</td>\n",
       "      <td>300000000</td>\n",
       "      <td>200074175</td>\n",
       "      <td>879620923</td>\n",
       "      <td>579620923</td>\n",
       "      <td>-99925825</td>\n",
       "      <td>193.206974</td>\n",
       "      <td>-33.308608</td>\n",
       "      <td>November</td>\n",
       "      <td>Sony</td>\n",
       "    </tr>\n",
       "  </tbody>\n",
       "</table>\n",
       "</div>"
      ],
      "text/plain": [
       "                                            release_date  production_budget  \\\n",
       "movie                                                                         \n",
       "Pirates of the Caribbean: On Stranger Tides   2011-05-20          410600000   \n",
       "Avengers: Age of Ultron                       2015-05-01          330600000   \n",
       "Avengers: Infinity War                        2018-04-27          300000000   \n",
       "Justice League                                2017-11-17          300000000   \n",
       "Spectre                                       2015-11-06          300000000   \n",
       "\n",
       "                                             domestic_gross  worldwide_gross  \\\n",
       "movie                                                                          \n",
       "Pirates of the Caribbean: On Stranger Tides       241063875       1045663875   \n",
       "Avengers: Age of Ultron                           459005868       1403013963   \n",
       "Avengers: Infinity War                            678815482       2048134200   \n",
       "Justice League                                    229024295        655945209   \n",
       "Spectre                                           200074175        879620923   \n",
       "\n",
       "                                             worldwide_net_profit  \\\n",
       "movie                                                               \n",
       "Pirates of the Caribbean: On Stranger Tides             635063875   \n",
       "Avengers: Age of Ultron                                1072413963   \n",
       "Avengers: Infinity War                                 1748134200   \n",
       "Justice League                                          355945209   \n",
       "Spectre                                                 579620923   \n",
       "\n",
       "                                             domestic_net_profit  \\\n",
       "movie                                                              \n",
       "Pirates of the Caribbean: On Stranger Tides           -169536125   \n",
       "Avengers: Age of Ultron                                128405868   \n",
       "Avengers: Infinity War                                 378815482   \n",
       "Justice League                                         -70975705   \n",
       "Spectre                                                -99925825   \n",
       "\n",
       "                                             worldwide_ROI  domestic_ROI  \\\n",
       "movie                                                                      \n",
       "Pirates of the Caribbean: On Stranger Tides     154.667286    -41.289850   \n",
       "Avengers: Age of Ultron                         324.384139     38.840250   \n",
       "Avengers: Infinity War                          582.711400    126.271827   \n",
       "Justice League                                  118.648403    -23.658568   \n",
       "Spectre                                         193.206974    -33.308608   \n",
       "\n",
       "                                            release_month        studio  \n",
       "movie                                                                    \n",
       "Pirates of the Caribbean: On Stranger Tides           May   Walt Disney  \n",
       "Avengers: Age of Ultron                               May   Walt Disney  \n",
       "Avengers: Infinity War                              April   Walt Disney  \n",
       "Justice League                                   November  Warner Bros.  \n",
       "Spectre                                          November          Sony  "
      ]
     },
     "execution_count": 171,
     "metadata": {},
     "output_type": "execute_result"
    }
   ],
   "source": [
    "# Use 'pd.merge()'' to merge on 'movie'\n",
    "studios_df = pd.merge(df_tn, bom_df, on = 'movie')\n",
    "\n",
    "# Preview data\n",
    "studios_df.head()"
   ]
  },
  {
   "cell_type": "code",
   "execution_count": 172,
   "metadata": {},
   "outputs": [],
   "source": [
    "# Drop unneeded columns\n",
    "\n",
    "studios_df = studios_df.drop(['release_date', 'worldwide_net_profit', 'domestic_net_profit'], axis=1)"
   ]
  },
  {
   "cell_type": "code",
   "execution_count": 173,
   "metadata": {},
   "outputs": [],
   "source": [
    "# Set index to 'studio'\n",
    "\n",
    "studios_df = studios_df.set_index('studio')"
   ]
  },
  {
   "cell_type": "markdown",
   "metadata": {},
   "source": [
    "We will use the same method to create 3 dataframes as we just did with the `release_month` data. Since we have many studios, but only had 12 months, we will cut off our data after the `10` most frequently appearing studios."
   ]
  },
  {
   "cell_type": "code",
   "execution_count": 174,
   "metadata": {},
   "outputs": [],
   "source": [
    "# Create 'studio_count_df'\n",
    "\n",
    "# Group 'studios_df' by 'studio' column and count occurrences\n",
    "studio_count = studios_df.groupby(['studio']).worldwide_ROI.count()\n",
    "\n",
    "# Reset index\n",
    "studio_count_df = studio_count.reset_index()\n",
    "\n",
    "# Name columns\n",
    "studio_count_df.columns = ['studio', 'frequency']\n",
    "\n",
    "# Sort studio names by count frequency in descending order \n",
    "studio_count_df = studio_count_df.sort_values(by='frequency', ascending = False)\n",
    "\n",
    "# Only include top 10 studios\n",
    "studio_count_df = studio_count_df[:10]"
   ]
  },
  {
   "cell_type": "markdown",
   "metadata": {},
   "source": [
    "Onto `top_studio`. We will again only include the top 10 studios, within the top 10% ROI data."
   ]
  },
  {
   "cell_type": "code",
   "execution_count": 175,
   "metadata": {},
   "outputs": [],
   "source": [
    "# Create direct path to 'worldwide_ROI' column\n",
    "studio_roi = studios_df['worldwide_ROI']\n",
    "\n",
    "# Create variable to hold the cutoff percentile value\n",
    "top_10_studio = studio_roi.quantile(.9)\n",
    "\n",
    "# Create dataframe only including entries where 'worldwide_ROI' is greater than our top_10_studio value\n",
    "top_studio = studios_df[studio_roi > top_10_studio]\n",
    "\n",
    "# Create Series that counts each studio occurrence\n",
    "top_studio = top_studio.groupby(['studio']).worldwide_ROI.count()\n",
    "\n",
    "# Reset index to create dataframe\n",
    "top_studio = top_studio.reset_index()\n",
    "\n",
    "# Sort 'worldwide_ROI' column in descending order\n",
    "top_studio = top_studio.sort_values(by='worldwide_ROI', ascending = False)\n",
    "\n",
    "# Only include top 10 studios\n",
    "top_studio = top_studio[:10]"
   ]
  },
  {
   "cell_type": "markdown",
   "metadata": {},
   "source": [
    "Finally, we will create a dataframe so we can plot studio data by ROI data. This one will be called `roi_by_studio`."
   ]
  },
  {
   "cell_type": "code",
   "execution_count": 176,
   "metadata": {},
   "outputs": [],
   "source": [
    "# Group 'studios_df' by 'studio' and calculate average ROI per studio\n",
    "roi_by_studio = studios_df.groupby(['studio']).worldwide_ROI.mean()\n",
    "\n",
    "# Reset dataframe index\n",
    "roi_by_studio = roi_by_studio.reset_index()\n",
    "\n",
    "# Sort 'worldwide_ROI' column in descending order\n",
    "roi_by_studio = roi_by_studio.sort_values(by='worldwide_ROI', ascending = False)\n",
    "\n",
    "# Only include top 10 studios\n",
    "roi_by_studio = roi_by_studio[:10]"
   ]
  },
  {
   "cell_type": "markdown",
   "metadata": {},
   "source": [
    "Now we can move onto `Data Modeling` before providing Microsoft with our recommendations."
   ]
  },
  {
   "cell_type": "markdown",
   "metadata": {},
   "source": [
    "## Data Modeling\n",
    "\n",
    "All of our data is now sufficiently cleaned, prepared, and ready for modeling. \n",
    "***\n",
    "I will separate the models by question, and thus by recommendation:\n",
    "\n",
    "* Question One\n",
    "    * Evaluate `Personnel` using `horizontal bar plots` per group of people by frequency and ROI\n",
    "* Question Two\n",
    "    * Evaluate `Budget` using `scatterplots`, `histograms`, `box and whisker plots`, and `bar plots`\n",
    "* Question Three\n",
    "    * Evaluate `Release Month` using `bar plots`\n",
    "    * Evaluate `Runtime` using `scatterplots`, `histograms`, and `box and whisker plots`\n",
    "    * Evaluate `Production Studio` using `bar plots`\n",
    "***"
   ]
  },
  {
   "cell_type": "markdown",
   "metadata": {},
   "source": [
    "## Question One\n",
    "### Who's involvement in films will help Microsoft generate the highest ROI?\n"
   ]
  },
  {
   "cell_type": "markdown",
   "metadata": {},
   "source": [
    "#### Which actors from our data have been in the most movies? How does that compare to those in films in the top 25% ROI?"
   ]
  },
  {
   "cell_type": "code",
   "execution_count": 177,
   "metadata": {},
   "outputs": [
    {
     "data": {
      "image/png": "[encoded data removed]",
      "text/plain": [
       "<Figure size 1152x504 with 2 Axes>"
      ]
     },
     "metadata": {},
     "output_type": "display_data"
    }
   ],
   "source": [
    "# Plot actor frequency and actor frequency in top ROI next to each other using subplots \n",
    "\n",
    "# Apply the default theme\n",
    "sns.set_style(\"white\")\n",
    "\n",
    "# Create plot, with 1 row, 2 columns\n",
    "fig, (ax1,ax2) = plt.subplots(1,2, figsize=(16,7)) \n",
    "\n",
    "# Specify axes, data, orientation, which plot is which, and color\n",
    "sns.barplot(x = 'frequency', y = 'actors', data = full_actor_df, orient = 'h', ax = ax1, palette='husl')\n",
    "sns.barplot(x = 'frequency', y = 'actors', data = t25_actor_df, orient = 'h', ax = ax2, palette = 'husl')\n",
    "\n",
    "# Improve layout \n",
    "plt.tight_layout()\n",
    "\n",
    "# Add a legend and informative axis label\n",
    "ax1.set(xlabel=\"Movie Count\", ylabel = \"Actor Name\", \n",
    "       title = \"Actor Frequency in All Films\")\n",
    "\n",
    "ax2.set(xlabel=\"Movie Count\", ylabel = \"Actor Name\", \n",
    "       title = \"Actor Frequency in Films with Top 25% ROI\");"
   ]
  },
  {
   "cell_type": "markdown",
   "metadata": {},
   "source": [
    "These plots show us that `Mark Wahlberg` appears the most frequently in films in our dataset, with `18 films`. The plot on the right shows us that in films with the top 25% ROI, `Dwayne Johnson` and `Jennifer Lawrence` appear the most often, with `9 films`, closely followed by `Robert Downey Jr.`, `Channing Tatum`, `Anne Hathaway`, `Kristen Wiig`, and `Mark Ruffalo`, `all at 7`. Later, we will discuss culture and the impact of time, but is it clear that all of the actors listed in our two plots have had incredibly successful careers thus far, and have contributed to the success and profitability of the films they have appeared in."
   ]
  },
  {
   "cell_type": "markdown",
   "metadata": {},
   "source": [
    "#### Which actors generate the highest ROI? How does that compare to those in films in the top 25% ROI?"
   ]
  },
  {
   "cell_type": "code",
   "execution_count": 178,
   "metadata": {},
   "outputs": [
    {
     "data": {
      "image/png": "[encoded data removed]",
      "text/plain": [
       "<Figure size 1152x504 with 2 Axes>"
      ]
     },
     "metadata": {},
     "output_type": "display_data"
    }
   ],
   "source": [
    "# Plot average actor ROI overall and average actor ROI in top ROI next to each other using subplots \n",
    "\n",
    "# Apply the default theme\n",
    "sns.set_style(\"white\")\n",
    "\n",
    "# Create plot, with 1 row, 2 columns\n",
    "fig, (ax1,ax2) = plt.subplots(1,2, figsize=(16,7)) \n",
    "\n",
    "# Specify axes, data, orientation, which plot is which, and color\n",
    "sns.barplot(x = 'average_ROI', y = 'name', data = df_actor_ROI, orient = 'h', ax = ax1, palette = 'Greens_r')\n",
    "sns.barplot(x = 'average_ROI', y = 'name', data = df_top_actors, orient = 'h', ax = ax2, palette = 'Greens_r')\n",
    "\n",
    "# Improve layout \n",
    "plt.tight_layout()\n",
    "\n",
    "# Add a legend and informative axis label\n",
    "ax1.set(xlabel=\"Average_ROI (%)\", ylabel = \"Actor Name\", \n",
    "       title = \"Average ROI by Actor in All Films\")\n",
    "\n",
    "ax2.set(xlabel=\"Average_ROI (%)\", ylabel = \"Actor Name\", \n",
    "       title = \"Average ROI by Actor in Films with Top 25% ROI\");"
   ]
  },
  {
   "cell_type": "markdown",
   "metadata": {},
   "source": [
    "These plots are valuable as we use ROI, our measure of success, to quantify the actors and rank them according to our ROI metric. Both of these plots tell us which individual actors have generated the highest return for the films that they have appeared in. `Jennifer Lawrence`, `Channing Tatum` and `Dwayne Johnson` appear in both plots. Although the plot on the right is filtered by just the top 25% ROI, the plot on the left may be even more valuable as it tells us that these actors reign supreme in comparison to their counterparts according to ROI, even when you include films of theirs that may have done poorly. For instance, `Jennifer Lawrence` has generated about `704% return` on films in the top 25% ROI, but when you factor in her poorer performing films, her average ROI still exceeds 400% return, with `464% return`."
   ]
  },
  {
   "cell_type": "markdown",
   "metadata": {},
   "source": [
    "#### Which directors from our data have been in the most movies? How does that compare to those in films in the top 25% ROI?"
   ]
  },
  {
   "cell_type": "code",
   "execution_count": 179,
   "metadata": {},
   "outputs": [
    {
     "data": {
      "image/png": "[encoded data removed]",
      "text/plain": [
       "<Figure size 1152x504 with 2 Axes>"
      ]
     },
     "metadata": {},
     "output_type": "display_data"
    }
   ],
   "source": [
    "# Plot director frequency and director frequency in top ROI next to each other using subplots \n",
    "\n",
    "# Apply the default theme\n",
    "sns.set_style(\"white\")\n",
    "\n",
    "# Create plot with 1 row, 2 columns\n",
    "fig, (ax1,ax2) = plt.subplots(1,2, figsize=(16,7)) \n",
    "\n",
    "# Specify axes, data, orientation, which plot is which, and color\n",
    "sns.barplot(x = 'frequency', y = 'directors', data = full_director_df, orient = 'h', ax = ax1, palette='rocket')\n",
    "sns.barplot(x = 'frequency', y = 'directors', data = t25_director_df, orient = 'h', ax = ax2, palette='rocket')\n",
    "\n",
    "# Improve layout \n",
    "plt.tight_layout()\n",
    "\n",
    "# Add a legend and informative axis label\n",
    "ax1.set(xlabel=\"Movie Count\", ylabel = \"Director Name\", \n",
    "       title = \"Director Frequency in All Films\")\n",
    "\n",
    "ax2.set(xlabel=\"Movie Count\", ylabel = \"Director Name\", \n",
    "       title = \"Director Frequency in Films with Top 25% ROI\");"
   ]
  },
  {
   "cell_type": "markdown",
   "metadata": {},
   "source": [
    "These plots tell us that out of all of the films in our dataset, `Steven Spielberg` has directed the most films, with 8. Looking at only films in the top 25% ROI, we see that `Pierre Coffin`, `Steven Spielberg`, `James Wan`, `Tim Story`, and `Paul Feig` have all directed 4 films."
   ]
  },
  {
   "cell_type": "markdown",
   "metadata": {},
   "source": [
    "#### Which directors generate the highest ROI? How does that compare to those in films in the top 25% ROI?"
   ]
  },
  {
   "cell_type": "code",
   "execution_count": 180,
   "metadata": {
    "scrolled": false
   },
   "outputs": [
    {
     "data": {
      "image/png": "[encoded data removed]",
      "text/plain": [
       "<Figure size 1152x504 with 2 Axes>"
      ]
     },
     "metadata": {},
     "output_type": "display_data"
    }
   ],
   "source": [
    "# Plot average director ROI overall and average director ROI in top ROI next to each other using subplots \n",
    "\n",
    "# Apply the default theme\n",
    "sns.set_style(\"white\")\n",
    "\n",
    "# Create figure with 1 row, 2 columns\n",
    "fig, (ax1,ax2) = plt.subplots(1,2, figsize=(16,7)) \n",
    "\n",
    "# Specify axes, data, orientation, which plot is which, and palette \n",
    "sns.barplot(x = 'average_ROI', y = 'name', data = df_director_ROI, orient = 'h', ax = ax1, palette = 'Oranges_r')\n",
    "sns.barplot(x = 'average_ROI', y = 'name', data = df_top_directors, orient = 'h', ax = ax2, palette = 'Oranges_r')\n",
    "\n",
    "# Improve layout \n",
    "plt.tight_layout()\n",
    "\n",
    "# Add a legend and informative axis label\n",
    "ax1.set(xlabel=\"Average_ROI (%)\", ylabel = \"Director Name\", \n",
    "       title = \"Average ROI by Director in All Films\")\n",
    "\n",
    "ax2.set(xlabel=\"Average_ROI (%)\", ylabel = \"Director Name\", \n",
    "       title = \"Average ROI by Director in Films with Top 25% ROI\");"
   ]
  },
  {
   "cell_type": "markdown",
   "metadata": {},
   "source": [
    "The plot on the left tells us that `Steven Soderbergh` has generated the highest average ROI out of all directors, in the films he has directors, with a return of `591%`. That being said, we see that he does not appear in the plot on the right, which only shows those films in the top 25% of all ROI. Instead, `James Wan` takes over this category with over `2,341% return`. We can see this is an outlier, and if anything may signal an inconsistent director as `James Wan` does not rank in the top 10 ranked directors by ROI for all films, and may also have directed films with extreme losses. Alternatively, we see directors like `Tim Story`, and `Steven Spielberg` who appear in both lists, indicating both consistency and success. "
   ]
  },
  {
   "cell_type": "markdown",
   "metadata": {},
   "source": [
    "#### Which writers from our data have been in the most movies? How does that compare to those in films in the top 25% ROI?"
   ]
  },
  {
   "cell_type": "code",
   "execution_count": 181,
   "metadata": {},
   "outputs": [
    {
     "data": {
      "image/png": "[encoded data removed]",
      "text/plain": [
       "<Figure size 1152x504 with 2 Axes>"
      ]
     },
     "metadata": {},
     "output_type": "display_data"
    }
   ],
   "source": [
    "# Plot writer frequency and writer frequency in top ROI next to each other using subplots \n",
    "\n",
    "# Apply the default theme\n",
    "sns.set_style(\"white\")\n",
    "\n",
    "# Create figure with 1 row, 2 columns\n",
    "fig, (ax1,ax2) = plt.subplots(1,2, figsize=(16,7)) \n",
    "\n",
    "# Specify axes, data, orientation, which plot is which, and palette\n",
    "sns.barplot(x = 'frequency', y = 'writers', data = full_writer_df, orient = 'h', ax = ax1, palette='mako')\n",
    "sns.barplot(x = 'frequency', y = 'writers', data = t25_writer_df, orient = 'h', ax = ax2, palette='mako')\n",
    "\n",
    "# Improve layout \n",
    "plt.tight_layout()\n",
    "\n",
    "# Add a legend and informative axis label\n",
    "ax1.set(xlabel=\"Movie Count\", ylabel = \"Writer Name\", \n",
    "       title = \"Writer Frequency in All Films\")\n",
    "\n",
    "ax2.set(xlabel=\"Movie Count\", ylabel = \"Writer Name\", \n",
    "       title = \"Writer Frequency in Films with Top 25% ROI\");"
   ]
  },
  {
   "cell_type": "markdown",
   "metadata": {},
   "source": [
    "We see that out of all of our films, `Jack Kirby` has written the most with 20 films, followed closely behind by `Stan Lee` with 19 films. In films consisting of only the top 25% ROI, `Jack Kirby` leads the way again with 11 films, followed again by `Stan Lee` with 10 films."
   ]
  },
  {
   "cell_type": "markdown",
   "metadata": {},
   "source": [
    "#### Which writers generate the highest ROI? How does that compare to those in films in the top 25% ROI?"
   ]
  },
  {
   "cell_type": "code",
   "execution_count": 182,
   "metadata": {},
   "outputs": [
    {
     "data": {
      "image/png": "[encoded data removed]",
      "text/plain": [
       "<Figure size 1152x504 with 2 Axes>"
      ]
     },
     "metadata": {},
     "output_type": "display_data"
    }
   ],
   "source": [
    "# Plot average writer ROI overall and average writer ROI in top ROI next to each other using subplots \n",
    "\n",
    "# Apply the default theme\n",
    "sns.set_style(\"white\")\n",
    "\n",
    "# Create figure with 1 row, 2 columns\n",
    "fig, (ax1,ax2) = plt.subplots(1,2, figsize=(16,7)) \n",
    "\n",
    "# Specify axes, data, orientation, which plot is which, and palette\n",
    "sns.barplot(x = 'average_ROI', y = 'name', data = df_writer_ROI, orient = 'h', ax = ax1, palette = 'YlOrBr')\n",
    "sns.barplot(x = 'average_ROI', y = 'name', data = df_top_writers, orient = 'h', ax = ax2, palette = 'YlOrBr')\n",
    "\n",
    "# Improve layout \n",
    "plt.tight_layout()\n",
    "\n",
    "# Add a legend and informative axis label\n",
    "ax1.set(xlabel=\"Average_ROI (%)\", ylabel = \"Writer Name\", \n",
    "       title = \"Average ROI by Writer in All Films\")\n",
    "\n",
    "ax2.set(xlabel=\"Average_ROI (%)\", ylabel = \"Writer Name\", \n",
    "       title = \"Average ROI by Writer in Films with Top 25% ROI\");"
   ]
  },
  {
   "cell_type": "markdown",
   "metadata": {},
   "source": [
    "`Guillermo del Toro` is the writer with the highest overall average ROI at `696% return`. This is interesting since he does not appear in the plot on the right, showing only the highest returns. This may suggest that he has written many successful movies that have surged him to the top, but none of those individual films saw success at the level that we have filtered our ROI by. Seeing `Larry Lieber`, `Stan Lee`, and `Jack Kirby` in both plots is a good indication of success. Finally, we again see the outliers in our top 25% ROI, where `Oren Peli`, `Christopher Landon`, and `M. Night Shyamalan` all generate excessive returns, skewing our data."
   ]
  },
  {
   "cell_type": "markdown",
   "metadata": {},
   "source": [
    "## Question Two\n",
    "### How Are Budget and Worldwide Gross Related?"
   ]
  },
  {
   "cell_type": "markdown",
   "metadata": {},
   "source": [
    "#### Is There a Relationship Between `production_ budget` and `worldwide_gross`?"
   ]
  },
  {
   "cell_type": "code",
   "execution_count": 183,
   "metadata": {},
   "outputs": [
    {
     "data": {
      "image/png": "[encoded data removed]",
      "text/plain": [
       "<Figure size 1152x504 with 1 Axes>"
      ]
     },
     "metadata": {},
     "output_type": "display_data"
    }
   ],
   "source": [
    "# Let's look at budget versus worldwide gross on a scatterplot\n",
    "\n",
    "# Apply the default theme\n",
    "sns.set_style(\"white\")\n",
    "\n",
    "# Control by millions of USD\n",
    "wgross = top_budget['worldwide_gross']/1000000\n",
    "pbud = top_budget['production_budget']/1000000\n",
    "\n",
    "# Create plot\n",
    "fig, ax = plt.subplots(figsize=(16,7)) \n",
    "\n",
    "# Specify axes and data\n",
    "sns.scatterplot(x = wgross, y = pbud, data = top_budget)\n",
    "\n",
    "# Improve layout \n",
    "plt.tight_layout()\n",
    "\n",
    "# Add a legend and informative axis label\n",
    "ax.set(xlabel=\"Worldwide Gross (in Millions USD)\", ylabel = \"Production Budget (in Millions USD)\", \n",
    "       title = \"Budget versus Worldwide Grossing in Top 500 Grossing Films\");"
   ]
  },
  {
   "cell_type": "markdown",
   "metadata": {},
   "source": [
    "Just looking at the scatterplot shows us that we have a lot of data points clustered to the left of the plot, with a low worldwide gross and a range of budgets. In general, as the worldwide gross increases, the budget looks like it increases as well, in a positive relationship. "
   ]
  },
  {
   "cell_type": "code",
   "execution_count": 184,
   "metadata": {},
   "outputs": [
    {
     "data": {
      "text/html": [
       "<div>\n",
       "<style scoped>\n",
       "    .dataframe tbody tr th:only-of-type {\n",
       "        vertical-align: middle;\n",
       "    }\n",
       "\n",
       "    .dataframe tbody tr th {\n",
       "        vertical-align: top;\n",
       "    }\n",
       "\n",
       "    .dataframe thead th {\n",
       "        text-align: right;\n",
       "    }\n",
       "</style>\n",
       "<table border=\"1\" class=\"dataframe\">\n",
       "  <thead>\n",
       "    <tr style=\"text-align: right;\">\n",
       "      <th></th>\n",
       "      <th>production_budget</th>\n",
       "      <th>domestic_gross</th>\n",
       "      <th>worldwide_gross</th>\n",
       "      <th>worldwide_net_profit</th>\n",
       "      <th>domestic_net_profit</th>\n",
       "      <th>worldwide_ROI</th>\n",
       "      <th>domestic_ROI</th>\n",
       "    </tr>\n",
       "  </thead>\n",
       "  <tbody>\n",
       "    <tr>\n",
       "      <th>production_budget</th>\n",
       "      <td>1.000000</td>\n",
       "      <td>0.351181</td>\n",
       "      <td>0.528726</td>\n",
       "      <td>0.334221</td>\n",
       "      <td>-0.254868</td>\n",
       "      <td>-0.496339</td>\n",
       "      <td>-0.460537</td>\n",
       "    </tr>\n",
       "    <tr>\n",
       "      <th>domestic_gross</th>\n",
       "      <td>0.351181</td>\n",
       "      <td>1.000000</td>\n",
       "      <td>0.854053</td>\n",
       "      <td>0.859531</td>\n",
       "      <td>0.815882</td>\n",
       "      <td>0.112457</td>\n",
       "      <td>0.161328</td>\n",
       "    </tr>\n",
       "    <tr>\n",
       "      <th>worldwide_gross</th>\n",
       "      <td>0.528726</td>\n",
       "      <td>0.854053</td>\n",
       "      <td>1.000000</td>\n",
       "      <td>0.976694</td>\n",
       "      <td>0.555511</td>\n",
       "      <td>0.004719</td>\n",
       "      <td>-0.032423</td>\n",
       "    </tr>\n",
       "    <tr>\n",
       "      <th>worldwide_net_profit</th>\n",
       "      <td>0.334221</td>\n",
       "      <td>0.859531</td>\n",
       "      <td>0.976694</td>\n",
       "      <td>1.000000</td>\n",
       "      <td>0.681285</td>\n",
       "      <td>0.130751</td>\n",
       "      <td>0.080456</td>\n",
       "    </tr>\n",
       "    <tr>\n",
       "      <th>domestic_net_profit</th>\n",
       "      <td>-0.254868</td>\n",
       "      <td>0.815882</td>\n",
       "      <td>0.555511</td>\n",
       "      <td>0.681285</td>\n",
       "      <td>1.000000</td>\n",
       "      <td>0.422656</td>\n",
       "      <td>0.451017</td>\n",
       "    </tr>\n",
       "    <tr>\n",
       "      <th>worldwide_ROI</th>\n",
       "      <td>-0.496339</td>\n",
       "      <td>0.112457</td>\n",
       "      <td>0.004719</td>\n",
       "      <td>0.130751</td>\n",
       "      <td>0.422656</td>\n",
       "      <td>1.000000</td>\n",
       "      <td>0.949989</td>\n",
       "    </tr>\n",
       "    <tr>\n",
       "      <th>domestic_ROI</th>\n",
       "      <td>-0.460537</td>\n",
       "      <td>0.161328</td>\n",
       "      <td>-0.032423</td>\n",
       "      <td>0.080456</td>\n",
       "      <td>0.451017</td>\n",
       "      <td>0.949989</td>\n",
       "      <td>1.000000</td>\n",
       "    </tr>\n",
       "  </tbody>\n",
       "</table>\n",
       "</div>"
      ],
      "text/plain": [
       "                      production_budget  domestic_gross  worldwide_gross  \\\n",
       "production_budget              1.000000        0.351181         0.528726   \n",
       "domestic_gross                 0.351181        1.000000         0.854053   \n",
       "worldwide_gross                0.528726        0.854053         1.000000   \n",
       "worldwide_net_profit           0.334221        0.859531         0.976694   \n",
       "domestic_net_profit           -0.254868        0.815882         0.555511   \n",
       "worldwide_ROI                 -0.496339        0.112457         0.004719   \n",
       "domestic_ROI                  -0.460537        0.161328        -0.032423   \n",
       "\n",
       "                      worldwide_net_profit  domestic_net_profit  \\\n",
       "production_budget                 0.334221            -0.254868   \n",
       "domestic_gross                    0.859531             0.815882   \n",
       "worldwide_gross                   0.976694             0.555511   \n",
       "worldwide_net_profit              1.000000             0.681285   \n",
       "domestic_net_profit               0.681285             1.000000   \n",
       "worldwide_ROI                     0.130751             0.422656   \n",
       "domestic_ROI                      0.080456             0.451017   \n",
       "\n",
       "                      worldwide_ROI  domestic_ROI  \n",
       "production_budget         -0.496339     -0.460537  \n",
       "domestic_gross             0.112457      0.161328  \n",
       "worldwide_gross            0.004719     -0.032423  \n",
       "worldwide_net_profit       0.130751      0.080456  \n",
       "domestic_net_profit        0.422656      0.451017  \n",
       "worldwide_ROI              1.000000      0.949989  \n",
       "domestic_ROI               0.949989      1.000000  "
      ]
     },
     "execution_count": 184,
     "metadata": {},
     "output_type": "execute_result"
    }
   ],
   "source": [
    "# Look at correlation numbers \n",
    "\n",
    "top_budget.corr()"
   ]
  },
  {
   "cell_type": "markdown",
   "metadata": {},
   "source": [
    "The correlation coefficient between `production_budget` and `worldwide_gross` is `.53`. This aligns with our scatterplot above where there is a positive relationship between the two variables, but it is not jaw dropping. First we will look at the budget distribution of the highest vs. lowest grossing films. Then we will turn our budget column into a categorical variable to look at which budget ranges may help Microsoft gain the most potential revenue."
   ]
  },
  {
   "cell_type": "markdown",
   "metadata": {},
   "source": [
    "#### What do the Distributions of Top 500 Grossing and Bottom 500 Grossing Films Look Like?"
   ]
  },
  {
   "cell_type": "code",
   "execution_count": 185,
   "metadata": {
    "scrolled": false
   },
   "outputs": [
    {
     "data": {
      "image/png": "[encoded data removed]",
      "text/plain": [
       "<Figure size 1152x504 with 2 Axes>"
      ]
     },
     "metadata": {},
     "output_type": "display_data"
    }
   ],
   "source": [
    "# Look at histogram for the two budget categories\n",
    "\n",
    "# Create figure with 1 row, 2 columns\n",
    "fig, (ax1,ax2) = plt.subplots(1,2, figsize=(16,7))\n",
    "\n",
    "# Control by millions of USD\n",
    "tgross = top_budget['production_budget']/1000000\n",
    "bgross = bottom_budget['production_budget']/1000000\n",
    "\n",
    "# Specify axes, data, which plot is which, and bins\n",
    "sns.histplot(x = tgross, ax = ax1, bins=10)\n",
    "sns.histplot(x = bgross, ax = ax2, bins=10)\n",
    "\n",
    "# Improve layout \n",
    "plt.tight_layout()\n",
    "\n",
    "# Add a legend and informative axis labels\n",
    "ax1.set(xlabel=\"Production_Budget\", \n",
    "       title = \"High Grossing Budget Distribution\")\n",
    "\n",
    "ax2.set(xlabel=\"Production_Budget\", \n",
    "       title = \"Low Grossing Budget Distribution\");"
   ]
  },
  {
   "cell_type": "markdown",
   "metadata": {},
   "source": [
    "The scale of the x-axis inthe two histograms vary significantly. That being said, it is even more apparent that the distribution of of budget for the 500 highest grossing films follows more of a normal pattern than that of the 500 lowest grossing films, which is skewed significantly to the right. Both groups of data have significant outliers. For the high grossing films, we see that the majority of budgets sit in the 50-200 million range, whereas that for the low grossing films its between 0-5 million. With that being said, we will dig deeper into the top 500 grossing films."
   ]
  },
  {
   "cell_type": "markdown",
   "metadata": {},
   "source": [
    "We already created bins for our budget range so let's look at a box and whisker plot to look at the distribution."
   ]
  },
  {
   "cell_type": "markdown",
   "metadata": {},
   "source": [
    "#### What is the distribution between `production_budget` , by bin, and `worldwide_gross`?"
   ]
  },
  {
   "cell_type": "code",
   "execution_count": 186,
   "metadata": {
    "scrolled": false
   },
   "outputs": [
    {
     "data": {
      "image/png": "[encoded data removed]",
      "text/plain": [
       "<Figure size 720x576 with 1 Axes>"
      ]
     },
     "metadata": {},
     "output_type": "display_data"
    }
   ],
   "source": [
    "# Create plot\n",
    "fig, ax = plt.subplots(figsize=(10, 8))\n",
    "\n",
    "# Control by millions of USD\n",
    "wgross = top_budget['worldwide_gross']/1000000\n",
    "\n",
    "# Specify axes, data, and palette\n",
    "sns.boxplot(x='budget_bins', y=wgross, data = top_budget, palette=\"autumn\")\n",
    "                                  \n",
    "# Improve layout \n",
    "plt.tight_layout()\n",
    "\n",
    "# Add a legend and informative axis label\n",
    "ax.set(xlabel=\"Budget Categories\", ylabel= 'Worldwide Grossing (in Millions USD)',\n",
    "       title = \"Highest Grossing Films by Budget Distribution\");\n",
    " "
   ]
  },
  {
   "cell_type": "markdown",
   "metadata": {},
   "source": [
    "Before analyzing, let's look at the exact same plot without outliers."
   ]
  },
  {
   "cell_type": "code",
   "execution_count": 187,
   "metadata": {
    "scrolled": false
   },
   "outputs": [
    {
     "data": {
      "image/png": "[encoded data removed]",
      "text/plain": [
       "<Figure size 720x504 with 1 Axes>"
      ]
     },
     "metadata": {},
     "output_type": "display_data"
    }
   ],
   "source": [
    "# Create plot\n",
    "fig, ax = plt.subplots(figsize=(10, 7))\n",
    "\n",
    "# Control by millions of USD\n",
    "wgross = top_budget['worldwide_gross']/1000000\n",
    "\n",
    "# 'showfliers = False' will remove outliers\n",
    "sns.boxplot(x='budget_bins', y=wgross, data = top_budget, palette=\"terrain\", showfliers = False)\n",
    "                                  \n",
    "# Improve layout \n",
    "plt.tight_layout()\n",
    "\n",
    "# Add a legend and informative axis label\n",
    "ax.set(xlabel=\"Budget Categories\", ylabel= 'Worldwide Grossing (in Millions USD)',\n",
    "       title = \"Highest Grossing Films by Budget Distribution\");"
   ]
  },
  {
   "cell_type": "markdown",
   "metadata": {},
   "source": [
    "It's interesting to see that the `Top 5%` of `production_budget` values has the fewest films, but the highest median, at about `267.5 million`. The entire interquartile range is shifted above that of our `Low` and `Middle` bins. This indicates that once you hit a particular budget point, the grossing compounds. The separation looks to take place around that point near `267.5 million`. That being said, our `Low`, `Middle`, and `High` bins do not have the same dramatic differences that we see for the `Top 5%`. In fact, we may be seeing that the benefits of spending more money on budget prior to the `median` value for our `Top 5` bin may not impact grossing significantly at all. This would be a worthwhile insight to share with Microsoft. We will glance at this below."
   ]
  },
  {
   "cell_type": "code",
   "execution_count": 188,
   "metadata": {},
   "outputs": [
    {
     "data": {
      "text/html": [
       "<div>\n",
       "<style scoped>\n",
       "    .dataframe tbody tr th:only-of-type {\n",
       "        vertical-align: middle;\n",
       "    }\n",
       "\n",
       "    .dataframe tbody tr th {\n",
       "        vertical-align: top;\n",
       "    }\n",
       "\n",
       "    .dataframe thead th {\n",
       "        text-align: right;\n",
       "    }\n",
       "</style>\n",
       "<table border=\"1\" class=\"dataframe\">\n",
       "  <thead>\n",
       "    <tr style=\"text-align: right;\">\n",
       "      <th></th>\n",
       "      <th>count</th>\n",
       "      <th>mean</th>\n",
       "      <th>std</th>\n",
       "      <th>min</th>\n",
       "      <th>25%</th>\n",
       "      <th>50%</th>\n",
       "      <th>75%</th>\n",
       "      <th>max</th>\n",
       "    </tr>\n",
       "    <tr>\n",
       "      <th>budget_bins</th>\n",
       "      <th></th>\n",
       "      <th></th>\n",
       "      <th></th>\n",
       "      <th></th>\n",
       "      <th></th>\n",
       "      <th></th>\n",
       "      <th></th>\n",
       "      <th></th>\n",
       "    </tr>\n",
       "  </thead>\n",
       "  <tbody>\n",
       "    <tr>\n",
       "      <th>Low</th>\n",
       "      <td>126.00000</td>\n",
       "      <td>471246241.38095</td>\n",
       "      <td>209722262.67235</td>\n",
       "      <td>276014965.00000</td>\n",
       "      <td>328938768.00000</td>\n",
       "      <td>376943790.00000</td>\n",
       "      <td>532681270.25000</td>\n",
       "      <td>1160336173.00000</td>\n",
       "    </tr>\n",
       "    <tr>\n",
       "      <th>Middle</th>\n",
       "      <td>125.00000</td>\n",
       "      <td>544765613.80000</td>\n",
       "      <td>228249860.93743</td>\n",
       "      <td>280355920.00000</td>\n",
       "      <td>370098020.00000</td>\n",
       "      <td>490875846.00000</td>\n",
       "      <td>644602516.00000</td>\n",
       "      <td>1341693157.00000</td>\n",
       "    </tr>\n",
       "    <tr>\n",
       "      <th>High</th>\n",
       "      <td>94.00000</td>\n",
       "      <td>694222791.41489</td>\n",
       "      <td>349115811.58020</td>\n",
       "      <td>276928112.00000</td>\n",
       "      <td>406808645.00000</td>\n",
       "      <td>652173957.00000</td>\n",
       "      <td>827990487.50000</td>\n",
       "      <td>2208208395.00000</td>\n",
       "    </tr>\n",
       "    <tr>\n",
       "      <th>Top 5%</th>\n",
       "      <td>24.00000</td>\n",
       "      <td>1051603287.87500</td>\n",
       "      <td>570091364.21653</td>\n",
       "      <td>282778100.00000</td>\n",
       "      <td>755167155.00000</td>\n",
       "      <td>952972238.00000</td>\n",
       "      <td>1163763626.50000</td>\n",
       "      <td>2776345279.00000</td>\n",
       "    </tr>\n",
       "  </tbody>\n",
       "</table>\n",
       "</div>"
      ],
      "text/plain": [
       "                 count              mean              std              min  \\\n",
       "budget_bins                                                                  \n",
       "Low          126.00000   471246241.38095  209722262.67235  276014965.00000   \n",
       "Middle       125.00000   544765613.80000  228249860.93743  280355920.00000   \n",
       "High          94.00000   694222791.41489  349115811.58020  276928112.00000   \n",
       "Top 5%        24.00000  1051603287.87500  570091364.21653  282778100.00000   \n",
       "\n",
       "                         25%              50%               75%  \\\n",
       "budget_bins                                                       \n",
       "Low          328938768.00000  376943790.00000   532681270.25000   \n",
       "Middle       370098020.00000  490875846.00000   644602516.00000   \n",
       "High         406808645.00000  652173957.00000   827990487.50000   \n",
       "Top 5%       755167155.00000  952972238.00000  1163763626.50000   \n",
       "\n",
       "                          max  \n",
       "budget_bins                    \n",
       "Low          1160336173.00000  \n",
       "Middle       1341693157.00000  \n",
       "High         2208208395.00000  \n",
       "Top 5%       2776345279.00000  "
      ]
     },
     "execution_count": 188,
     "metadata": {},
     "output_type": "execute_result"
    }
   ],
   "source": [
    "# Group dataframe by bins and control for scientific notation to see box and whisker values\n",
    "\n",
    "top_budget.groupby(['budget_bins'])['worldwide_gross'].describe().apply(lambda s: s.apply('{0:.5f}'.format))"
   ]
  },
  {
   "cell_type": "markdown",
   "metadata": {},
   "source": [
    "Above, we can take a closer look at the values shown in the box and whisker plot. Below is a reference point to remind ourselves of the spread of the data within each of our budget bins. "
   ]
  },
  {
   "cell_type": "code",
   "execution_count": 189,
   "metadata": {},
   "outputs": [
    {
     "data": {
      "text/html": [
       "<div>\n",
       "<style scoped>\n",
       "    .dataframe tbody tr th:only-of-type {\n",
       "        vertical-align: middle;\n",
       "    }\n",
       "\n",
       "    .dataframe tbody tr th {\n",
       "        vertical-align: top;\n",
       "    }\n",
       "\n",
       "    .dataframe thead th {\n",
       "        text-align: right;\n",
       "    }\n",
       "</style>\n",
       "<table border=\"1\" class=\"dataframe\">\n",
       "  <thead>\n",
       "    <tr style=\"text-align: right;\">\n",
       "      <th></th>\n",
       "      <th>count</th>\n",
       "      <th>mean</th>\n",
       "      <th>std</th>\n",
       "      <th>min</th>\n",
       "      <th>25%</th>\n",
       "      <th>50%</th>\n",
       "      <th>75%</th>\n",
       "      <th>max</th>\n",
       "    </tr>\n",
       "    <tr>\n",
       "      <th>budget_bins</th>\n",
       "      <th></th>\n",
       "      <th></th>\n",
       "      <th></th>\n",
       "      <th></th>\n",
       "      <th></th>\n",
       "      <th></th>\n",
       "      <th></th>\n",
       "      <th></th>\n",
       "    </tr>\n",
       "  </thead>\n",
       "  <tbody>\n",
       "    <tr>\n",
       "      <th>Low</th>\n",
       "      <td>126.00000</td>\n",
       "      <td>88579385.86508</td>\n",
       "      <td>12946533.96208</td>\n",
       "      <td>67500000.00000</td>\n",
       "      <td>76500000.00000</td>\n",
       "      <td>87750000.00000</td>\n",
       "      <td>100000000.00000</td>\n",
       "      <td>110000000.00000</td>\n",
       "    </tr>\n",
       "    <tr>\n",
       "      <th>Middle</th>\n",
       "      <td>125.00000</td>\n",
       "      <td>138349600.00000</td>\n",
       "      <td>13479887.19202</td>\n",
       "      <td>111000000.00000</td>\n",
       "      <td>125000000.00000</td>\n",
       "      <td>140000000.00000</td>\n",
       "      <td>150000000.00000</td>\n",
       "      <td>160000000.00000</td>\n",
       "    </tr>\n",
       "    <tr>\n",
       "      <th>High</th>\n",
       "      <td>94.00000</td>\n",
       "      <td>188367021.27660</td>\n",
       "      <td>16833973.51044</td>\n",
       "      <td>165000000.00000</td>\n",
       "      <td>175000000.00000</td>\n",
       "      <td>185000000.00000</td>\n",
       "      <td>200000000.00000</td>\n",
       "      <td>225000000.00000</td>\n",
       "    </tr>\n",
       "    <tr>\n",
       "      <th>Top 5%</th>\n",
       "      <td>24.00000</td>\n",
       "      <td>282258333.33333</td>\n",
       "      <td>50530799.18888</td>\n",
       "      <td>230000000.00000</td>\n",
       "      <td>250000000.00000</td>\n",
       "      <td>267500000.00000</td>\n",
       "      <td>300000000.00000</td>\n",
       "      <td>425000000.00000</td>\n",
       "    </tr>\n",
       "  </tbody>\n",
       "</table>\n",
       "</div>"
      ],
      "text/plain": [
       "                 count             mean             std              min  \\\n",
       "budget_bins                                                                \n",
       "Low          126.00000   88579385.86508  12946533.96208   67500000.00000   \n",
       "Middle       125.00000  138349600.00000  13479887.19202  111000000.00000   \n",
       "High          94.00000  188367021.27660  16833973.51044  165000000.00000   \n",
       "Top 5%        24.00000  282258333.33333  50530799.18888  230000000.00000   \n",
       "\n",
       "                         25%              50%              75%  \\\n",
       "budget_bins                                                      \n",
       "Low           76500000.00000   87750000.00000  100000000.00000   \n",
       "Middle       125000000.00000  140000000.00000  150000000.00000   \n",
       "High         175000000.00000  185000000.00000  200000000.00000   \n",
       "Top 5%       250000000.00000  267500000.00000  300000000.00000   \n",
       "\n",
       "                         max  \n",
       "budget_bins                   \n",
       "Low          110000000.00000  \n",
       "Middle       160000000.00000  \n",
       "High         225000000.00000  \n",
       "Top 5%       425000000.00000  "
      ]
     },
     "execution_count": 189,
     "metadata": {},
     "output_type": "execute_result"
    }
   ],
   "source": [
    "# Group dataframe by bins and control for scientific notation to see budget bins info\n",
    "\n",
    "top_budget.groupby(['budget_bins'])['production_budget'].describe().apply(lambda s: s.apply('{0:.5f}'.format))"
   ]
  },
  {
   "cell_type": "markdown",
   "metadata": {},
   "source": [
    "Create a bar plot below to look at the bins in a different format."
   ]
  },
  {
   "cell_type": "code",
   "execution_count": 190,
   "metadata": {},
   "outputs": [
    {
     "data": {
      "image/png": "[encoded data removed]",
      "text/plain": [
       "<Figure size 720x576 with 1 Axes>"
      ]
     },
     "metadata": {},
     "output_type": "display_data"
    }
   ],
   "source": [
    "# Create bar plot\n",
    "\n",
    "# Create plot\n",
    "fig, ax = plt.subplots(figsize=(10, 8))\n",
    "\n",
    "# Control by millions of USD\n",
    "wgross = top_budget['worldwide_gross']/1000000\n",
    "\n",
    "# Add axes, data, and palette\n",
    "sns.barplot(x='budget_bins', y=wgross, data = top_budget, palette=\"Blues\")\n",
    "                                  \n",
    "# Improve layout \n",
    "plt.tight_layout()\n",
    "\n",
    "# Add a legend and informative axis label\n",
    "ax.set(xlabel=\"Budget Categories\", ylabel= 'Worldwide Grossing (in Millions USD)',\n",
    "       title = \"Highest Grossing Films by Budget Distribution\");"
   ]
  },
  {
   "cell_type": "markdown",
   "metadata": {},
   "source": [
    "## Question Three\n",
    "### What Other Trends Impact ROI?"
   ]
  },
  {
   "cell_type": "markdown",
   "metadata": {},
   "source": [
    "#### Which month are the most movies released? Which month within the Top 10% of ROI? Which month generates the highest average ROI?"
   ]
  },
  {
   "cell_type": "code",
   "execution_count": 191,
   "metadata": {},
   "outputs": [
    {
     "data": {
      "image/png": "[encoded data removed]",
      "text/plain": [
       "<Figure size 1152x360 with 3 Axes>"
      ]
     },
     "metadata": {},
     "output_type": "display_data"
    }
   ],
   "source": [
    "# Create three plots \n",
    "\n",
    "# Apply the default theme\n",
    "sns.set_style(\"white\")\n",
    "\n",
    "# Create plot with 1 row, 3 columns\n",
    "fig, (ax1,ax2,ax3) = plt.subplots(1,3, figsize=(16,5)) \n",
    "\n",
    "# Organize month order \n",
    "months = ['January', 'February', 'March', 'April', 'May', 'June',  'July',\n",
    "          'August', 'September', 'October', 'November', 'December']\n",
    "\n",
    "# Specify axes, data, which plot is which, palette, and month order\n",
    "sns.barplot(x = 'months', y = 'frequency', data = full_month_df, ax = ax1, palette = 'Blues', order=months)\n",
    "sns.barplot(x = 'release_month', y = 'worldwide_ROI', data = top_months, ax = ax2, palette = 'Oranges', order=months)\n",
    "sns.barplot(x = 'release_month', y = 'worldwide_ROI', data = roi_by_month, ax = ax3, palette = 'Greens', order=months)\n",
    "\n",
    "# Improve layout \n",
    "plt.tight_layout()\n",
    "\n",
    "# Rotate x axis labels for readability \n",
    "ax1.tick_params(axis='x', labelrotation=45)\n",
    "ax2.tick_params(axis='x', labelrotation=45)\n",
    "ax3.tick_params(axis='x', labelrotation=45)\n",
    "\n",
    "# Add a legend and informative axis label\n",
    "ax1.set(xlabel=\"Month\", ylabel = \"Count\", \n",
    "       title = \"Release Month by Count\")\n",
    "\n",
    "ax2.set(xlabel=\"Month\", ylabel = \"Count within top 10% ROI\", \n",
    "       title = \"Release Month Count, From Top 10% ROI's\")\n",
    "\n",
    "ax3.set(xlabel=\"Month\", ylabel = \"Average ROI (%)\", \n",
    "       title = \"Release Month by Average ROI\");"
   ]
  },
  {
   "cell_type": "markdown",
   "metadata": {},
   "source": [
    "This data is interesting as the most common release month in all films is `December`, however, the most common release month in the films that performed with the highest 10% of returns is tied at `December` and `October` with 57 films, followed very closely behind by `July` and `June` with 56 films. Although these trends are valuable, they do not factor in our ROI, which is how we are measuring film success. The bar plot on the far right shows us that films that are released in `June` far exceed films released in any other month when looking at average ROI generated. In fact, the next highest month by ROI is `July`, which sees returns that are nearly 200% fewer than that of June."
   ]
  },
  {
   "cell_type": "markdown",
   "metadata": {},
   "source": [
    "#### How is the runtime data distributed? How does this data relate to ROI?"
   ]
  },
  {
   "cell_type": "code",
   "execution_count": 192,
   "metadata": {},
   "outputs": [
    {
     "data": {
      "image/png": "[encoded data removed]",
      "text/plain": [
       "<Figure size 504x288 with 1 Axes>"
      ]
     },
     "metadata": {},
     "output_type": "display_data"
    }
   ],
   "source": [
    "# Look at histogram to see distribution \n",
    "\n",
    "# Create plot\n",
    "fig, ax = plt.subplots(figsize=(7,4))\n",
    "\n",
    "# Specify axes, data, and bins\n",
    "sns.histplot(x = 'runtime_minutes', data = runtime_df, bins=16)\n",
    "\n",
    "# Improve layout \n",
    "plt.tight_layout()\n",
    "\n",
    "# Add a legend and informative axis label\n",
    "ax.set(xlabel=\"Runtime (in Minutes)\", \n",
    "       title = \"Runtime Distribution\");"
   ]
  },
  {
   "cell_type": "markdown",
   "metadata": {},
   "source": [
    "We see above that the runtime data is relatively normal, centered around 100 minutes. "
   ]
  },
  {
   "cell_type": "code",
   "execution_count": 193,
   "metadata": {},
   "outputs": [
    {
     "data": {
      "image/png": "[encoded data removed]",
      "text/plain": [
       "<Figure size 864x504 with 1 Axes>"
      ]
     },
     "metadata": {},
     "output_type": "display_data"
    }
   ],
   "source": [
    "# Look at runtime versus ROI in scatterplot\n",
    "\n",
    "# Create plot\n",
    "fig, ax = plt.subplots(figsize=(12, 7))\n",
    "\n",
    "# Specify axes and data \n",
    "sns.scatterplot(x= 'runtime_minutes', y= 'worldwide_ROI', data = runtime_df)\n",
    "\n",
    "# Improve layout \n",
    "plt.tight_layout()\n",
    "\n",
    "# Add a legend and informative axis label\n",
    "ax.set(xlabel=\"Runtime (in Minutes)\", ylabel = \"Worldwide ROI (%)\", \n",
    "       title = \"Runtime versus Worldwide ROI\");\n",
    "\n"
   ]
  },
  {
   "cell_type": "markdown",
   "metadata": {},
   "source": [
    "We can see the basic relationship here, where we have outliers, but can see that the majority of films are concentrated around the 100 minute mark, where our markers shift in height and we can see an ROI increase surrounding that minute mark. We will split our ROI data into bins, and look at how that distribution relates to runtime in more detail below."
   ]
  },
  {
   "cell_type": "code",
   "execution_count": 194,
   "metadata": {
    "scrolled": false
   },
   "outputs": [
    {
     "data": {
      "image/png": "[encoded data removed]",
      "text/plain": [
       "<Figure size 720x504 with 1 Axes>"
      ]
     },
     "metadata": {},
     "output_type": "display_data"
    }
   ],
   "source": [
    "# Use ROI bins to create a box and whisker plot\n",
    "\n",
    "# Create plot\n",
    "fig, ax = plt.subplots(figsize=(10, 7))\n",
    "\n",
    "# Add axes, data, palette, and remove outliers \n",
    "sns.boxplot(x='ROI_bins', y='runtime_minutes', data = runtime_df, palette=\"autumn\", showfliers=False)\n",
    "                                  \n",
    "# Improve layout \n",
    "plt.tight_layout()\n",
    "\n",
    "# Add a legend and informative axis label\n",
    "ax.set(xlabel=\"ROI categories\", ylabel= 'Runtime (in Minutes)',\n",
    "       title = \"Worldwide ROI Distribution by Runtime Minutes\");"
   ]
  },
  {
   "cell_type": "markdown",
   "metadata": {},
   "source": [
    "We see that the runtime minutes revolve around the 100 minute mark. There is a slight shift in interquartile range and median for each ROI category. What is most significant is that the IQR for the top 5% of our ROI has the shortest runtime minutes, with a median of `99 minutes`. Our other ROI categories are all `102 minute or higher`. There are few films that are longer than `110-118 minutes` according to our 75th quartile. There are also few films shorter than `87-96 minutes` according to our 25th quartile. This will help us be more precise when making a runtime recommendation to Microsoft."
   ]
  },
  {
   "cell_type": "code",
   "execution_count": 195,
   "metadata": {},
   "outputs": [
    {
     "data": {
      "text/html": [
       "<div>\n",
       "<style scoped>\n",
       "    .dataframe tbody tr th:only-of-type {\n",
       "        vertical-align: middle;\n",
       "    }\n",
       "\n",
       "    .dataframe tbody tr th {\n",
       "        vertical-align: top;\n",
       "    }\n",
       "\n",
       "    .dataframe thead th {\n",
       "        text-align: right;\n",
       "    }\n",
       "</style>\n",
       "<table border=\"1\" class=\"dataframe\">\n",
       "  <thead>\n",
       "    <tr style=\"text-align: right;\">\n",
       "      <th></th>\n",
       "      <th>count</th>\n",
       "      <th>mean</th>\n",
       "      <th>std</th>\n",
       "      <th>min</th>\n",
       "      <th>25%</th>\n",
       "      <th>50%</th>\n",
       "      <th>75%</th>\n",
       "      <th>max</th>\n",
       "    </tr>\n",
       "    <tr>\n",
       "      <th>ROI_bins</th>\n",
       "      <th></th>\n",
       "      <th></th>\n",
       "      <th></th>\n",
       "      <th></th>\n",
       "      <th></th>\n",
       "      <th></th>\n",
       "      <th></th>\n",
       "      <th></th>\n",
       "    </tr>\n",
       "  </thead>\n",
       "  <tbody>\n",
       "    <tr>\n",
       "      <th>Low</th>\n",
       "      <td>524.00000</td>\n",
       "      <td>101.18702</td>\n",
       "      <td>23.01416</td>\n",
       "      <td>1.00000</td>\n",
       "      <td>91.00000</td>\n",
       "      <td>102.00000</td>\n",
       "      <td>113.00000</td>\n",
       "      <td>172.00000</td>\n",
       "    </tr>\n",
       "    <tr>\n",
       "      <th>Middle</th>\n",
       "      <td>524.00000</td>\n",
       "      <td>105.67176</td>\n",
       "      <td>24.00811</td>\n",
       "      <td>5.00000</td>\n",
       "      <td>96.00000</td>\n",
       "      <td>104.00000</td>\n",
       "      <td>118.00000</td>\n",
       "      <td>312.00000</td>\n",
       "    </tr>\n",
       "    <tr>\n",
       "      <th>High</th>\n",
       "      <td>419.00000</td>\n",
       "      <td>105.19809</td>\n",
       "      <td>22.71619</td>\n",
       "      <td>7.00000</td>\n",
       "      <td>93.00000</td>\n",
       "      <td>103.00000</td>\n",
       "      <td>117.00000</td>\n",
       "      <td>170.00000</td>\n",
       "    </tr>\n",
       "    <tr>\n",
       "      <th>Top 5%</th>\n",
       "      <td>105.00000</td>\n",
       "      <td>99.64762</td>\n",
       "      <td>23.40980</td>\n",
       "      <td>8.00000</td>\n",
       "      <td>87.00000</td>\n",
       "      <td>99.00000</td>\n",
       "      <td>110.00000</td>\n",
       "      <td>169.00000</td>\n",
       "    </tr>\n",
       "  </tbody>\n",
       "</table>\n",
       "</div>"
      ],
      "text/plain": [
       "              count       mean       std      min       25%        50%  \\\n",
       "ROI_bins                                                                 \n",
       "Low       524.00000  101.18702  23.01416  1.00000  91.00000  102.00000   \n",
       "Middle    524.00000  105.67176  24.00811  5.00000  96.00000  104.00000   \n",
       "High      419.00000  105.19809  22.71619  7.00000  93.00000  103.00000   \n",
       "Top 5%    105.00000   99.64762  23.40980  8.00000  87.00000   99.00000   \n",
       "\n",
       "                75%        max  \n",
       "ROI_bins                        \n",
       "Low       113.00000  172.00000  \n",
       "Middle    118.00000  312.00000  \n",
       "High      117.00000  170.00000  \n",
       "Top 5%    110.00000  169.00000  "
      ]
     },
     "execution_count": 195,
     "metadata": {},
     "output_type": "execute_result"
    }
   ],
   "source": [
    "# Group dataframe by bins and control for scientific notation to see box and whisker values\n",
    "\n",
    "runtime_df.groupby(['ROI_bins'])['runtime_minutes'].describe().apply(lambda s: s.apply('{0:.5f}'.format))"
   ]
  },
  {
   "cell_type": "code",
   "execution_count": 196,
   "metadata": {},
   "outputs": [
    {
     "data": {
      "text/html": [
       "<div>\n",
       "<style scoped>\n",
       "    .dataframe tbody tr th:only-of-type {\n",
       "        vertical-align: middle;\n",
       "    }\n",
       "\n",
       "    .dataframe tbody tr th {\n",
       "        vertical-align: top;\n",
       "    }\n",
       "\n",
       "    .dataframe thead th {\n",
       "        text-align: right;\n",
       "    }\n",
       "</style>\n",
       "<table border=\"1\" class=\"dataframe\">\n",
       "  <thead>\n",
       "    <tr style=\"text-align: right;\">\n",
       "      <th></th>\n",
       "      <th>count</th>\n",
       "      <th>mean</th>\n",
       "      <th>std</th>\n",
       "      <th>min</th>\n",
       "      <th>25%</th>\n",
       "      <th>50%</th>\n",
       "      <th>75%</th>\n",
       "      <th>max</th>\n",
       "    </tr>\n",
       "    <tr>\n",
       "      <th>ROI_bins</th>\n",
       "      <th></th>\n",
       "      <th></th>\n",
       "      <th></th>\n",
       "      <th></th>\n",
       "      <th></th>\n",
       "      <th></th>\n",
       "      <th></th>\n",
       "      <th></th>\n",
       "    </tr>\n",
       "  </thead>\n",
       "  <tbody>\n",
       "    <tr>\n",
       "      <th>Low</th>\n",
       "      <td>524.00000</td>\n",
       "      <td>31.28134</td>\n",
       "      <td>36.21394</td>\n",
       "      <td>-27.56929</td>\n",
       "      <td>0.39663</td>\n",
       "      <td>31.68428</td>\n",
       "      <td>61.65694</td>\n",
       "      <td>98.43852</td>\n",
       "    </tr>\n",
       "    <tr>\n",
       "      <th>Middle</th>\n",
       "      <td>524.00000</td>\n",
       "      <td>186.74200</td>\n",
       "      <td>56.07139</td>\n",
       "      <td>98.63536</td>\n",
       "      <td>137.45744</td>\n",
       "      <td>176.77871</td>\n",
       "      <td>231.73592</td>\n",
       "      <td>295.22899</td>\n",
       "    </tr>\n",
       "    <tr>\n",
       "      <th>High</th>\n",
       "      <td>419.00000</td>\n",
       "      <td>543.98978</td>\n",
       "      <td>209.23706</td>\n",
       "      <td>295.57043</td>\n",
       "      <td>372.66200</td>\n",
       "      <td>482.99800</td>\n",
       "      <td>686.88705</td>\n",
       "      <td>1080.87991</td>\n",
       "    </tr>\n",
       "    <tr>\n",
       "      <th>Top 5%</th>\n",
       "      <td>105.00000</td>\n",
       "      <td>3478.43254</td>\n",
       "      <td>5861.61432</td>\n",
       "      <td>1082.33405</td>\n",
       "      <td>1300.14973</td>\n",
       "      <td>1853.44516</td>\n",
       "      <td>2824.26023</td>\n",
       "      <td>41556.47400</td>\n",
       "    </tr>\n",
       "  </tbody>\n",
       "</table>\n",
       "</div>"
      ],
      "text/plain": [
       "              count        mean         std         min         25%  \\\n",
       "ROI_bins                                                              \n",
       "Low       524.00000    31.28134    36.21394   -27.56929     0.39663   \n",
       "Middle    524.00000   186.74200    56.07139    98.63536   137.45744   \n",
       "High      419.00000   543.98978   209.23706   295.57043   372.66200   \n",
       "Top 5%    105.00000  3478.43254  5861.61432  1082.33405  1300.14973   \n",
       "\n",
       "                 50%         75%          max  \n",
       "ROI_bins                                       \n",
       "Low         31.68428    61.65694     98.43852  \n",
       "Middle     176.77871   231.73592    295.22899  \n",
       "High       482.99800   686.88705   1080.87991  \n",
       "Top 5%    1853.44516  2824.26023  41556.47400  "
      ]
     },
     "execution_count": 196,
     "metadata": {},
     "output_type": "execute_result"
    }
   ],
   "source": [
    "# Group dataframe by bins and control for scientific notation to see ROI bin info \n",
    "\n",
    "runtime_df.groupby(['ROI_bins'])['worldwide_ROI'].describe().apply(lambda s: s.apply('{0:.5f}'.format))"
   ]
  },
  {
   "cell_type": "markdown",
   "metadata": {},
   "source": [
    "#### Which studio has released the most films? Which within the Top 10% of ROI? Which studio generates the highest average ROI?"
   ]
  },
  {
   "cell_type": "code",
   "execution_count": 197,
   "metadata": {},
   "outputs": [
    {
     "data": {
      "image/png": "[encoded data removed]",
      "text/plain": [
       "<Figure size 1152x360 with 3 Axes>"
      ]
     },
     "metadata": {},
     "output_type": "display_data"
    }
   ],
   "source": [
    "# Create 3 plots\n",
    "\n",
    "# Create loop for color to highlight highest value\n",
    "v1 = studio_count_df['frequency']\n",
    "c1 = ['grey' if (x < max(v1)) else 'green' for x in v1]\n",
    "\n",
    "v2 = top_studio['worldwide_ROI']\n",
    "c2 = ['grey' if (x < max(v2)) else 'green' for x in v2]\n",
    "\n",
    "v3 = roi_by_studio['worldwide_ROI']\n",
    "c3 = ['grey' if (x < max(v3)) else 'green' for x in v3]\n",
    "\n",
    "# Create 1 row, 3 columns\n",
    "fig, (ax1,ax2,ax3) = plt.subplots(1,3, figsize=(16,5)) \n",
    "\n",
    "# Specify axes, data, which plot is which, and palette\n",
    "sns.barplot(x = 'studio', y = 'frequency', data = studio_count_df, ax = ax1, palette = c1)\n",
    "sns.barplot(x = 'studio', y = 'worldwide_ROI', data = top_studio, ax = ax2, palette = c2)\n",
    "sns.barplot(x = 'studio', y = 'worldwide_ROI', data = roi_by_studio, ax = ax3, palette = c3)\n",
    "\n",
    "# Improve layout \n",
    "plt.tight_layout()\n",
    "\n",
    "# Rotate x axis labels\n",
    "ax1.tick_params(axis='x', labelrotation=65)\n",
    "ax2.tick_params(axis='x', labelrotation=65)\n",
    "ax3.tick_params(axis='x', labelrotation=65)\n",
    "\n",
    "# Add a legend and informative axis label\n",
    "ax1.set(xlabel=\"Studio\", ylabel = \"Count\", \n",
    "       title = \"Studio Film Release Count\")\n",
    "\n",
    "ax2.set(xlabel=\"Studio\", ylabel = \"Count within top 10% ROI\", \n",
    "       title = \"Studio Film Release Count, From Top 10% ROI's\")\n",
    "\n",
    "ax3.set(xlabel=\"Studio\", ylabel = \"Average ROI (%)\", \n",
    "       title = \"Studio by Average ROI Generated\");"
   ]
  },
  {
   "cell_type": "markdown",
   "metadata": {},
   "source": [
    "We see that `Fox` studio has produced and/or distributed the highest number of films in our data, historically, with `156 films`. Fox is followed closely behind by `Warner Bros.` studios. For those films with the top 10% ROI, we see that `Universal` studios outperforms all other studios with `27 films`. The next closest competitor is `Fox` who comes in with `16 films`. Looking at which studio has produced the highest average ROI historically, `UTV` Motion Pictures comes in with over `1,000% return`, followed by `FD - FilmDistrict` also over `1,000% return`. "
   ]
  },
  {
   "cell_type": "code",
   "execution_count": 198,
   "metadata": {},
   "outputs": [
    {
     "data": {
      "text/html": [
       "<div>\n",
       "<style scoped>\n",
       "    .dataframe tbody tr th:only-of-type {\n",
       "        vertical-align: middle;\n",
       "    }\n",
       "\n",
       "    .dataframe tbody tr th {\n",
       "        vertical-align: top;\n",
       "    }\n",
       "\n",
       "    .dataframe thead th {\n",
       "        text-align: right;\n",
       "    }\n",
       "</style>\n",
       "<table border=\"1\" class=\"dataframe\">\n",
       "  <thead>\n",
       "    <tr style=\"text-align: right;\">\n",
       "      <th></th>\n",
       "      <th>studio</th>\n",
       "    </tr>\n",
       "    <tr>\n",
       "      <th>movie</th>\n",
       "      <th></th>\n",
       "    </tr>\n",
       "  </thead>\n",
       "  <tbody>\n",
       "    <tr>\n",
       "      <th>Dabangg</th>\n",
       "      <td>Eros</td>\n",
       "    </tr>\n",
       "    <tr>\n",
       "      <th>Housefull</th>\n",
       "      <td>Eros</td>\n",
       "    </tr>\n",
       "    <tr>\n",
       "      <th>Golmaal 3</th>\n",
       "      <td>Eros</td>\n",
       "    </tr>\n",
       "    <tr>\n",
       "      <th>Anjaana Anjaani</th>\n",
       "      <td>Eros</td>\n",
       "    </tr>\n",
       "    <tr>\n",
       "      <th>Khatta Meetha</th>\n",
       "      <td>Eros</td>\n",
       "    </tr>\n",
       "  </tbody>\n",
       "</table>\n",
       "</div>"
      ],
      "text/plain": [
       "                studio\n",
       "movie                 \n",
       "Dabangg           Eros\n",
       "Housefull         Eros\n",
       "Golmaal 3         Eros\n",
       "Anjaana Anjaani   Eros\n",
       "Khatta Meetha     Eros"
      ]
     },
     "execution_count": 198,
     "metadata": {},
     "output_type": "execute_result"
    }
   ],
   "source": [
    "# We notice the studios in our third plot vary from our other two, let's look at this for our evaluation\n",
    "\n",
    "# Pull up films by studio to look closer at the lesser known studios\n",
    "bom_df.loc[bom_df['studio'] == 'Eros'].head()"
   ]
  },
  {
   "cell_type": "markdown",
   "metadata": {},
   "source": [
    "## Evaluation\n",
    "\n",
    "***\n",
    "We looked at our models above, by question, and evaluated each question individually to come up with separate recommendations to Microsoft. \n",
    "\n",
    "#### Question One\n",
    "\n",
    "For **actors, directors and writers**, the bar plots helped us look at how often individuals have appeared in films and the making of them over time, and how that compares to the returns they have helped generate. We are making our recommendation based on the personnel with the highest ROI in all films, as well as specifically those films with the top 25% returns. We see there is a lot of overlap here, which makes us even more confident in these recommendations. One thing we will be mindful of, is that a specific actor, director, or writer is not a solve all and should not be the only focus when creating films. That being said, our data and analysis makes it abundantly clear that having high quality actors, directors, and writers is likely to lead to a profitable film and high returns. It is no accident that many of these figures are household names, and no surprise that the numbers further validate their reputations. \n",
    "\n",
    "We will be crystal clear in communicating to Microsoft that there will be many other actors, directors, and writers who have the potential to create successful films. That being said, we will recommend Microsoft consider casting **`Kristen Wiig`, `Channing Tatum`, `Dwayne Johnson`, and `Jennifer Lawrence`**. We selected these actors based on their overall and top ROI’s, where we saw a lot of overlap. We will recommend Microsoft considers directors **`Steven Soderbergh`, `James Wan`, `Steven Spielberg`, and `Tim Story`,**, all selected by their ROI. For directors and writers, we focused more on overall average ROI rather than just in the top 25%. We did this because we felt since there was not a lot of overlap, we would be more confident recommending directors and writers to Microsoft who have seen the most returns overtime, inlcuding in their lesser performing films, rather than just looking at their successful moments. With that being said, we will recommend that Microsoft looks to writers **`Guillermo del Toro`, `Oren Peli`, `Larry Lieber`, and `Stan Lee`**, all selected from our ROI calculations. \n",
    "***\n",
    "#### Question Two\n",
    "\n",
    "For **production budget**, we looked at a scatterplot to see the correlation between budget and worldwide gross. We saw a positive but not incredibly strong relationship there. This helped us decide to narrow down our models a bit, and split the data based on high and low grossing films. We looked at the distribution of the two categories in histograms. Knowing our goal is to help Microsoft bring in as much money as possible, we decided to narrow in on the highest grossing films, searching for any budget patterns in that data. The box and whisker plot helped us look at the budget bins we created, the grossing distribution among those bins. We also looked at this in a bar plot, which was repetitive but helpful to see in another format. Overall, our box and whisker plot helped lead us to our precise budget recommendation.\n",
    "\n",
    "We saw that by increasing a budget of about 67.5-110 million USD, to 111-160 million the median gross only increases about 100 million. (From 377-490 million). That is not to say this is insignificant, but when looking at returns, you are on average increasing the budget by 100 million and getting 100 million back. The same holds true when you increase the budget from 111 million-160 million, to 168-225 million, the median gross increases from 645-828 million. We saw in our highest budget bins, by increasing the budget from 165-225 million to 230-425 million, the median gross increases from 652 million to 926 million. Again, significant returns, but on a similar scale. \n",
    "\n",
    "Finally, increasing the budget from **268-300 million leads to a grossing increase from 953-1,164 million** and **increasing the budget from 300-425 million leads to a grossing increase from 1,164-2,776 million**. These numbers are much more significant. In the last example, we only increase the budget by 125 million, but our gross increases nearly 13 times that at 1,612 million dollars. With this information, we will inform Microsoft that increasing budget in the range of **68-268 million** is likely to see returns on a similar scale, not far from 1:1. However, once you **increase the budget beyond 268 million**, the rate of return may begin to increase dramatically.\n",
    "\n",
    "***\n",
    "#### Question Three\n",
    "\n",
    "For **release month**, the bar plots helped us easily compare the frequency of occurrence and average ROI of each month. Although the overall count of occurrences is important, we saw that December was the most common release month, but was low when it came to generating ROI. However, when it came to looking only at occurrences of films that were in the top 10% of returns, June sneaks in there, as well as July, October, and December. Once we took it one step further, only looking at average ROI per month, **June came out on top**. **This is the month that we will recommend to Microsoft**, seeing as our measure of success is ROI, and on average, releasing a film in June has historically seen over a 700% return on average. We want to equip Microsoft with as thorough and comprehensive of a recommendation as possible. Because of this we will mention that after June, we recommend releasing films in **July, October, and December**, in respective order.\n",
    "\n",
    "For **runtime**, the histogram and scatterplot were helpful, but only looked at the runtime data on its own. These plots helped us decide to bin our ROI data to get a better look at how runtime spread among different categories of return for films. **We will recommend the range of runtime minutes** from the 50%-75% percentiles of the Top 5% of our data. This is the **range of 99-110 minutes**. We will advise Microsoft **not dip below 99 minutes**, and if anything **let runtime run up until 118 minutes**, but not above that point. 118 minutes is the longest runtime that we see at the 75% runtime mark of our bins. By doing this, we are also including the runtime metrics that we see in 50% of all other bins of our data, so we can be confident that these runtimes have historically and will continue to lead to high returns on films. \n",
    "\n",
    "For **studio**, we saw that when we looked at average ROI, instead of studio counts, our recommendation would change significantly. Looking closer at studios with the highest average ROI, we saw many of them are international studios. Emulating the practices of international studios may not provide Microsoft with the best environment to be successful domestically. For instance, UTV is known as Walt Disney Studio Films in India. Earlier, we grouped many of the obvious studio labels together, but also did not want to skew the data grouping labels that may have been less appropriate. Now we know that:\n",
    "\n",
    "* `the Orchard` is a subsidiary of `Sony`, and `Tristar Pictures` is a member of the `Sony Motion Picture Group`. \n",
    "* `GrtIndia` only has one film in our data, with a sample size of one, this is not a studio we would recommend to Microsoft. \n",
    "* `BH Tilt`, known as Blumhouse Production, has produced Paranormal Activity, Insidious, The Purge, etc. This is a production company specializing in a particular genre (Haunted), so again, we would be mindful recommending this to Microsoft. \n",
    "* `Eros` is an Indian motion picture production and distribution company, they have generated a very high return over time, but again, we would be mindful advising Microsoft to use international studios. \n",
    "\n",
    "Because of this analysis, our studio recommendation focuses on the overlap of studios in our studio count by top 10% ROI and the average ROI of those studios in our plots. This leaves us recommending Microsoft look to studios, studio members, and studio subsidiaries of **Universal, Warner Brothers, Paramount, and Sony.** "
   ]
  },
  {
   "cell_type": "markdown",
   "metadata": {},
   "source": [
    "## Conclusions and Recommendations \n",
    "\n",
    "Now that we have evaluated all the data, we can list out our actionable recommendations. We will be able to provide Microsoft with these recommendations, advising the company with how best to proceed with its venture into the video content industry.\n",
    "*** \n",
    "\n",
    "Our first question involved us analyzing actors, directors, and writers. We recommend:\n",
    "* Considering casting **Kristen Wiig, Channing Tatum, Dwayne Johnson, and Jennifer Lawrence**\n",
    "* Considering directors **Steven Soderbergh, James Wan, Steven Spielberg, and Tim Story**\n",
    "* Considering writers **Guillermo del Toro, Oren Peli, Larry Lieber, and Stan Lee**\n",
    "\n",
    "***\n",
    "\n",
    "Our second question involved us exploring production budget values that have been historically successful. We recommend:\n",
    "* Keeping the budget in the range of **68-268 million USD**\n",
    "* **OR** increasing the budget above **268 million USD**\n",
    "\n",
    "***\n",
    "\n",
    "Our third question aimed to see how other characteristics of movies may lead to a higher return on investment. We recommend: \n",
    "* Releasing films in **June**, followed by **July, October, and December**\n",
    "* Limiting films to a runtime of **99-110 minutes**, **no shorter than 99 minutes and no longer than 118 minutes**\n",
    "* Emulating **Universal, Warner Brothers, Paramount, and Sony** studios\n"
   ]
  },
  {
   "cell_type": "markdown",
   "metadata": {},
   "source": [
    "#### Citations Referenced\n",
    "\n",
    "* https://stackoverflow.com/questions/37625334/python-pandas-convert-month-int-to-month-name\n",
    "* https://stackoverflow.com/questions/13035764/remove-pandas-rows-with-duplicate-indices\n",
    "* https://stackoverflow.com/questions/47164362/what-does-a-symbol-do\n",
    "* https://stackoverflow.com/questions/35939552/pandas-using-the-tilde-operator-to-return-inverse-data-with-two-filters\n",
    "* https://stackoverflow.com/questions/35939552/pandas-using-the-tilde-operator-to-return-inverse-data-with-two-filters\n",
    "* https://stackoverflow.com/questions/43175382/python-create-a-pandas-data-frame-from-a-list\n",
    "* https://stackoverflow.com/questions/49382207/how-to-map-numeric-data-into-categories-bins-in-pandas-dataframe"
   ]
  }
 ],
 "metadata": {
  "kernelspec": {
   "display_name": "Python 3",
   "language": "python",
   "name": "python3"
  },
  "language_info": {
   "codemirror_mode": {
    "name": "ipython",
    "version": 3
   },
   "file_extension": ".py",
   "mimetype": "text/x-python",
   "name": "python",
   "nbconvert_exporter": "python",
   "pygments_lexer": "ipython3",
   "version": "3.8.5"
  }
 },
 "nbformat": 4,
 "nbformat_minor": 4
}
